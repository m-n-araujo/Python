{
 "cells": [
  {
   "cell_type": "code",
   "execution_count": null,
   "id": "f33adefe",
   "metadata": {},
   "outputs": [],
   "source": [
    "# Import libraries\n",
    "import pandas as pd\n",
    "import numpy as np\n",
    "import os"
   ]
  },
  {
   "cell_type": "markdown",
   "id": "58dd427a",
   "metadata": {},
   "source": [
    "#Python data types"
   ]
  },
  {
   "cell_type": "code",
   "execution_count": 3,
   "id": "64b0dbab",
   "metadata": {},
   "outputs": [
    {
     "name": "stdout",
     "output_type": "stream",
     "text": [
      "100\n"
     ]
    }
   ],
   "source": [
    "X= 20\n",
    "X + 80\n",
    "print(X + 80)"
   ]
  },
  {
   "cell_type": "code",
   "execution_count": 6,
   "id": "ec06ec55",
   "metadata": {},
   "outputs": [
    {
     "name": "stdout",
     "output_type": "stream",
     "text": [
      "100\n"
     ]
    }
   ],
   "source": [
    "y = 50\n",
    "x = 40\n",
    "z = 10\n",
    "print(x+y+z)"
   ]
  },
  {
   "cell_type": "code",
   "execution_count": 7,
   "id": "3e522fbf",
   "metadata": {},
   "outputs": [
    {
     "name": "stdout",
     "output_type": "stream",
     "text": [
      "100\n"
     ]
    }
   ],
   "source": [
    "x= 120\n",
    "y = 20\n",
    "print(x-y)"
   ]
  },
  {
   "cell_type": "code",
   "execution_count": 8,
   "id": "8dd42b15",
   "metadata": {},
   "outputs": [
    {
     "name": "stdout",
     "output_type": "stream",
     "text": [
      "120\n"
     ]
    }
   ],
   "source": [
    "print(x)"
   ]
  },
  {
   "cell_type": "code",
   "execution_count": 9,
   "id": "dc736c4b",
   "metadata": {},
   "outputs": [
    {
     "name": "stdout",
     "output_type": "stream",
     "text": [
      "20\n"
     ]
    }
   ],
   "source": [
    "print(X)"
   ]
  },
  {
   "cell_type": "code",
   "execution_count": null,
   "id": "31fc4b01",
   "metadata": {},
   "outputs": [],
   "source": [
    "# I realized that with the variables values is case sensitive"
   ]
  },
  {
   "cell_type": "code",
   "execution_count": 10,
   "id": "0e2e2bcc",
   "metadata": {},
   "outputs": [
    {
     "name": "stdout",
     "output_type": "stream",
     "text": [
      "0.5078299776286354\n"
     ]
    }
   ],
   "source": [
    "a = 2.27\n",
    "b = 4.47\n",
    "print (a/b)"
   ]
  },
  {
   "cell_type": "code",
   "execution_count": 12,
   "id": "f4060c06",
   "metadata": {},
   "outputs": [
    {
     "name": "stdout",
     "output_type": "stream",
     "text": [
      "martin, araujo\n"
     ]
    }
   ],
   "source": [
    "c = 'martin,'\n",
    "d = ' araujo'\n",
    "e = c + d\n",
    "print(e)"
   ]
  },
  {
   "cell_type": "code",
   "execution_count": 13,
   "id": "9a058724",
   "metadata": {},
   "outputs": [
    {
     "name": "stdout",
     "output_type": "stream",
     "text": [
      "martin,martin,martin,martin,martin,martin,martin,martin,martin,martin,martin,martin,martin,martin,martin,martin,martin,martin,martin,martin,martin,martin,martin,martin,martin,martin,martin,martin,martin,martin,martin,martin,martin,martin,martin,martin,martin,martin,martin,martin,martin,martin,martin,martin,martin,martin,martin,martin,martin,martin,martin,martin,martin,martin,martin,martin,martin,martin,martin,martin,martin,martin,martin,martin,martin,martin,martin,martin,martin,martin,martin,martin,martin,martin,martin,martin,martin,martin,martin,martin,martin,martin,martin,martin,martin,martin,martin,martin,martin,martin,martin,martin,martin,martin,martin,martin,martin,martin,martin,martin,\n"
     ]
    }
   ],
   "source": [
    "print(c*100)"
   ]
  },
  {
   "cell_type": "code",
   "execution_count": null,
   "id": "c496fd09",
   "metadata": {},
   "outputs": [],
   "source": []
  }
 ],
 "metadata": {
  "kernelspec": {
   "display_name": "Python 3",
   "language": "python",
   "name": "python3"
  },
  "language_info": {
   "codemirror_mode": {
    "name": "ipython",
    "version": 3
   },
   "file_extension": ".py",
   "mimetype": "text/x-python",
   "name": "python",
   "nbconvert_exporter": "python",
   "pygments_lexer": "ipython3",
   "version": "3.8.8"
  }
 },
 "nbformat": 4,
 "nbformat_minor": 5
}
