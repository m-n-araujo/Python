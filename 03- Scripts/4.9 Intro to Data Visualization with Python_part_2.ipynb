{
 "cells": [
  {
   "cell_type": "markdown",
   "id": "640347aa",
   "metadata": {},
   "source": [
    "# 01  Create a new notebook, import the necessary analysis and visualization libraries, then import your most up-to-date project data (i.e., the data set with your new customer data from the first part of this task)."
   ]
  },
  {
   "cell_type": "code",
   "execution_count": 1,
   "id": "3593b77a",
   "metadata": {},
   "outputs": [],
   "source": [
    "# Import libraries\n",
    "import pandas as pd\n",
    "import numpy as np\n",
    "import os\n",
    "import matplotlib.pyplot as plt\n",
    "import seaborn as sns\n",
    "import scipy"
   ]
  },
  {
   "cell_type": "code",
   "execution_count": 2,
   "id": "d218047e",
   "metadata": {},
   "outputs": [],
   "source": [
    "#02 IMPORTING DATA\n",
    "\n",
    "path = r'C:\\Users\\gus_ara\\Documents\\Instacart Basket Analysis'\n",
    "df_orders_products_combined = pd.read_pickle(os.path.join(path, '02- Data', 'Prepared Data', 'Orders_products_all_1st_part_unit9.pkl'))"
   ]
  },
  {
   "cell_type": "code",
   "execution_count": 70,
   "id": "ea1dfe97",
   "metadata": {},
   "outputs": [
    {
     "name": "stdout",
     "output_type": "stream",
     "text": [
      "<class 'pandas.core.frame.DataFrame'>\n",
      "Int64Index: 32404859 entries, 0 to 32404858\n",
      "Data columns (total 30 columns):\n",
      " #   Column                  Dtype  \n",
      "---  ------                  -----  \n",
      " 0   order_id                int64  \n",
      " 1   user_id                 float64\n",
      " 2   order_number            int64  \n",
      " 3   orders_day_of_week      int64  \n",
      " 4   order_hour_timestamp    int64  \n",
      " 5   days_since_prior_order  float64\n",
      " 6   product_id              int64  \n",
      " 7   add_to_cart_order       int64  \n",
      " 8   reordered               int64  \n",
      " 9   product_name            object \n",
      " 10  aisle_id                int64  \n",
      " 11  department_id           int64  \n",
      " 12  prices                  float64\n",
      " 13  price_range             object \n",
      " 14  Busiest_day             object \n",
      " 15  Busiest_days2           object \n",
      " 16  busiest_period_of_day   object \n",
      " 17  max_order               int64  \n",
      " 18  loyalty_flag            object \n",
      " 19  types_of_spenders       object \n",
      " 20  customer_frecuency      object \n",
      " 21  First Name              object \n",
      " 22  Last_Name               object \n",
      " 23  Gender                  object \n",
      " 24  STATE                   object \n",
      " 25  Age                     int64  \n",
      " 26  date_joined             object \n",
      " 27  n_dependants            int64  \n",
      " 28  Marital_Status          object \n",
      " 29  income                  int64  \n",
      "dtypes: float64(3), int64(13), object(14)\n",
      "memory usage: 7.5+ GB\n"
     ]
    }
   ],
   "source": [
    "df_orders_products_combined.info()"
   ]
  },
  {
   "cell_type": "code",
   "execution_count": 71,
   "id": "2fff8255",
   "metadata": {},
   "outputs": [
    {
     "data": {
      "text/html": [
       "<div>\n",
       "<style scoped>\n",
       "    .dataframe tbody tr th:only-of-type {\n",
       "        vertical-align: middle;\n",
       "    }\n",
       "\n",
       "    .dataframe tbody tr th {\n",
       "        vertical-align: top;\n",
       "    }\n",
       "\n",
       "    .dataframe thead th {\n",
       "        text-align: right;\n",
       "    }\n",
       "</style>\n",
       "<table border=\"1\" class=\"dataframe\">\n",
       "  <thead>\n",
       "    <tr style=\"text-align: right;\">\n",
       "      <th></th>\n",
       "      <th>order_id</th>\n",
       "      <th>user_id</th>\n",
       "      <th>order_number</th>\n",
       "      <th>orders_day_of_week</th>\n",
       "      <th>order_hour_timestamp</th>\n",
       "      <th>days_since_prior_order</th>\n",
       "      <th>product_id</th>\n",
       "      <th>add_to_cart_order</th>\n",
       "      <th>reordered</th>\n",
       "      <th>product_name</th>\n",
       "      <th>aisle_id</th>\n",
       "      <th>department_id</th>\n",
       "      <th>prices</th>\n",
       "      <th>price_range</th>\n",
       "      <th>Busiest_day</th>\n",
       "      <th>Busiest_days2</th>\n",
       "      <th>busiest_period_of_day</th>\n",
       "      <th>max_order</th>\n",
       "      <th>loyalty_flag</th>\n",
       "      <th>types_of_spenders</th>\n",
       "      <th>customer_frecuency</th>\n",
       "      <th>First Name</th>\n",
       "      <th>Last_Name</th>\n",
       "      <th>Gender</th>\n",
       "      <th>STATE</th>\n",
       "      <th>Age</th>\n",
       "      <th>date_joined</th>\n",
       "      <th>n_dependants</th>\n",
       "      <th>Marital_Status</th>\n",
       "      <th>income</th>\n",
       "    </tr>\n",
       "  </thead>\n",
       "  <tbody>\n",
       "    <tr>\n",
       "      <th>0</th>\n",
       "      <td>2539329</td>\n",
       "      <td>1.0</td>\n",
       "      <td>1</td>\n",
       "      <td>2</td>\n",
       "      <td>8</td>\n",
       "      <td>0.0</td>\n",
       "      <td>196</td>\n",
       "      <td>1</td>\n",
       "      <td>0</td>\n",
       "      <td>Soda</td>\n",
       "      <td>77</td>\n",
       "      <td>7</td>\n",
       "      <td>9.0</td>\n",
       "      <td>Mid-range product</td>\n",
       "      <td>Regularly busy</td>\n",
       "      <td>Regularly busy</td>\n",
       "      <td>Average orders</td>\n",
       "      <td>10</td>\n",
       "      <td>New customer</td>\n",
       "      <td>Low spender</td>\n",
       "      <td>Frequent customer</td>\n",
       "      <td>Linda</td>\n",
       "      <td>Nguyen</td>\n",
       "      <td>Female</td>\n",
       "      <td>Alabama</td>\n",
       "      <td>31</td>\n",
       "      <td>2/17/2019</td>\n",
       "      <td>3</td>\n",
       "      <td>married</td>\n",
       "      <td>40423</td>\n",
       "    </tr>\n",
       "  </tbody>\n",
       "</table>\n",
       "</div>"
      ],
      "text/plain": [
       "   order_id  user_id  order_number  orders_day_of_week  order_hour_timestamp  \\\n",
       "0   2539329      1.0             1                   2                     8   \n",
       "\n",
       "   days_since_prior_order  product_id  add_to_cart_order  reordered  \\\n",
       "0                     0.0         196                  1          0   \n",
       "\n",
       "  product_name  aisle_id  department_id  prices        price_range  \\\n",
       "0         Soda        77              7     9.0  Mid-range product   \n",
       "\n",
       "      Busiest_day   Busiest_days2 busiest_period_of_day  max_order  \\\n",
       "0  Regularly busy  Regularly busy        Average orders         10   \n",
       "\n",
       "   loyalty_flag types_of_spenders customer_frecuency First Name Last_Name  \\\n",
       "0  New customer       Low spender  Frequent customer      Linda    Nguyen   \n",
       "\n",
       "   Gender    STATE  Age date_joined  n_dependants Marital_Status  income  \n",
       "0  Female  Alabama   31   2/17/2019             3        married   40423  "
      ]
     },
     "execution_count": 71,
     "metadata": {},
     "output_type": "execute_result"
    }
   ],
   "source": [
    "df_orders_products_combined.head(1)"
   ]
  },
  {
   "cell_type": "markdown",
   "id": "e8844401",
   "metadata": {},
   "source": [
    "# 02 If you haven’t done so already, follow the instructions in the Exercise to create a bar chart, a histogram, a scatterplot, and a line chart, using a sample subset for the line chart."
   ]
  },
  {
   "cell_type": "code",
   "execution_count": 3,
   "id": "99778847",
   "metadata": {},
   "outputs": [
    {
     "data": {
      "text/html": [
       "<div>\n",
       "<style scoped>\n",
       "    .dataframe tbody tr th:only-of-type {\n",
       "        vertical-align: middle;\n",
       "    }\n",
       "\n",
       "    .dataframe tbody tr th {\n",
       "        vertical-align: top;\n",
       "    }\n",
       "\n",
       "    .dataframe thead th {\n",
       "        text-align: right;\n",
       "    }\n",
       "</style>\n",
       "<table border=\"1\" class=\"dataframe\">\n",
       "  <thead>\n",
       "    <tr style=\"text-align: right;\">\n",
       "      <th></th>\n",
       "      <th>order_id</th>\n",
       "      <th>user_id</th>\n",
       "      <th>order_number</th>\n",
       "      <th>orders_day_of_week</th>\n",
       "      <th>order_hour_timestamp</th>\n",
       "      <th>days_since_prior_order</th>\n",
       "      <th>product_id</th>\n",
       "      <th>add_to_cart_order</th>\n",
       "      <th>reordered</th>\n",
       "      <th>product_name</th>\n",
       "      <th>...</th>\n",
       "      <th>customer_frecuency</th>\n",
       "      <th>First Name</th>\n",
       "      <th>Last_Name</th>\n",
       "      <th>Gender</th>\n",
       "      <th>STATE</th>\n",
       "      <th>Age</th>\n",
       "      <th>date_joined</th>\n",
       "      <th>n_dependants</th>\n",
       "      <th>Marital_Status</th>\n",
       "      <th>income</th>\n",
       "    </tr>\n",
       "  </thead>\n",
       "  <tbody>\n",
       "    <tr>\n",
       "      <th>0</th>\n",
       "      <td>2539329</td>\n",
       "      <td>1.0</td>\n",
       "      <td>1</td>\n",
       "      <td>2</td>\n",
       "      <td>8</td>\n",
       "      <td>0.0</td>\n",
       "      <td>196</td>\n",
       "      <td>1</td>\n",
       "      <td>0</td>\n",
       "      <td>Soda</td>\n",
       "      <td>...</td>\n",
       "      <td>Frequent customer</td>\n",
       "      <td>Linda</td>\n",
       "      <td>Nguyen</td>\n",
       "      <td>Female</td>\n",
       "      <td>Alabama</td>\n",
       "      <td>31</td>\n",
       "      <td>2/17/2019</td>\n",
       "      <td>3</td>\n",
       "      <td>married</td>\n",
       "      <td>40423</td>\n",
       "    </tr>\n",
       "  </tbody>\n",
       "</table>\n",
       "<p>1 rows × 30 columns</p>\n",
       "</div>"
      ],
      "text/plain": [
       "   order_id  user_id  order_number  orders_day_of_week  order_hour_timestamp  \\\n",
       "0   2539329      1.0             1                   2                     8   \n",
       "\n",
       "   days_since_prior_order  product_id  add_to_cart_order  reordered  \\\n",
       "0                     0.0         196                  1          0   \n",
       "\n",
       "  product_name  ...  customer_frecuency  First Name  Last_Name  Gender  \\\n",
       "0         Soda  ...   Frequent customer       Linda     Nguyen  Female   \n",
       "\n",
       "     STATE Age date_joined  n_dependants Marital_Status income  \n",
       "0  Alabama  31   2/17/2019             3        married  40423  \n",
       "\n",
       "[1 rows x 30 columns]"
      ]
     },
     "execution_count": 3,
     "metadata": {},
     "output_type": "execute_result"
    }
   ],
   "source": [
    "df_orders_products_combined.head(1)"
   ]
  },
  {
   "cell_type": "code",
   "execution_count": 15,
   "id": "86eea73e",
   "metadata": {},
   "outputs": [
    {
     "data": {
      "text/plain": [
       "<bound method PlotAccessor.bar of <pandas.plotting._core.PlotAccessor object at 0x000001F3C455C970>>"
      ]
     },
     "execution_count": 15,
     "metadata": {},
     "output_type": "execute_result"
    }
   ],
   "source": [
    "# Creating Bar Charts\n",
    "df_orders_products_combined['orders_day_of_week'].value_counts().plot.bar"
   ]
  },
  {
   "cell_type": "code",
   "execution_count": 24,
   "id": "b1a6bd4c",
   "metadata": {},
   "outputs": [
    {
     "data": {
      "image/png": "[encoded data removed]",
      "text/plain": [
       "<Figure size 432x288 with 1 Axes>"
      ]
     },
     "metadata": {
      "needs_background": "light"
     },
     "output_type": "display_data"
    }
   ],
   "source": [
    "BAR_Orders_by_day_of_week = df_orders_products_combined['orders_day_of_week'].value_counts().plot.bar(color = ['lightblue', 'lightblue', 'blue', 'blue', 'blue', 'blue', 'blue'])"
   ]
  },
  {
   "cell_type": "code",
   "execution_count": 25,
   "id": "393fb74b",
   "metadata": {},
   "outputs": [],
   "source": [
    "BAR_Orders_by_day_of_week.figure.savefig(os.path.join(path, '02- Data','Prepared Data', '1_BAR_Orders_by_day_of_week.png'))"
   ]
  },
  {
   "cell_type": "code",
   "execution_count": 27,
   "id": "2874e0b6",
   "metadata": {},
   "outputs": [
    {
     "data": {
      "text/plain": [
       "<AxesSubplot:>"
      ]
     },
     "execution_count": 27,
     "metadata": {},
     "output_type": "execute_result"
    },
    {
     "data": {
      "image/png": "[encoded data removed]",
      "text/plain": [
       "<Figure size 432x288 with 1 Axes>"
      ]
     },
     "metadata": {
      "needs_background": "light"
     },
     "output_type": "display_data"
    }
   ],
   "source": [
    "# Sorting order\n",
    "df_orders_products_combined['orders_day_of_week'].value_counts().sort_index().plot.bar(color = ['lightblue', 'lightblue', 'blue', 'blue', 'blue', 'blue', 'blue'])"
   ]
  },
  {
   "cell_type": "code",
   "execution_count": 28,
   "id": "3ca64868",
   "metadata": {},
   "outputs": [
    {
     "data": {
      "text/plain": [
       "<AxesSubplot:ylabel='Frequency'>"
      ]
     },
     "execution_count": 28,
     "metadata": {},
     "output_type": "execute_result"
    },
    {
     "data": {
      "image/png": "[encoded data removed]",
      "text/plain": [
       "<Figure size 432x288 with 1 Axes>"
      ]
     },
     "metadata": {
      "needs_background": "light"
     },
     "output_type": "display_data"
    }
   ],
   "source": [
    "# Creating Histograms and Scatterplots\n",
    "\n",
    "df_orders_products_combined['prices'].plot.hist(bins = 25)"
   ]
  },
  {
   "cell_type": "code",
   "execution_count": 29,
   "id": "ae1344eb",
   "metadata": {},
   "outputs": [
    {
     "data": {
      "text/plain": [
       "count    3.240486e+07\n",
       "mean     1.198023e+01\n",
       "std      4.956554e+02\n",
       "min      1.000000e+00\n",
       "25%      4.200000e+00\n",
       "50%      7.400000e+00\n",
       "75%      1.130000e+01\n",
       "max      9.999900e+04\n",
       "Name: prices, dtype: float64"
      ]
     },
     "execution_count": 29,
     "metadata": {},
     "output_type": "execute_result"
    }
   ],
   "source": [
    "df_orders_products_combined['prices'].describe()"
   ]
  },
  {
   "cell_type": "code",
   "execution_count": 55,
   "id": "c0dca823",
   "metadata": {},
   "outputs": [
    {
     "data": {
      "text/plain": [
       "25.0"
      ]
     },
     "execution_count": 55,
     "metadata": {},
     "output_type": "execute_result"
    }
   ],
   "source": [
    "df_orders_products_combined['prices'].max()"
   ]
  },
  {
   "cell_type": "code",
   "execution_count": 53,
   "id": "209e9ad9",
   "metadata": {},
   "outputs": [
    {
     "data": {
      "text/plain": [
       "7.790994092171152"
      ]
     },
     "execution_count": 53,
     "metadata": {},
     "output_type": "execute_result"
    }
   ],
   "source": [
    "df_orders_products_combined['prices'].mean()"
   ]
  },
  {
   "cell_type": "code",
   "execution_count": 31,
   "id": "f0d39b99",
   "metadata": {},
   "outputs": [
    {
     "data": {
      "text/plain": [
       "<AxesSubplot:xlabel='prices', ylabel='prices'>"
      ]
     },
     "execution_count": 31,
     "metadata": {},
     "output_type": "execute_result"
    },
    {
     "data": {
      "image/png": "[encoded data removed]",
      "text/plain": [
       "<Figure size 432x288 with 1 Axes>"
      ]
     },
     "metadata": {
      "needs_background": "light"
     },
     "output_type": "display_data"
    }
   ],
   "source": [
    "# scatterplot \n",
    "sns.scatterplot(x = 'prices', y = 'prices',data = df_orders_products_combined)"
   ]
  },
  {
   "cell_type": "code",
   "execution_count": 32,
   "id": "7a4b5873",
   "metadata": {},
   "outputs": [],
   "source": [
    "# To see all columns in the dataset\n",
    "pd.set_option('display.max_columns', None)"
   ]
  },
  {
   "cell_type": "code",
   "execution_count": 33,
   "id": "a8669c2a",
   "metadata": {},
   "outputs": [
    {
     "data": {
      "text/html": [
       "<div>\n",
       "<style scoped>\n",
       "    .dataframe tbody tr th:only-of-type {\n",
       "        vertical-align: middle;\n",
       "    }\n",
       "\n",
       "    .dataframe tbody tr th {\n",
       "        vertical-align: top;\n",
       "    }\n",
       "\n",
       "    .dataframe thead th {\n",
       "        text-align: right;\n",
       "    }\n",
       "</style>\n",
       "<table border=\"1\" class=\"dataframe\">\n",
       "  <thead>\n",
       "    <tr style=\"text-align: right;\">\n",
       "      <th></th>\n",
       "      <th>order_id</th>\n",
       "      <th>user_id</th>\n",
       "      <th>order_number</th>\n",
       "      <th>orders_day_of_week</th>\n",
       "      <th>order_hour_timestamp</th>\n",
       "      <th>days_since_prior_order</th>\n",
       "      <th>product_id</th>\n",
       "      <th>add_to_cart_order</th>\n",
       "      <th>reordered</th>\n",
       "      <th>product_name</th>\n",
       "      <th>aisle_id</th>\n",
       "      <th>department_id</th>\n",
       "      <th>prices</th>\n",
       "      <th>price_range</th>\n",
       "      <th>Busiest_day</th>\n",
       "      <th>Busiest_days2</th>\n",
       "      <th>busiest_period_of_day</th>\n",
       "      <th>max_order</th>\n",
       "      <th>loyalty_flag</th>\n",
       "      <th>types_of_spenders</th>\n",
       "      <th>customer_frecuency</th>\n",
       "      <th>First Name</th>\n",
       "      <th>Last_Name</th>\n",
       "      <th>Gender</th>\n",
       "      <th>STATE</th>\n",
       "      <th>Age</th>\n",
       "      <th>date_joined</th>\n",
       "      <th>n_dependants</th>\n",
       "      <th>Marital_Status</th>\n",
       "      <th>income</th>\n",
       "    </tr>\n",
       "  </thead>\n",
       "  <tbody>\n",
       "    <tr>\n",
       "      <th>10030345</th>\n",
       "      <td>912404</td>\n",
       "      <td>17.0</td>\n",
       "      <td>12</td>\n",
       "      <td>2</td>\n",
       "      <td>14</td>\n",
       "      <td>5.0</td>\n",
       "      <td>21553</td>\n",
       "      <td>5</td>\n",
       "      <td>0</td>\n",
       "      <td>Lowfat 2% Milkfat Cottage Cheese</td>\n",
       "      <td>108</td>\n",
       "      <td>16</td>\n",
       "      <td>14900.0</td>\n",
       "      <td>High range</td>\n",
       "      <td>Regularly busy</td>\n",
       "      <td>Regularly busy</td>\n",
       "      <td>Most orders</td>\n",
       "      <td>40</td>\n",
       "      <td>Regular customer</td>\n",
       "      <td>High spender</td>\n",
       "      <td>Frequent customer</td>\n",
       "      <td>Barbara</td>\n",
       "      <td>Chang</td>\n",
       "      <td>Female</td>\n",
       "      <td>Kansas</td>\n",
       "      <td>39</td>\n",
       "      <td>9/16/2018</td>\n",
       "      <td>3</td>\n",
       "      <td>married</td>\n",
       "      <td>150659</td>\n",
       "    </tr>\n",
       "    <tr>\n",
       "      <th>10030346</th>\n",
       "      <td>603376</td>\n",
       "      <td>17.0</td>\n",
       "      <td>22</td>\n",
       "      <td>6</td>\n",
       "      <td>16</td>\n",
       "      <td>4.0</td>\n",
       "      <td>21553</td>\n",
       "      <td>3</td>\n",
       "      <td>1</td>\n",
       "      <td>Lowfat 2% Milkfat Cottage Cheese</td>\n",
       "      <td>108</td>\n",
       "      <td>16</td>\n",
       "      <td>14900.0</td>\n",
       "      <td>High range</td>\n",
       "      <td>Regularly busy</td>\n",
       "      <td>Regularly busy</td>\n",
       "      <td>Most orders</td>\n",
       "      <td>40</td>\n",
       "      <td>Regular customer</td>\n",
       "      <td>High spender</td>\n",
       "      <td>Frequent customer</td>\n",
       "      <td>Barbara</td>\n",
       "      <td>Chang</td>\n",
       "      <td>Female</td>\n",
       "      <td>Kansas</td>\n",
       "      <td>39</td>\n",
       "      <td>9/16/2018</td>\n",
       "      <td>3</td>\n",
       "      <td>married</td>\n",
       "      <td>150659</td>\n",
       "    </tr>\n",
       "    <tr>\n",
       "      <th>10030347</th>\n",
       "      <td>3264360</td>\n",
       "      <td>135.0</td>\n",
       "      <td>2</td>\n",
       "      <td>2</td>\n",
       "      <td>21</td>\n",
       "      <td>13.0</td>\n",
       "      <td>21553</td>\n",
       "      <td>6</td>\n",
       "      <td>0</td>\n",
       "      <td>Lowfat 2% Milkfat Cottage Cheese</td>\n",
       "      <td>108</td>\n",
       "      <td>16</td>\n",
       "      <td>14900.0</td>\n",
       "      <td>High range</td>\n",
       "      <td>Regularly busy</td>\n",
       "      <td>Regularly busy</td>\n",
       "      <td>Average orders</td>\n",
       "      <td>4</td>\n",
       "      <td>New customer</td>\n",
       "      <td>High spender</td>\n",
       "      <td>Regular customer</td>\n",
       "      <td>NaN</td>\n",
       "      <td>Chen</td>\n",
       "      <td>Female</td>\n",
       "      <td>Maryland</td>\n",
       "      <td>30</td>\n",
       "      <td>3/19/2017</td>\n",
       "      <td>3</td>\n",
       "      <td>married</td>\n",
       "      <td>120635</td>\n",
       "    </tr>\n",
       "    <tr>\n",
       "      <th>10030348</th>\n",
       "      <td>892534</td>\n",
       "      <td>135.0</td>\n",
       "      <td>3</td>\n",
       "      <td>0</td>\n",
       "      <td>8</td>\n",
       "      <td>12.0</td>\n",
       "      <td>21553</td>\n",
       "      <td>3</td>\n",
       "      <td>1</td>\n",
       "      <td>Lowfat 2% Milkfat Cottage Cheese</td>\n",
       "      <td>108</td>\n",
       "      <td>16</td>\n",
       "      <td>14900.0</td>\n",
       "      <td>High range</td>\n",
       "      <td>Busiest day</td>\n",
       "      <td>Busiest days</td>\n",
       "      <td>Average orders</td>\n",
       "      <td>4</td>\n",
       "      <td>New customer</td>\n",
       "      <td>High spender</td>\n",
       "      <td>Regular customer</td>\n",
       "      <td>NaN</td>\n",
       "      <td>Chen</td>\n",
       "      <td>Female</td>\n",
       "      <td>Maryland</td>\n",
       "      <td>30</td>\n",
       "      <td>3/19/2017</td>\n",
       "      <td>3</td>\n",
       "      <td>married</td>\n",
       "      <td>120635</td>\n",
       "    </tr>\n",
       "    <tr>\n",
       "      <th>10030349</th>\n",
       "      <td>229704</td>\n",
       "      <td>342.0</td>\n",
       "      <td>8</td>\n",
       "      <td>1</td>\n",
       "      <td>19</td>\n",
       "      <td>30.0</td>\n",
       "      <td>21553</td>\n",
       "      <td>9</td>\n",
       "      <td>0</td>\n",
       "      <td>Lowfat 2% Milkfat Cottage Cheese</td>\n",
       "      <td>108</td>\n",
       "      <td>16</td>\n",
       "      <td>14900.0</td>\n",
       "      <td>High range</td>\n",
       "      <td>Regularly busy</td>\n",
       "      <td>Busiest days</td>\n",
       "      <td>Average orders</td>\n",
       "      <td>16</td>\n",
       "      <td>Regular customer</td>\n",
       "      <td>High spender</td>\n",
       "      <td>Regular customer</td>\n",
       "      <td>Ruby</td>\n",
       "      <td>Bates</td>\n",
       "      <td>Female</td>\n",
       "      <td>Minnesota</td>\n",
       "      <td>56</td>\n",
       "      <td>8/23/2018</td>\n",
       "      <td>2</td>\n",
       "      <td>married</td>\n",
       "      <td>187328</td>\n",
       "    </tr>\n",
       "    <tr>\n",
       "      <th>...</th>\n",
       "      <td>...</td>\n",
       "      <td>...</td>\n",
       "      <td>...</td>\n",
       "      <td>...</td>\n",
       "      <td>...</td>\n",
       "      <td>...</td>\n",
       "      <td>...</td>\n",
       "      <td>...</td>\n",
       "      <td>...</td>\n",
       "      <td>...</td>\n",
       "      <td>...</td>\n",
       "      <td>...</td>\n",
       "      <td>...</td>\n",
       "      <td>...</td>\n",
       "      <td>...</td>\n",
       "      <td>...</td>\n",
       "      <td>...</td>\n",
       "      <td>...</td>\n",
       "      <td>...</td>\n",
       "      <td>...</td>\n",
       "      <td>...</td>\n",
       "      <td>...</td>\n",
       "      <td>...</td>\n",
       "      <td>...</td>\n",
       "      <td>...</td>\n",
       "      <td>...</td>\n",
       "      <td>...</td>\n",
       "      <td>...</td>\n",
       "      <td>...</td>\n",
       "      <td>...</td>\n",
       "    </tr>\n",
       "    <tr>\n",
       "      <th>29166209</th>\n",
       "      <td>2249946</td>\n",
       "      <td>204099.0</td>\n",
       "      <td>29</td>\n",
       "      <td>0</td>\n",
       "      <td>8</td>\n",
       "      <td>4.0</td>\n",
       "      <td>33664</td>\n",
       "      <td>1</td>\n",
       "      <td>0</td>\n",
       "      <td>2 % Reduced Fat  Milk</td>\n",
       "      <td>84</td>\n",
       "      <td>16</td>\n",
       "      <td>99999.0</td>\n",
       "      <td>High range</td>\n",
       "      <td>Busiest day</td>\n",
       "      <td>Busiest days</td>\n",
       "      <td>Average orders</td>\n",
       "      <td>39</td>\n",
       "      <td>Regular customer</td>\n",
       "      <td>High spender</td>\n",
       "      <td>Frequent customer</td>\n",
       "      <td>Gary</td>\n",
       "      <td>Wilson</td>\n",
       "      <td>Male</td>\n",
       "      <td>Washington</td>\n",
       "      <td>48</td>\n",
       "      <td>9/8/2019</td>\n",
       "      <td>3</td>\n",
       "      <td>married</td>\n",
       "      <td>536156</td>\n",
       "    </tr>\n",
       "    <tr>\n",
       "      <th>29166210</th>\n",
       "      <td>2363282</td>\n",
       "      <td>204099.0</td>\n",
       "      <td>31</td>\n",
       "      <td>0</td>\n",
       "      <td>9</td>\n",
       "      <td>2.0</td>\n",
       "      <td>33664</td>\n",
       "      <td>1</td>\n",
       "      <td>1</td>\n",
       "      <td>2 % Reduced Fat  Milk</td>\n",
       "      <td>84</td>\n",
       "      <td>16</td>\n",
       "      <td>99999.0</td>\n",
       "      <td>High range</td>\n",
       "      <td>Busiest day</td>\n",
       "      <td>Busiest days</td>\n",
       "      <td>Most orders</td>\n",
       "      <td>39</td>\n",
       "      <td>Regular customer</td>\n",
       "      <td>High spender</td>\n",
       "      <td>Frequent customer</td>\n",
       "      <td>Gary</td>\n",
       "      <td>Wilson</td>\n",
       "      <td>Male</td>\n",
       "      <td>Washington</td>\n",
       "      <td>48</td>\n",
       "      <td>9/8/2019</td>\n",
       "      <td>3</td>\n",
       "      <td>married</td>\n",
       "      <td>536156</td>\n",
       "    </tr>\n",
       "    <tr>\n",
       "      <th>29166211</th>\n",
       "      <td>3181945</td>\n",
       "      <td>204395.0</td>\n",
       "      <td>13</td>\n",
       "      <td>3</td>\n",
       "      <td>15</td>\n",
       "      <td>8.0</td>\n",
       "      <td>33664</td>\n",
       "      <td>25</td>\n",
       "      <td>0</td>\n",
       "      <td>2 % Reduced Fat  Milk</td>\n",
       "      <td>84</td>\n",
       "      <td>16</td>\n",
       "      <td>99999.0</td>\n",
       "      <td>High range</td>\n",
       "      <td>Regularly busy</td>\n",
       "      <td>Slowest days</td>\n",
       "      <td>Most orders</td>\n",
       "      <td>15</td>\n",
       "      <td>Regular customer</td>\n",
       "      <td>High spender</td>\n",
       "      <td>Frequent customer</td>\n",
       "      <td>Shirley</td>\n",
       "      <td>Ellis</td>\n",
       "      <td>Female</td>\n",
       "      <td>Missouri</td>\n",
       "      <td>78</td>\n",
       "      <td>11/9/2019</td>\n",
       "      <td>3</td>\n",
       "      <td>married</td>\n",
       "      <td>137004</td>\n",
       "    </tr>\n",
       "    <tr>\n",
       "      <th>29166212</th>\n",
       "      <td>2486215</td>\n",
       "      <td>205227.0</td>\n",
       "      <td>7</td>\n",
       "      <td>3</td>\n",
       "      <td>20</td>\n",
       "      <td>4.0</td>\n",
       "      <td>33664</td>\n",
       "      <td>8</td>\n",
       "      <td>0</td>\n",
       "      <td>2 % Reduced Fat  Milk</td>\n",
       "      <td>84</td>\n",
       "      <td>16</td>\n",
       "      <td>99999.0</td>\n",
       "      <td>High range</td>\n",
       "      <td>Regularly busy</td>\n",
       "      <td>Slowest days</td>\n",
       "      <td>Average orders</td>\n",
       "      <td>12</td>\n",
       "      <td>Regular customer</td>\n",
       "      <td>High spender</td>\n",
       "      <td>Frequent customer</td>\n",
       "      <td>Victor</td>\n",
       "      <td>Rivers</td>\n",
       "      <td>Male</td>\n",
       "      <td>Arizona</td>\n",
       "      <td>78</td>\n",
       "      <td>8/9/2018</td>\n",
       "      <td>3</td>\n",
       "      <td>married</td>\n",
       "      <td>294898</td>\n",
       "    </tr>\n",
       "    <tr>\n",
       "      <th>29166213</th>\n",
       "      <td>2232716</td>\n",
       "      <td>205227.0</td>\n",
       "      <td>10</td>\n",
       "      <td>0</td>\n",
       "      <td>11</td>\n",
       "      <td>4.0</td>\n",
       "      <td>33664</td>\n",
       "      <td>23</td>\n",
       "      <td>1</td>\n",
       "      <td>2 % Reduced Fat  Milk</td>\n",
       "      <td>84</td>\n",
       "      <td>16</td>\n",
       "      <td>99999.0</td>\n",
       "      <td>High range</td>\n",
       "      <td>Busiest day</td>\n",
       "      <td>Busiest days</td>\n",
       "      <td>Most orders</td>\n",
       "      <td>12</td>\n",
       "      <td>Regular customer</td>\n",
       "      <td>High spender</td>\n",
       "      <td>Frequent customer</td>\n",
       "      <td>Victor</td>\n",
       "      <td>Rivers</td>\n",
       "      <td>Male</td>\n",
       "      <td>Arizona</td>\n",
       "      <td>78</td>\n",
       "      <td>8/9/2018</td>\n",
       "      <td>3</td>\n",
       "      <td>married</td>\n",
       "      <td>294898</td>\n",
       "    </tr>\n",
       "  </tbody>\n",
       "</table>\n",
       "<p>5127 rows × 30 columns</p>\n",
       "</div>"
      ],
      "text/plain": [
       "          order_id   user_id  order_number  orders_day_of_week  \\\n",
       "10030345    912404      17.0            12                   2   \n",
       "10030346    603376      17.0            22                   6   \n",
       "10030347   3264360     135.0             2                   2   \n",
       "10030348    892534     135.0             3                   0   \n",
       "10030349    229704     342.0             8                   1   \n",
       "...            ...       ...           ...                 ...   \n",
       "29166209   2249946  204099.0            29                   0   \n",
       "29166210   2363282  204099.0            31                   0   \n",
       "29166211   3181945  204395.0            13                   3   \n",
       "29166212   2486215  205227.0             7                   3   \n",
       "29166213   2232716  205227.0            10                   0   \n",
       "\n",
       "          order_hour_timestamp  days_since_prior_order  product_id  \\\n",
       "10030345                    14                     5.0       21553   \n",
       "10030346                    16                     4.0       21553   \n",
       "10030347                    21                    13.0       21553   \n",
       "10030348                     8                    12.0       21553   \n",
       "10030349                    19                    30.0       21553   \n",
       "...                        ...                     ...         ...   \n",
       "29166209                     8                     4.0       33664   \n",
       "29166210                     9                     2.0       33664   \n",
       "29166211                    15                     8.0       33664   \n",
       "29166212                    20                     4.0       33664   \n",
       "29166213                    11                     4.0       33664   \n",
       "\n",
       "          add_to_cart_order  reordered                      product_name  \\\n",
       "10030345                  5          0  Lowfat 2% Milkfat Cottage Cheese   \n",
       "10030346                  3          1  Lowfat 2% Milkfat Cottage Cheese   \n",
       "10030347                  6          0  Lowfat 2% Milkfat Cottage Cheese   \n",
       "10030348                  3          1  Lowfat 2% Milkfat Cottage Cheese   \n",
       "10030349                  9          0  Lowfat 2% Milkfat Cottage Cheese   \n",
       "...                     ...        ...                               ...   \n",
       "29166209                  1          0             2 % Reduced Fat  Milk   \n",
       "29166210                  1          1             2 % Reduced Fat  Milk   \n",
       "29166211                 25          0             2 % Reduced Fat  Milk   \n",
       "29166212                  8          0             2 % Reduced Fat  Milk   \n",
       "29166213                 23          1             2 % Reduced Fat  Milk   \n",
       "\n",
       "          aisle_id  department_id   prices price_range     Busiest_day  \\\n",
       "10030345       108             16  14900.0  High range  Regularly busy   \n",
       "10030346       108             16  14900.0  High range  Regularly busy   \n",
       "10030347       108             16  14900.0  High range  Regularly busy   \n",
       "10030348       108             16  14900.0  High range     Busiest day   \n",
       "10030349       108             16  14900.0  High range  Regularly busy   \n",
       "...            ...            ...      ...         ...             ...   \n",
       "29166209        84             16  99999.0  High range     Busiest day   \n",
       "29166210        84             16  99999.0  High range     Busiest day   \n",
       "29166211        84             16  99999.0  High range  Regularly busy   \n",
       "29166212        84             16  99999.0  High range  Regularly busy   \n",
       "29166213        84             16  99999.0  High range     Busiest day   \n",
       "\n",
       "           Busiest_days2 busiest_period_of_day  max_order      loyalty_flag  \\\n",
       "10030345  Regularly busy           Most orders         40  Regular customer   \n",
       "10030346  Regularly busy           Most orders         40  Regular customer   \n",
       "10030347  Regularly busy        Average orders          4      New customer   \n",
       "10030348    Busiest days        Average orders          4      New customer   \n",
       "10030349    Busiest days        Average orders         16  Regular customer   \n",
       "...                  ...                   ...        ...               ...   \n",
       "29166209    Busiest days        Average orders         39  Regular customer   \n",
       "29166210    Busiest days           Most orders         39  Regular customer   \n",
       "29166211    Slowest days           Most orders         15  Regular customer   \n",
       "29166212    Slowest days        Average orders         12  Regular customer   \n",
       "29166213    Busiest days           Most orders         12  Regular customer   \n",
       "\n",
       "         types_of_spenders customer_frecuency First Name Last_Name  Gender  \\\n",
       "10030345      High spender  Frequent customer    Barbara     Chang  Female   \n",
       "10030346      High spender  Frequent customer    Barbara     Chang  Female   \n",
       "10030347      High spender   Regular customer        NaN      Chen  Female   \n",
       "10030348      High spender   Regular customer        NaN      Chen  Female   \n",
       "10030349      High spender   Regular customer       Ruby     Bates  Female   \n",
       "...                    ...                ...        ...       ...     ...   \n",
       "29166209      High spender  Frequent customer       Gary    Wilson    Male   \n",
       "29166210      High spender  Frequent customer       Gary    Wilson    Male   \n",
       "29166211      High spender  Frequent customer    Shirley     Ellis  Female   \n",
       "29166212      High spender  Frequent customer     Victor    Rivers    Male   \n",
       "29166213      High spender  Frequent customer     Victor    Rivers    Male   \n",
       "\n",
       "               STATE  Age date_joined  n_dependants Marital_Status  income  \n",
       "10030345      Kansas   39   9/16/2018             3        married  150659  \n",
       "10030346      Kansas   39   9/16/2018             3        married  150659  \n",
       "10030347    Maryland   30   3/19/2017             3        married  120635  \n",
       "10030348    Maryland   30   3/19/2017             3        married  120635  \n",
       "10030349   Minnesota   56   8/23/2018             2        married  187328  \n",
       "...              ...  ...         ...           ...            ...     ...  \n",
       "29166209  Washington   48    9/8/2019             3        married  536156  \n",
       "29166210  Washington   48    9/8/2019             3        married  536156  \n",
       "29166211    Missouri   78   11/9/2019             3        married  137004  \n",
       "29166212     Arizona   78    8/9/2018             3        married  294898  \n",
       "29166213     Arizona   78    8/9/2018             3        married  294898  \n",
       "\n",
       "[5127 rows x 30 columns]"
      ]
     },
     "execution_count": 33,
     "metadata": {},
     "output_type": "execute_result"
    }
   ],
   "source": [
    "# Searching for outliers\n",
    "df_orders_products_combined.loc[df_orders_products_combined['prices'] > 100]"
   ]
  },
  {
   "cell_type": "code",
   "execution_count": 34,
   "id": "1d3088d5",
   "metadata": {},
   "outputs": [],
   "source": [
    "df_orders_products_combined.loc[df_orders_products_combined['prices'] >100, 'prices'] = np.nan"
   ]
  },
  {
   "cell_type": "code",
   "execution_count": 35,
   "id": "a827c295",
   "metadata": {},
   "outputs": [
    {
     "data": {
      "text/plain": [
       "25.0"
      ]
     },
     "execution_count": 35,
     "metadata": {},
     "output_type": "execute_result"
    }
   ],
   "source": [
    "df_orders_products_combined['prices'].max()"
   ]
  },
  {
   "cell_type": "code",
   "execution_count": 37,
   "id": "7168095e",
   "metadata": {},
   "outputs": [
    {
     "data": {
      "image/png": "[encoded data removed]",
      "text/plain": [
       "<Figure size 432x288 with 1 Axes>"
      ]
     },
     "metadata": {
      "needs_background": "light"
     },
     "output_type": "display_data"
    }
   ],
   "source": [
    "hist_prices1 = df_orders_products_combined['prices'].plot.hist(bins = 25)"
   ]
  },
  {
   "cell_type": "code",
   "execution_count": 38,
   "id": "868fc851",
   "metadata": {},
   "outputs": [],
   "source": [
    "hist_prices1.figure.savefig(os.path.join(path, '02- Data','Prepared Data', 'hist_prices1.png'))"
   ]
  },
  {
   "cell_type": "code",
   "execution_count": 39,
   "id": "b89ebc69",
   "metadata": {},
   "outputs": [
    {
     "data": {
      "image/png": "[encoded data removed]",
      "text/plain": [
       "<Figure size 432x288 with 1 Axes>"
      ]
     },
     "metadata": {
      "needs_background": "light"
     },
     "output_type": "display_data"
    }
   ],
   "source": [
    "hist = df_orders_products_combined['prices'].plot.hist(bins = 100)"
   ]
  },
  {
   "cell_type": "code",
   "execution_count": 40,
   "id": "f23cd8f4",
   "metadata": {},
   "outputs": [],
   "source": [
    "# Creating Line Charts using a sample subset\n",
    "np.random.seed(4)\n",
    "dev = np.random.rand(len(df_orders_products_combined)) <= 0.7"
   ]
  },
  {
   "cell_type": "code",
   "execution_count": 41,
   "id": "8723c91f",
   "metadata": {},
   "outputs": [
    {
     "data": {
      "text/plain": [
       "array([0.93546686, 0.06557465, 0.85698584, 0.24456371, 0.22683171,\n",
       "       0.17068366, 0.27008946, 0.52534234, 0.83151571, 0.78153402])"
      ]
     },
     "execution_count": 41,
     "metadata": {},
     "output_type": "execute_result"
    }
   ],
   "source": [
    "np.random.rand(10)"
   ]
  },
  {
   "cell_type": "code",
   "execution_count": 42,
   "id": "e156da0a",
   "metadata": {},
   "outputs": [],
   "source": [
    "big = df_orders_products_combined[dev]\n",
    "small = df_orders_products_combined[~dev]"
   ]
  },
  {
   "cell_type": "code",
   "execution_count": 43,
   "id": "7a528bad",
   "metadata": {},
   "outputs": [
    {
     "data": {
      "text/plain": [
       "32404859"
      ]
     },
     "execution_count": 43,
     "metadata": {},
     "output_type": "execute_result"
    }
   ],
   "source": [
    "len(df_orders_products_combined)"
   ]
  },
  {
   "cell_type": "code",
   "execution_count": 44,
   "id": "c89aa00a",
   "metadata": {},
   "outputs": [
    {
     "data": {
      "text/plain": [
       "32404859"
      ]
     },
     "execution_count": 44,
     "metadata": {},
     "output_type": "execute_result"
    }
   ],
   "source": [
    "len(big)+len(small)"
   ]
  },
  {
   "cell_type": "code",
   "execution_count": 46,
   "id": "f8490859",
   "metadata": {},
   "outputs": [],
   "source": [
    "df_2 = small[['orders_day_of_week','prices']]"
   ]
  },
  {
   "cell_type": "code",
   "execution_count": 47,
   "id": "3f90b124",
   "metadata": {},
   "outputs": [
    {
     "data": {
      "image/png": "[encoded data removed]",
      "text/plain": [
       "<Figure size 432x288 with 1 Axes>"
      ]
     },
     "metadata": {
      "needs_background": "light"
     },
     "output_type": "display_data"
    }
   ],
   "source": [
    "line2 = sns.lineplot(data = df_2, x = 'orders_day_of_week',y = 'prices')"
   ]
  },
  {
   "cell_type": "code",
   "execution_count": 49,
   "id": "b2714b6b",
   "metadata": {},
   "outputs": [],
   "source": [
    "df_3 = big[['orders_day_of_week','prices']]"
   ]
  },
  {
   "cell_type": "code",
   "execution_count": 50,
   "id": "a51d92dc",
   "metadata": {},
   "outputs": [
    {
     "data": {
      "image/png": "[encoded data removed]",
      "text/plain": [
       "<Figure size 432x288 with 1 Axes>"
      ]
     },
     "metadata": {
      "needs_background": "light"
     },
     "output_type": "display_data"
    }
   ],
   "source": [
    "line3 = sns.lineplot(data = df_3, x = 'orders_day_of_week',y = 'prices')"
   ]
  },
  {
   "cell_type": "code",
   "execution_count": 51,
   "id": "ac2cc0b0",
   "metadata": {},
   "outputs": [],
   "source": [
    "df_4 = df_orders_products_combined[['orders_day_of_week','prices']]"
   ]
  },
  {
   "cell_type": "code",
   "execution_count": 52,
   "id": "e299e226",
   "metadata": {},
   "outputs": [
    {
     "data": {
      "image/png": "[encoded data removed]",
      "text/plain": [
       "<Figure size 432x288 with 1 Axes>"
      ]
     },
     "metadata": {
      "needs_background": "light"
     },
     "output_type": "display_data"
    }
   ],
   "source": [
    "line4 = sns.lineplot(data = df_4, x = 'orders_day_of_week',y = 'prices')"
   ]
  },
  {
   "cell_type": "code",
   "execution_count": 54,
   "id": "477bb25a",
   "metadata": {},
   "outputs": [],
   "source": [
    "line4.figure.savefig(os.path.join(path, '02- Data','Prepared Data', 'Price_distribution_over_week.png'))"
   ]
  },
  {
   "cell_type": "markdown",
   "id": "d9383c1a",
   "metadata": {},
   "source": [
    "# 03 You need to provide the Instacart senior stakeholders with descriptive findings about sales. Create a histogram of the “order_hour_of_day” column.  In a markdown cell beneath your histogram, describe what the histogram demonstrates."
   ]
  },
  {
   "cell_type": "code",
   "execution_count": 59,
   "id": "8f065609",
   "metadata": {},
   "outputs": [
    {
     "data": {
      "image/png": "[encoded data removed]",
      "text/plain": [
       "<Figure size 432x288 with 1 Axes>"
      ]
     },
     "metadata": {
      "needs_background": "light"
     },
     "output_type": "display_data"
    }
   ],
   "source": [
    "# creating the histogram\n",
    "Chart3_hours_distribution = df_orders_products_combined['order_hour_timestamp'].plot.hist(bins = 24)"
   ]
  },
  {
   "cell_type": "markdown",
   "id": "7ee0c2de",
   "metadata": {},
   "source": [
    "we can see that Instakart sells more between 8 and 17 hs, and the lower sales are located between 00.00 and 05.00 hs."
   ]
  },
  {
   "cell_type": "code",
   "execution_count": 60,
   "id": "7b9c0bff",
   "metadata": {},
   "outputs": [],
   "source": [
    "Chart3_hours_distribution.figure.savefig(os.path.join(path, '02- Data','Prepared Data', 'Chart3_hours_distribution.png'))"
   ]
  },
  {
   "cell_type": "markdown",
   "id": "b6bf8458",
   "metadata": {},
   "source": [
    "# 04 The marketing team is curious about the distribution of orders among customers in terms of loyalty. Create a bar chart from the “loyalty_flag” column."
   ]
  },
  {
   "cell_type": "code",
   "execution_count": 61,
   "id": "8062d108",
   "metadata": {},
   "outputs": [
    {
     "data": {
      "image/png": "[encoded data removed]",
      "text/plain": [
       "<Figure size 432x288 with 1 Axes>"
      ]
     },
     "metadata": {
      "needs_background": "light"
     },
     "output_type": "display_data"
    }
   ],
   "source": [
    "# Creating Bar Charts\n",
    "Chart4_loyalty = df_orders_products_combined['loyalty_flag'].value_counts().plot.bar()"
   ]
  },
  {
   "cell_type": "markdown",
   "id": "f9fb2878",
   "metadata": {},
   "source": [
    "Most of the orders are performed by frequent customers, followed by regular customers"
   ]
  },
  {
   "cell_type": "code",
   "execution_count": 63,
   "id": "4245ba32",
   "metadata": {},
   "outputs": [],
   "source": [
    "Chart4_loyalty.figure.savefig(os.path.join(path, '02- Data','Prepared Data', 'Chart4_loyalty.png'))"
   ]
  },
  {
   "cell_type": "markdown",
   "id": "c00e6627",
   "metadata": {},
   "source": [
    "# 05 Check whether there’s a difference in expenditure (the “prices” column) depending on the hour of the day. (Hint: To check this, you need to use an accurate sample for your line chart!)"
   ]
  },
  {
   "cell_type": "code",
   "execution_count": 65,
   "id": "19d4e3cd",
   "metadata": {},
   "outputs": [],
   "source": [
    "df_5 = df_orders_products_combined[['order_hour_timestamp','prices']]"
   ]
  },
  {
   "cell_type": "code",
   "execution_count": 69,
   "id": "bc4c231b",
   "metadata": {
    "scrolled": true
   },
   "outputs": [
    {
     "data": {
      "image/png": "[encoded data removed]",
      "text/plain": [
       "<Figure size 432x288 with 1 Axes>"
      ]
     },
     "metadata": {
      "needs_background": "light"
     },
     "output_type": "display_data"
    }
   ],
   "source": [
    "line5 = sns.lineplot(data = df_5, x = 'order_hour_timestamp', y = 'prices')"
   ]
  },
  {
   "cell_type": "markdown",
   "id": "2464138b",
   "metadata": {},
   "source": [
    "We can see that most expensive products are sold at 01.00 ma and 06.00 am.  Sales with the lower prices are at 05 and in between 08 am and 12.00 pm. "
   ]
  },
  {
   "cell_type": "code",
   "execution_count": 72,
   "id": "27872822",
   "metadata": {},
   "outputs": [],
   "source": [
    "line5.figure.savefig(os.path.join(path, '02- Data','Prepared Data', 'line5_prices_by_hour.png'))"
   ]
  },
  {
   "cell_type": "markdown",
   "id": "77a76beb",
   "metadata": {},
   "source": [
    "# 06 Now that you have information about customers, you need to conduct some exploratory analysis of customer demographics to inform the targeted marketing campaigns. First, determine whether there’s a connection between age and family status by creating a line chart exploring the connections between age and number of dependents: \n",
    "# In a markdown cell beneath your line chart, describe what the line chart shows."
   ]
  },
  {
   "cell_type": "code",
   "execution_count": 73,
   "id": "40ed2a45",
   "metadata": {},
   "outputs": [],
   "source": [
    "df_6 = df_orders_products_combined[['Age','n_dependants']]"
   ]
  },
  {
   "cell_type": "code",
   "execution_count": 74,
   "id": "fa179a8d",
   "metadata": {},
   "outputs": [
    {
     "data": {
      "image/png": "[encoded data removed]",
      "text/plain": [
       "<Figure size 432x288 with 1 Axes>"
      ]
     },
     "metadata": {
      "needs_background": "light"
     },
     "output_type": "display_data"
    }
   ],
   "source": [
    "Chart6_1 = line6 = sns.lineplot(data = df_6, x = 'Age', y = 'n_dependants')"
   ]
  },
  {
   "cell_type": "markdown",
   "id": "3fd79c08",
   "metadata": {},
   "source": [
    "From the chart above, we cannot see a clear pattern between age and number of dependants"
   ]
  },
  {
   "cell_type": "code",
   "execution_count": 75,
   "id": "c7d948f1",
   "metadata": {},
   "outputs": [
    {
     "data": {
      "image/png": "[encoded data removed]",
      "text/plain": [
       "<Figure size 432x288 with 1 Axes>"
      ]
     },
     "metadata": {
      "needs_background": "light"
     },
     "output_type": "display_data"
    }
   ],
   "source": [
    "Chart6_2 = sns.scatterplot(x = 'Marital_Status', y = 'n_dependants',data = df_orders_products_combined)"
   ]
  },
  {
   "cell_type": "markdown",
   "id": "d0e1ec5a",
   "metadata": {},
   "source": [
    "But if we do a scatterplot, we note that divorced/widowed and single categories dont have dependants associated to them"
   ]
  },
  {
   "cell_type": "markdown",
   "id": "583610b1",
   "metadata": {},
   "source": [
    "#  07 You’ll also need to explore whether there’s a connection between age and spending power. To visualize this relationship, create a scatterplot using the sns.scatterplot() function.\n",
    "# In a markdown cell beneath your scatterplot, describe what the scatterplot shows."
   ]
  },
  {
   "cell_type": "code",
   "execution_count": 76,
   "id": "b02861da",
   "metadata": {},
   "outputs": [
    {
     "data": {
      "image/png": "[encoded data removed]",
      "text/plain": [
       "<Figure size 432x288 with 1 Axes>"
      ]
     },
     "metadata": {
      "needs_background": "light"
     },
     "output_type": "display_data"
    }
   ],
   "source": [
    "Chart7 = sns.scatterplot(x = 'Age', y = 'income',data = df_orders_products_combined)"
   ]
  },
  {
   "cell_type": "markdown",
   "id": "76fc439e",
   "metadata": {},
   "source": [
    "There is a clear connection between age and spending power, as we can see in the chart that people over 40's have a bigger income to spend."
   ]
  },
  {
   "cell_type": "code",
   "execution_count": 77,
   "id": "efde1bdc",
   "metadata": {},
   "outputs": [],
   "source": [
    "Chart7.figure.savefig(os.path.join(path, '02- Data','Prepared Data', 'Chart7_age_correlation.png'))"
   ]
  },
  {
   "cell_type": "markdown",
   "id": "adac2a2d",
   "metadata": {},
   "source": [
    "# 08 Export your visualizations as “.png” files in your relevant project folder."
   ]
  },
  {
   "cell_type": "code",
   "execution_count": 78,
   "id": "f2c5ba48",
   "metadata": {},
   "outputs": [],
   "source": [
    "Chart7.figure.savefig(os.path.join(path, '04- Analysis','Visualizations', 'chart7.png'))"
   ]
  },
  {
   "cell_type": "code",
   "execution_count": 79,
   "id": "523ce928",
   "metadata": {},
   "outputs": [],
   "source": [
    "Chart6_1.figure.savefig(os.path.join(path, '04- Analysis','Visualizations', 'Chart6_1.png'))"
   ]
  },
  {
   "cell_type": "code",
   "execution_count": 80,
   "id": "91f32ff0",
   "metadata": {},
   "outputs": [],
   "source": [
    "Chart6_2.figure.savefig(os.path.join(path, '04- Analysis','Visualizations', 'Chart6_2.png'))"
   ]
  },
  {
   "cell_type": "code",
   "execution_count": 82,
   "id": "323e0551",
   "metadata": {},
   "outputs": [],
   "source": [
    "line5.figure.savefig(os.path.join(path, '04- Analysis','Visualizations', 'line5.png'))"
   ]
  },
  {
   "cell_type": "code",
   "execution_count": 84,
   "id": "a4d583f5",
   "metadata": {},
   "outputs": [],
   "source": [
    "Chart4.figure.savefig(os.path.join(path, '04- Analysis','Visualizations', 'Chart4.png'))"
   ]
  },
  {
   "cell_type": "code",
   "execution_count": 86,
   "id": "41c2cd53",
   "metadata": {},
   "outputs": [],
   "source": [
    "Chart3.figure.savefig(os.path.join(path, '04- Analysis','Visualizations', 'Chart3.png'))"
   ]
  },
  {
   "cell_type": "markdown",
   "id": "c476c19e",
   "metadata": {},
   "source": [
    "# 09 export file"
   ]
  },
  {
   "cell_type": "code",
   "execution_count": 78,
   "id": "0c8062be",
   "metadata": {},
   "outputs": [],
   "source": [
    "# EXPORTING DATA\n",
    "df_orders_products_combined.to_pickle(os.path.join(path, '02- Data','Prepared Data', 'Orders_products_all_2nd_part_unit9.pkl'))"
   ]
  },
  {
   "cell_type": "code",
   "execution_count": null,
   "id": "78cd0e3a",
   "metadata": {},
   "outputs": [],
   "source": []
  }
 ],
 "metadata": {
  "kernelspec": {
   "display_name": "Python 3",
   "language": "python",
   "name": "python3"
  },
  "language_info": {
   "codemirror_mode": {
    "name": "ipython",
    "version": 3
   },
   "file_extension": ".py",
   "mimetype": "text/x-python",
   "name": "python",
   "nbconvert_exporter": "python",
   "pygments_lexer": "ipython3",
   "version": "3.8.8"
  }
 },
 "nbformat": 4,
 "nbformat_minor": 5
}
