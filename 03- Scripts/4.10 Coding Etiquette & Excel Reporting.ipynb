{
 "cells": [
  {
   "cell_type": "markdown",
   "id": "30944fbc",
   "metadata": {},
   "source": [
    "# 01- Import the data set you exported in Exercise 4.9 into a new Jupyter notebook. This should be the merged version of your data that contains the new customers column."
   ]
  },
  {
   "cell_type": "code",
   "execution_count": 1,
   "id": "6df9257c",
   "metadata": {},
   "outputs": [],
   "source": [
    "# Import libraries\n",
    "import pandas as pd\n",
    "import numpy as np\n",
    "import os\n",
    "import matplotlib.pyplot as plt\n",
    "import seaborn as sns\n",
    "import scipy"
   ]
  },
  {
   "cell_type": "code",
   "execution_count": 2,
   "id": "8fd03aee",
   "metadata": {},
   "outputs": [],
   "source": [
    "#02 IMPORTING DATA\n",
    "\n",
    "path = r'C:\\Users\\gus_ara\\Documents\\Instacart Basket Analysis'\n",
    "df_orders_products_combined = pd.read_pickle(os.path.join(path, '02- Data', 'Prepared Data', 'Orders_products_all_2nd_part_unit9.pkl'))"
   ]
  },
  {
   "cell_type": "code",
   "execution_count": 3,
   "id": "81e3a6d1",
   "metadata": {},
   "outputs": [
    {
     "name": "stdout",
     "output_type": "stream",
     "text": [
      "<class 'pandas.core.frame.DataFrame'>\n",
      "Int64Index: 32404859 entries, 0 to 32404858\n",
      "Data columns (total 30 columns):\n",
      " #   Column                  Dtype  \n",
      "---  ------                  -----  \n",
      " 0   order_id                int64  \n",
      " 1   user_id                 float64\n",
      " 2   order_number            int64  \n",
      " 3   orders_day_of_week      int64  \n",
      " 4   order_hour_timestamp    int64  \n",
      " 5   days_since_prior_order  float64\n",
      " 6   product_id              int64  \n",
      " 7   add_to_cart_order       int64  \n",
      " 8   reordered               int64  \n",
      " 9   product_name            object \n",
      " 10  aisle_id                int64  \n",
      " 11  department_id           int64  \n",
      " 12  prices                  float64\n",
      " 13  price_range             object \n",
      " 14  Busiest_day             object \n",
      " 15  Busiest_days2           object \n",
      " 16  busiest_period_of_day   object \n",
      " 17  max_order               int64  \n",
      " 18  loyalty_flag            object \n",
      " 19  types_of_spenders       object \n",
      " 20  customer_frecuency      object \n",
      " 21  First Name              object \n",
      " 22  Last_Name               object \n",
      " 23  Gender                  object \n",
      " 24  STATE                   object \n",
      " 25  Age                     int64  \n",
      " 26  date_joined             object \n",
      " 27  n_dependants            int64  \n",
      " 28  Marital_Status          object \n",
      " 29  income                  int64  \n",
      "dtypes: float64(3), int64(13), object(14)\n",
      "memory usage: 7.5+ GB\n"
     ]
    }
   ],
   "source": [
    "# analyzing the dataframe\n",
    "df_orders_products_combined.info()"
   ]
  },
  {
   "cell_type": "code",
   "execution_count": 4,
   "id": "634914cc",
   "metadata": {},
   "outputs": [
    {
     "data": {
      "text/html": [
       "<div>\n",
       "<style scoped>\n",
       "    .dataframe tbody tr th:only-of-type {\n",
       "        vertical-align: middle;\n",
       "    }\n",
       "\n",
       "    .dataframe tbody tr th {\n",
       "        vertical-align: top;\n",
       "    }\n",
       "\n",
       "    .dataframe thead th {\n",
       "        text-align: right;\n",
       "    }\n",
       "</style>\n",
       "<table border=\"1\" class=\"dataframe\">\n",
       "  <thead>\n",
       "    <tr style=\"text-align: right;\">\n",
       "      <th></th>\n",
       "      <th>order_id</th>\n",
       "      <th>user_id</th>\n",
       "      <th>order_number</th>\n",
       "      <th>orders_day_of_week</th>\n",
       "      <th>order_hour_timestamp</th>\n",
       "      <th>days_since_prior_order</th>\n",
       "      <th>product_id</th>\n",
       "      <th>add_to_cart_order</th>\n",
       "      <th>reordered</th>\n",
       "      <th>product_name</th>\n",
       "      <th>...</th>\n",
       "      <th>customer_frecuency</th>\n",
       "      <th>First Name</th>\n",
       "      <th>Last_Name</th>\n",
       "      <th>Gender</th>\n",
       "      <th>STATE</th>\n",
       "      <th>Age</th>\n",
       "      <th>date_joined</th>\n",
       "      <th>n_dependants</th>\n",
       "      <th>Marital_Status</th>\n",
       "      <th>income</th>\n",
       "    </tr>\n",
       "  </thead>\n",
       "  <tbody>\n",
       "    <tr>\n",
       "      <th>0</th>\n",
       "      <td>2539329</td>\n",
       "      <td>1.0</td>\n",
       "      <td>1</td>\n",
       "      <td>2</td>\n",
       "      <td>8</td>\n",
       "      <td>0.0</td>\n",
       "      <td>196</td>\n",
       "      <td>1</td>\n",
       "      <td>0</td>\n",
       "      <td>Soda</td>\n",
       "      <td>...</td>\n",
       "      <td>Frequent customer</td>\n",
       "      <td>Linda</td>\n",
       "      <td>Nguyen</td>\n",
       "      <td>Female</td>\n",
       "      <td>Alabama</td>\n",
       "      <td>31</td>\n",
       "      <td>2/17/2019</td>\n",
       "      <td>3</td>\n",
       "      <td>married</td>\n",
       "      <td>40423</td>\n",
       "    </tr>\n",
       "  </tbody>\n",
       "</table>\n",
       "<p>1 rows × 30 columns</p>\n",
       "</div>"
      ],
      "text/plain": [
       "   order_id  user_id  order_number  orders_day_of_week  order_hour_timestamp  \\\n",
       "0   2539329      1.0             1                   2                     8   \n",
       "\n",
       "   days_since_prior_order  product_id  add_to_cart_order  reordered  \\\n",
       "0                     0.0         196                  1          0   \n",
       "\n",
       "  product_name  ...  customer_frecuency  First Name  Last_Name  Gender  \\\n",
       "0         Soda  ...   Frequent customer       Linda     Nguyen  Female   \n",
       "\n",
       "     STATE Age date_joined  n_dependants Marital_Status income  \n",
       "0  Alabama  31   2/17/2019             3        married  40423  \n",
       "\n",
       "[1 rows x 30 columns]"
      ]
     },
     "execution_count": 4,
     "metadata": {},
     "output_type": "execute_result"
    }
   ],
   "source": [
    "# Displayinh head to see fields\n",
    "df_orders_products_combined.head(1)"
   ]
  },
  {
   "cell_type": "markdown",
   "id": "880def88",
   "metadata": {},
   "source": [
    "# 02- Consider any security implications that might exist for this new data. You’ll need to address any PII data in the data before continuing your analysis."
   ]
  },
  {
   "cell_type": "markdown",
   "id": "d5de6b05",
   "metadata": {},
   "source": [
    "In our dataset we have personally identifiable information (PII), predominantly in the variables : name, last name, state, gender, marital status, income, age and number of dependants, so this report should take into account all GDPR data privacy regulations"
   ]
  },
  {
   "cell_type": "markdown",
   "id": "6484080b",
   "metadata": {},
   "source": [
    "# 03- The Instacart officers are interested in comparing customer behavior in different geographic areas. Create a regional segmentation of the data. You’ll need to create a “Region” column based on the “State” column from your customers data set.\n",
    "# Use the region information in this Wikipedia article to create your column (you only need to create regions, not divisions).\n",
    "# Determine whether there’s a difference in spending habits between the different U.S. regions. (Hint: You can do this by crossing the variable you just created with the spending flag.)"
   ]
  },
  {
   "cell_type": "code",
   "execution_count": 5,
   "id": "34115640",
   "metadata": {},
   "outputs": [],
   "source": [
    "# Flag for Regions based on the state variable\n",
    "df_orders_products_combined.loc[df_orders_products_combined['STATE'] == 'Pennsylvania' , 'Region'] = 'Northeast'\n",
    "df_orders_products_combined.loc[df_orders_products_combined['STATE'] == 'Maine' , 'Region'] = 'Northeast'\n",
    "df_orders_products_combined.loc[df_orders_products_combined['STATE'] == 'New Hampshire' , 'Region'] = 'Northeast'\n",
    "df_orders_products_combined.loc[df_orders_products_combined['STATE'] == 'Vermont' , 'Region'] = 'Northeast'\n",
    "df_orders_products_combined.loc[df_orders_products_combined['STATE'] == 'Massachusetts' , 'Region'] = 'Northeast'\n",
    "df_orders_products_combined.loc[df_orders_products_combined['STATE'] == 'Rhode Island' , 'Region'] = 'Northeast'\n",
    "df_orders_products_combined.loc[df_orders_products_combined['STATE'] == 'Connecticut' , 'Region'] = 'Northeast'\n",
    "df_orders_products_combined.loc[df_orders_products_combined['STATE'] == 'New York' , 'Region'] = 'Northeast'\n",
    "df_orders_products_combined.loc[df_orders_products_combined['STATE'] == 'New Jersey' , 'Region'] = 'Northeast'\n",
    "df_orders_products_combined.loc[df_orders_products_combined['STATE'] == 'Wisconsin' , 'Region'] = 'Midwest'\n",
    "df_orders_products_combined.loc[df_orders_products_combined['STATE'] == 'Michigan' , 'Region'] = 'Midwest'\n",
    "df_orders_products_combined.loc[df_orders_products_combined['STATE'] == 'Illinois' , 'Region'] = 'Midwest'\n",
    "df_orders_products_combined.loc[df_orders_products_combined['STATE'] == 'Indiana' , 'Region'] = 'Midwest'\n",
    "df_orders_products_combined.loc[df_orders_products_combined['STATE'] == 'Ohio' , 'Region'] = 'Midwest'\n",
    "df_orders_products_combined.loc[df_orders_products_combined['STATE'] == 'North Dakota' , 'Region'] = 'Midwest'\n",
    "df_orders_products_combined.loc[df_orders_products_combined['STATE'] == 'South Dakota' , 'Region'] = 'Midwest'\n",
    "df_orders_products_combined.loc[df_orders_products_combined['STATE'] == 'Nebraska' , 'Region'] = 'Midwest'\n",
    "df_orders_products_combined.loc[df_orders_products_combined['STATE'] == 'Kansas' , 'Region'] = 'Midwest'\n",
    "df_orders_products_combined.loc[df_orders_products_combined['STATE'] == 'Missouri' , 'Region'] = 'Midwest'\n",
    "df_orders_products_combined.loc[df_orders_products_combined['STATE'] == 'Iowa' , 'Region'] = 'Midwest'\n",
    "df_orders_products_combined.loc[df_orders_products_combined['STATE'] == 'Minnesota' , 'Region'] = 'Midwest'\n",
    "df_orders_products_combined.loc[df_orders_products_combined['STATE'] == 'Delaware' , 'Region'] = 'South'\n",
    "df_orders_products_combined.loc[df_orders_products_combined['STATE'] == 'Maryland' , 'Region'] = 'South'\n",
    "df_orders_products_combined.loc[df_orders_products_combined['STATE'] == 'District of Columbia' , 'Region'] = 'South'\n",
    "df_orders_products_combined.loc[df_orders_products_combined['STATE'] == 'Virginia' , 'Region'] = 'South'\n",
    "df_orders_products_combined.loc[df_orders_products_combined['STATE'] == 'West Virginia' , 'Region'] = 'South'\n",
    "df_orders_products_combined.loc[df_orders_products_combined['STATE'] == 'North Carolina' , 'Region'] = 'South'\n",
    "df_orders_products_combined.loc[df_orders_products_combined['STATE'] == 'South Carolina' , 'Region'] = 'South'\n",
    "df_orders_products_combined.loc[df_orders_products_combined['STATE'] == 'Georgia' , 'Region'] = 'South'\n",
    "df_orders_products_combined.loc[df_orders_products_combined['STATE'] == 'Florida' , 'Region'] = 'South'\n",
    "df_orders_products_combined.loc[df_orders_products_combined['STATE'] == 'Kentucky' , 'Region'] = 'South'\n",
    "df_orders_products_combined.loc[df_orders_products_combined['STATE'] == 'Tennessee' , 'Region'] = 'South'\n",
    "df_orders_products_combined.loc[df_orders_products_combined['STATE'] == 'Mississippi' , 'Region'] = 'South'\n",
    "df_orders_products_combined.loc[df_orders_products_combined['STATE'] == 'Alabama' , 'Region'] = 'South'\n",
    "df_orders_products_combined.loc[df_orders_products_combined['STATE'] == 'Oklahoma' , 'Region'] = 'South'\n",
    "df_orders_products_combined.loc[df_orders_products_combined['STATE'] == 'Texas' , 'Region'] = 'South'\n",
    "df_orders_products_combined.loc[df_orders_products_combined['STATE'] == 'Arkansas' , 'Region'] = 'South'\n",
    "df_orders_products_combined.loc[df_orders_products_combined['STATE'] == 'Louisiana' , 'Region'] = 'South'\n",
    "df_orders_products_combined.loc[df_orders_products_combined['STATE'] == 'Idaho' , 'Region'] = 'West'\n",
    "df_orders_products_combined.loc[df_orders_products_combined['STATE'] == 'Montana' , 'Region'] = 'West'\n",
    "df_orders_products_combined.loc[df_orders_products_combined['STATE'] == 'Wyoming' , 'Region'] = 'West'\n",
    "df_orders_products_combined.loc[df_orders_products_combined['STATE'] == 'Nevada' , 'Region'] = 'West'\n",
    "df_orders_products_combined.loc[df_orders_products_combined['STATE'] == 'Utah' , 'Region'] = 'West'\n",
    "df_orders_products_combined.loc[df_orders_products_combined['STATE'] == 'Colorado' , 'Region'] = 'West'\n",
    "df_orders_products_combined.loc[df_orders_products_combined['STATE'] == 'New Mexico' , 'Region'] = 'West'\n",
    "df_orders_products_combined.loc[df_orders_products_combined['STATE'] == 'Alaska' , 'Region'] = 'West'\n",
    "df_orders_products_combined.loc[df_orders_products_combined['STATE'] == 'Washington' , 'Region'] = 'West'\n",
    "df_orders_products_combined.loc[df_orders_products_combined['STATE'] == 'Oregon' , 'Region'] = 'West'\n",
    "df_orders_products_combined.loc[df_orders_products_combined['STATE'] == 'California' , 'Region'] = 'West'\n",
    "df_orders_products_combined.loc[df_orders_products_combined['STATE'] == 'Hawaii' , 'Region'] = 'West'\n",
    "df_orders_products_combined.loc[df_orders_products_combined['STATE'] == 'Arizona' , 'Region'] = 'West'\n"
   ]
  },
  {
   "cell_type": "code",
   "execution_count": 6,
   "id": "0e99d2ed",
   "metadata": {},
   "outputs": [
    {
     "data": {
      "text/plain": [
       "Pennsylvania            667082\n",
       "California              659783\n",
       "Rhode Island            656913\n",
       "Georgia                 656389\n",
       "New Mexico              654494\n",
       "Arizona                 653964\n",
       "North Carolina          651900\n",
       "Oklahoma                651739\n",
       "Alaska                  648495\n",
       "Minnesota               647825\n",
       "Massachusetts           646358\n",
       "Wyoming                 644255\n",
       "Virginia                641421\n",
       "Missouri                640732\n",
       "Texas                   640394\n",
       "Colorado                639280\n",
       "Maine                   638583\n",
       "North Dakota            638491\n",
       "Alabama                 638003\n",
       "Kansas                  637538\n",
       "Louisiana               637482\n",
       "Delaware                637024\n",
       "South Carolina          636754\n",
       "Oregon                  636425\n",
       "Arkansas                636144\n",
       "Nevada                  636139\n",
       "New York                635983\n",
       "Montana                 635265\n",
       "South Dakota            633772\n",
       "Illinois                633024\n",
       "Hawaii                  632901\n",
       "Washington              632852\n",
       "Mississippi             632675\n",
       "Kentucky                632490\n",
       "Michigan                630928\n",
       "Florida                 629027\n",
       "Ohio                    628319\n",
       "Wisconsin               628108\n",
       "New Jersey              627692\n",
       "Indiana                 627282\n",
       "Maryland                626579\n",
       "Nebraska                625813\n",
       "Iowa                    625493\n",
       "Connecticut             623022\n",
       "Tennessee               617873\n",
       "New Hampshire           615378\n",
       "District of Columbia    613695\n",
       "West Virginia           612296\n",
       "Utah                    611941\n",
       "Vermont                 611725\n",
       "Idaho                   607119\n",
       "Name: STATE, dtype: int64"
      ]
     },
     "execution_count": 6,
     "metadata": {},
     "output_type": "execute_result"
    }
   ],
   "source": [
    "# count of values per state\n",
    "df_orders_products_combined['STATE'].value_counts(dropna = False)"
   ]
  },
  {
   "cell_type": "code",
   "execution_count": 7,
   "id": "9f79a383",
   "metadata": {},
   "outputs": [
    {
     "data": {
      "text/plain": [
       "South        10791885\n",
       "West          8292913\n",
       "Midwest       7597325\n",
       "Northeast     5722736\n",
       "Name: Region, dtype: int64"
      ]
     },
     "execution_count": 7,
     "metadata": {},
     "output_type": "execute_result"
    }
   ],
   "source": [
    "# count for each region\n",
    "df_orders_products_combined['Region'].value_counts(dropna = False)"
   ]
  },
  {
   "cell_type": "markdown",
   "id": "0b6d21f4",
   "metadata": {},
   "source": [
    "Most of the customers are located in the south of the country."
   ]
  },
  {
   "cell_type": "code",
   "execution_count": 8,
   "id": "aa578d69",
   "metadata": {
    "collapsed": true
   },
   "outputs": [
    {
     "data": {
      "image/png": "[encoded data removed]",
      "text/plain": [
       "<Figure size 432x288 with 1 Axes>"
      ]
     },
     "metadata": {
      "needs_background": "light"
     },
     "output_type": "display_data"
    }
   ],
   "source": [
    "#charting customers by regions\n",
    "DF_customers_by_region = df_orders_products_combined['Region'].value_counts(dropna = False).plot.bar(color = ['lightblue', 'blue', 'blue', 'blue', 'blue'])"
   ]
  },
  {
   "cell_type": "code",
   "execution_count": 9,
   "id": "d125d8ec",
   "metadata": {},
   "outputs": [],
   "source": [
    "# exporting the chart by region\n",
    "DF_customers_by_region.figure.savefig(os.path.join(path, '02- Data','Prepared Data', 'DF_customers_by_region.png'))"
   ]
  },
  {
   "cell_type": "code",
   "execution_count": 10,
   "id": "bf81ac5a",
   "metadata": {},
   "outputs": [],
   "source": [
    "# Display of all columns in the dataset\n",
    "pd.set_option('display.max_columns', None)"
   ]
  },
  {
   "cell_type": "code",
   "execution_count": 11,
   "id": "68804a31",
   "metadata": {},
   "outputs": [],
   "source": [
    "# Display of all rows in the dataset\n",
    "pd.set_option('display.max_rows', None)"
   ]
  },
  {
   "cell_type": "code",
   "execution_count": 12,
   "id": "9f95d396",
   "metadata": {},
   "outputs": [
    {
     "data": {
      "text/html": [
       "<div>\n",
       "<style scoped>\n",
       "    .dataframe tbody tr th:only-of-type {\n",
       "        vertical-align: middle;\n",
       "    }\n",
       "\n",
       "    .dataframe tbody tr th {\n",
       "        vertical-align: top;\n",
       "    }\n",
       "\n",
       "    .dataframe thead th {\n",
       "        text-align: right;\n",
       "    }\n",
       "</style>\n",
       "<table border=\"1\" class=\"dataframe\">\n",
       "  <thead>\n",
       "    <tr style=\"text-align: right;\">\n",
       "      <th></th>\n",
       "      <th>order_id</th>\n",
       "      <th>user_id</th>\n",
       "      <th>order_number</th>\n",
       "      <th>orders_day_of_week</th>\n",
       "      <th>order_hour_timestamp</th>\n",
       "      <th>days_since_prior_order</th>\n",
       "      <th>product_id</th>\n",
       "      <th>add_to_cart_order</th>\n",
       "      <th>reordered</th>\n",
       "      <th>product_name</th>\n",
       "      <th>aisle_id</th>\n",
       "      <th>department_id</th>\n",
       "      <th>prices</th>\n",
       "      <th>price_range</th>\n",
       "      <th>Busiest_day</th>\n",
       "      <th>Busiest_days2</th>\n",
       "      <th>busiest_period_of_day</th>\n",
       "      <th>max_order</th>\n",
       "      <th>loyalty_flag</th>\n",
       "      <th>types_of_spenders</th>\n",
       "      <th>customer_frecuency</th>\n",
       "      <th>First Name</th>\n",
       "      <th>Last_Name</th>\n",
       "      <th>Gender</th>\n",
       "      <th>STATE</th>\n",
       "      <th>Age</th>\n",
       "      <th>date_joined</th>\n",
       "      <th>n_dependants</th>\n",
       "      <th>Marital_Status</th>\n",
       "      <th>income</th>\n",
       "      <th>Region</th>\n",
       "    </tr>\n",
       "  </thead>\n",
       "  <tbody>\n",
       "    <tr>\n",
       "      <th>0</th>\n",
       "      <td>2539329</td>\n",
       "      <td>1.0</td>\n",
       "      <td>1</td>\n",
       "      <td>2</td>\n",
       "      <td>8</td>\n",
       "      <td>0.0</td>\n",
       "      <td>196</td>\n",
       "      <td>1</td>\n",
       "      <td>0</td>\n",
       "      <td>Soda</td>\n",
       "      <td>77</td>\n",
       "      <td>7</td>\n",
       "      <td>9.0</td>\n",
       "      <td>Mid-range product</td>\n",
       "      <td>Regularly busy</td>\n",
       "      <td>Regularly busy</td>\n",
       "      <td>Average orders</td>\n",
       "      <td>10</td>\n",
       "      <td>New customer</td>\n",
       "      <td>Low spender</td>\n",
       "      <td>Frequent customer</td>\n",
       "      <td>Linda</td>\n",
       "      <td>Nguyen</td>\n",
       "      <td>Female</td>\n",
       "      <td>Alabama</td>\n",
       "      <td>31</td>\n",
       "      <td>2/17/2019</td>\n",
       "      <td>3</td>\n",
       "      <td>married</td>\n",
       "      <td>40423</td>\n",
       "      <td>South</td>\n",
       "    </tr>\n",
       "  </tbody>\n",
       "</table>\n",
       "</div>"
      ],
      "text/plain": [
       "   order_id  user_id  order_number  orders_day_of_week  order_hour_timestamp  \\\n",
       "0   2539329      1.0             1                   2                     8   \n",
       "\n",
       "   days_since_prior_order  product_id  add_to_cart_order  reordered  \\\n",
       "0                     0.0         196                  1          0   \n",
       "\n",
       "  product_name  aisle_id  department_id  prices        price_range  \\\n",
       "0         Soda        77              7     9.0  Mid-range product   \n",
       "\n",
       "      Busiest_day   Busiest_days2 busiest_period_of_day  max_order  \\\n",
       "0  Regularly busy  Regularly busy        Average orders         10   \n",
       "\n",
       "   loyalty_flag types_of_spenders customer_frecuency First Name Last_Name  \\\n",
       "0  New customer       Low spender  Frequent customer      Linda    Nguyen   \n",
       "\n",
       "   Gender    STATE  Age date_joined  n_dependants Marital_Status  income  \\\n",
       "0  Female  Alabama   31   2/17/2019             3        married   40423   \n",
       "\n",
       "  Region  \n",
       "0  South  "
      ]
     },
     "execution_count": 12,
     "metadata": {},
     "output_type": "execute_result"
    }
   ],
   "source": [
    "df_orders_products_combined.head(1)"
   ]
  },
  {
   "cell_type": "code",
   "execution_count": 13,
   "id": "25e5493a",
   "metadata": {},
   "outputs": [
    {
     "data": {
      "text/plain": [
       "<AxesSubplot:xlabel='Region', ylabel='max_order'>"
      ]
     },
     "execution_count": 13,
     "metadata": {},
     "output_type": "execute_result"
    },
    {
     "data": {
      "image/png": "[encoded data removed]",
      "text/plain": [
       "<Figure size 432x288 with 1 Axes>"
      ]
     },
     "metadata": {
      "needs_background": "light"
     },
     "output_type": "display_data"
    }
   ],
   "source": [
    "# scatterplot region and prices\n",
    "sns.scatterplot(x = 'Region', y = 'max_order', data = df_orders_products_combined)\n",
    "#there is not a clear pattern"
   ]
  },
  {
   "cell_type": "code",
   "execution_count": 14,
   "id": "c11e75f0",
   "metadata": {},
   "outputs": [],
   "source": [
    "# Creating Line Charts using a sample subset\n",
    "np.random.seed(4)\n",
    "dev = np.random.rand(len(df_orders_products_combined)) <= 0.7"
   ]
  },
  {
   "cell_type": "code",
   "execution_count": 15,
   "id": "eaae36a7",
   "metadata": {},
   "outputs": [
    {
     "data": {
      "text/plain": [
       "array([0.93546686, 0.06557465, 0.85698584, 0.24456371, 0.22683171,\n",
       "       0.17068366, 0.27008946, 0.52534234, 0.83151571, 0.78153402])"
      ]
     },
     "execution_count": 15,
     "metadata": {},
     "output_type": "execute_result"
    }
   ],
   "source": [
    "np.random.rand(10)"
   ]
  },
  {
   "cell_type": "code",
   "execution_count": 16,
   "id": "87168409",
   "metadata": {},
   "outputs": [],
   "source": [
    "big = df_orders_products_combined[dev]\n",
    "small = df_orders_products_combined[~dev]"
   ]
  },
  {
   "cell_type": "code",
   "execution_count": 17,
   "id": "4f41a5bd",
   "metadata": {},
   "outputs": [
    {
     "data": {
      "text/plain": [
       "32404859"
      ]
     },
     "execution_count": 17,
     "metadata": {},
     "output_type": "execute_result"
    }
   ],
   "source": [
    "len(df_orders_products_combined)"
   ]
  },
  {
   "cell_type": "code",
   "execution_count": 18,
   "id": "b3b10dbb",
   "metadata": {},
   "outputs": [
    {
     "data": {
      "text/plain": [
       "32404859"
      ]
     },
     "execution_count": 18,
     "metadata": {},
     "output_type": "execute_result"
    }
   ],
   "source": [
    "len(big)+len(small)"
   ]
  },
  {
   "cell_type": "code",
   "execution_count": 19,
   "id": "d3d7403b",
   "metadata": {},
   "outputs": [],
   "source": [
    "#charting the relation between region and prices\n",
    "Linechart1 = small[['Region','prices']]"
   ]
  },
  {
   "cell_type": "code",
   "execution_count": 20,
   "id": "612f45f6",
   "metadata": {},
   "outputs": [
    {
     "data": {
      "image/png": "[encoded data removed]",
      "text/plain": [
       "<Figure size 432x288 with 1 Axes>"
      ]
     },
     "metadata": {
      "needs_background": "light"
     },
     "output_type": "display_data"
    }
   ],
   "source": [
    "# Charting Prices per Region\n",
    "Orders_prices = sns.lineplot(data = Linechart1, x = 'Region',y = 'prices')"
   ]
  },
  {
   "cell_type": "code",
   "execution_count": 21,
   "id": "a7ff57d7",
   "metadata": {},
   "outputs": [],
   "source": [
    "# exporting the chart Prices per Region\n",
    "Orders_prices.figure.savefig(os.path.join(path, '02- Data','Prepared Data', 'Orders_prices.png'))"
   ]
  },
  {
   "cell_type": "code",
   "execution_count": 22,
   "id": "356fb9a2",
   "metadata": {},
   "outputs": [],
   "source": [
    "#charting the relation between region and income\n",
    "Linechart2 = small[['Region','income']]"
   ]
  },
  {
   "cell_type": "code",
   "execution_count": 23,
   "id": "c9d3d055",
   "metadata": {},
   "outputs": [
    {
     "data": {
      "image/png": "[encoded data removed]",
      "text/plain": [
       "<Figure size 432x288 with 1 Axes>"
      ]
     },
     "metadata": {
      "needs_background": "light"
     },
     "output_type": "display_data"
    }
   ],
   "source": [
    "Orders_income = sns.lineplot(data = Linechart2, x = 'Region',y = 'income')"
   ]
  },
  {
   "cell_type": "code",
   "execution_count": 24,
   "id": "68043883",
   "metadata": {},
   "outputs": [],
   "source": [
    "# exporting the chart region and income\n",
    "Orders_income.figure.savefig(os.path.join(path, '02- Data','Prepared Data', 'Orders_income.png'))"
   ]
  },
  {
   "cell_type": "code",
   "execution_count": 25,
   "id": "8960512e",
   "metadata": {},
   "outputs": [],
   "source": [
    "#charting the relation between region and max orders\n",
    "Linechart3 = small[['Region','max_order']]"
   ]
  },
  {
   "cell_type": "code",
   "execution_count": 26,
   "id": "9fbc04fd",
   "metadata": {},
   "outputs": [
    {
     "data": {
      "image/png": "[encoded data removed]",
      "text/plain": [
       "<Figure size 432x288 with 1 Axes>"
      ]
     },
     "metadata": {
      "needs_background": "light"
     },
     "output_type": "display_data"
    }
   ],
   "source": [
    "MaxOrders_region = sns.lineplot(data = Linechart3, x = 'Region', y = 'max_order')"
   ]
  },
  {
   "cell_type": "code",
   "execution_count": 27,
   "id": "aedfdca4",
   "metadata": {},
   "outputs": [],
   "source": [
    "# exporting the chart region and max orders\n",
    "MaxOrders_region.figure.savefig(os.path.join(path, '02- Data','Prepared Data', 'MaxOrders_region.png'))"
   ]
  },
  {
   "cell_type": "code",
   "execution_count": 28,
   "id": "2849727b",
   "metadata": {},
   "outputs": [
    {
     "data": {
      "text/plain": [
       "Region     loyalty_flag    \n",
       "Midwest    Loyal customer      2373774\n",
       "           New customer        1472573\n",
       "           Regular customer    3750978\n",
       "Northeast  Loyal customer      1841785\n",
       "           New customer        1100207\n",
       "           Regular customer    2780744\n",
       "South      Loyal customer      3405844\n",
       "           New customer        2074410\n",
       "           Regular customer    5311631\n",
       "West       Loyal customer      2662690\n",
       "           New customer        1596800\n",
       "           Regular customer    4033423\n",
       "Name: loyalty_flag, dtype: int64"
      ]
     },
     "execution_count": 28,
     "metadata": {},
     "output_type": "execute_result"
    }
   ],
   "source": [
    "# grouping by region and loyalty_flag\n",
    "df_orders_products_combined.groupby(['Region', 'loyalty_flag'])['loyalty_flag'].count()"
   ]
  },
  {
   "cell_type": "code",
   "execution_count": 29,
   "id": "c5ca131a",
   "metadata": {},
   "outputs": [
    {
     "data": {
      "text/plain": [
       "Region     types_of_spenders\n",
       "Midwest    High spender         2497034\n",
       "           Low spender          5100291\n",
       "Northeast  High spender         1875170\n",
       "           Low spender          3847566\n",
       "South      High spender         3549625\n",
       "           Low spender          7242260\n",
       "West       High spender         2722093\n",
       "           Low spender          5570820\n",
       "Name: types_of_spenders, dtype: int64"
      ]
     },
     "execution_count": 29,
     "metadata": {},
     "output_type": "execute_result"
    }
   ],
   "source": [
    "# grouping by region and types_of_spenders\n",
    "df_orders_products_combined.groupby(['Region', 'types_of_spenders'])['types_of_spenders'].count()"
   ]
  },
  {
   "cell_type": "code",
   "execution_count": 30,
   "id": "93e9e9ee",
   "metadata": {},
   "outputs": [
    {
     "data": {
      "text/plain": [
       "<AxesSubplot:xlabel='Marital_Status', ylabel='max_order'>"
      ]
     },
     "execution_count": 30,
     "metadata": {},
     "output_type": "execute_result"
    },
    {
     "data": {
      "image/png": "[encoded data removed]",
      "text/plain": [
       "<Figure size 432x288 with 1 Axes>"
      ]
     },
     "metadata": {
      "needs_background": "light"
     },
     "output_type": "display_data"
    }
   ],
   "source": [
    "# scatterplot region and prices\n",
    "sns.scatterplot(x = 'Marital_Status', y = 'max_order', data = df_orders_products_combined)\n",
    "#this chart is not useful"
   ]
  },
  {
   "cell_type": "code",
   "execution_count": 31,
   "id": "8687d9ca",
   "metadata": {},
   "outputs": [],
   "source": [
    "#charting the relation between Marital Status and Max Orders\n",
    "Linechart4 = small[['Marital_Status','max_order']]"
   ]
  },
  {
   "cell_type": "code",
   "execution_count": 32,
   "id": "25c92425",
   "metadata": {},
   "outputs": [
    {
     "data": {
      "image/png": "[encoded data removed]",
      "text/plain": [
       "<Figure size 432x288 with 1 Axes>"
      ]
     },
     "metadata": {
      "needs_background": "light"
     },
     "output_type": "display_data"
    }
   ],
   "source": [
    "martital_status_MaxOrders = sns.lineplot(data = Linechart4, x = 'Marital_Status', y = 'max_order')"
   ]
  },
  {
   "cell_type": "code",
   "execution_count": 33,
   "id": "a9d3f189",
   "metadata": {},
   "outputs": [],
   "source": [
    "# exporting the chart martital_status_MaxOrders\n",
    "martital_status_MaxOrders.figure.savefig(os.path.join(path, '02- Data','Prepared Data', 'martital_status_MaxOrders.png'))"
   ]
  },
  {
   "cell_type": "code",
   "execution_count": 34,
   "id": "2da66014",
   "metadata": {},
   "outputs": [],
   "source": [
    "#charting the relation between Marital Status and Region\n",
    "Linechart5 = small[['Marital_Status','Region']]"
   ]
  },
  {
   "cell_type": "code",
   "execution_count": 35,
   "id": "b89f67ca",
   "metadata": {},
   "outputs": [
    {
     "data": {
      "image/png": "[encoded data removed]",
      "text/plain": [
       "<Figure size 432x288 with 1 Axes>"
      ]
     },
     "metadata": {
      "needs_background": "light"
     },
     "output_type": "display_data"
    }
   ],
   "source": [
    "martital_status_Region = sns.lineplot(data = Linechart5, x = 'Marital_Status', y = 'Region')"
   ]
  },
  {
   "cell_type": "code",
   "execution_count": 36,
   "id": "4032bcda",
   "metadata": {},
   "outputs": [],
   "source": [
    "#Creating a crosstab to find the relation between Marital Status and Region\n",
    "crosstab = pd.crosstab(df_orders_products_combined['Marital_Status'], df_orders_products_combined['Region'], dropna = False)"
   ]
  },
  {
   "cell_type": "code",
   "execution_count": 37,
   "id": "ff610b58",
   "metadata": {},
   "outputs": [
    {
     "data": {
      "text/html": [
       "<div>\n",
       "<style scoped>\n",
       "    .dataframe tbody tr th:only-of-type {\n",
       "        vertical-align: middle;\n",
       "    }\n",
       "\n",
       "    .dataframe tbody tr th {\n",
       "        vertical-align: top;\n",
       "    }\n",
       "\n",
       "    .dataframe thead th {\n",
       "        text-align: right;\n",
       "    }\n",
       "</style>\n",
       "<table border=\"1\" class=\"dataframe\">\n",
       "  <thead>\n",
       "    <tr style=\"text-align: right;\">\n",
       "      <th>Region</th>\n",
       "      <th>Midwest</th>\n",
       "      <th>Northeast</th>\n",
       "      <th>South</th>\n",
       "      <th>West</th>\n",
       "    </tr>\n",
       "    <tr>\n",
       "      <th>Marital_Status</th>\n",
       "      <th></th>\n",
       "      <th></th>\n",
       "      <th></th>\n",
       "      <th></th>\n",
       "    </tr>\n",
       "  </thead>\n",
       "  <tbody>\n",
       "    <tr>\n",
       "      <th>divorced/widowed</th>\n",
       "      <td>646401</td>\n",
       "      <td>501059</td>\n",
       "      <td>920849</td>\n",
       "      <td>703503</td>\n",
       "    </tr>\n",
       "    <tr>\n",
       "      <th>living with parents and siblings</th>\n",
       "      <td>366517</td>\n",
       "      <td>268114</td>\n",
       "      <td>529584</td>\n",
       "      <td>386388</td>\n",
       "    </tr>\n",
       "    <tr>\n",
       "      <th>married</th>\n",
       "      <td>5325608</td>\n",
       "      <td>4036321</td>\n",
       "      <td>7560642</td>\n",
       "      <td>5834182</td>\n",
       "    </tr>\n",
       "    <tr>\n",
       "      <th>single</th>\n",
       "      <td>1258799</td>\n",
       "      <td>917242</td>\n",
       "      <td>1780810</td>\n",
       "      <td>1368840</td>\n",
       "    </tr>\n",
       "  </tbody>\n",
       "</table>\n",
       "</div>"
      ],
      "text/plain": [
       "Region                            Midwest  Northeast    South     West\n",
       "Marital_Status                                                        \n",
       "divorced/widowed                   646401     501059   920849   703503\n",
       "living with parents and siblings   366517     268114   529584   386388\n",
       "married                           5325608    4036321  7560642  5834182\n",
       "single                            1258799     917242  1780810  1368840"
      ]
     },
     "execution_count": 37,
     "metadata": {},
     "output_type": "execute_result"
    }
   ],
   "source": [
    "crosstab"
   ]
  },
  {
   "cell_type": "code",
   "execution_count": 38,
   "id": "efd00af1",
   "metadata": {},
   "outputs": [],
   "source": [
    "#exporting the crosstab with region/maritalstatus\n",
    "crosstab.to_clipboard()"
   ]
  },
  {
   "cell_type": "code",
   "execution_count": 39,
   "id": "a8209f23",
   "metadata": {},
   "outputs": [],
   "source": [
    "#Creating a crosstab to find the relation between Marital Status and Age\n",
    "crosstab2 = pd.crosstab(df_orders_products_combined['Marital_Status'], df_orders_products_combined['Age'], dropna = False)"
   ]
  },
  {
   "cell_type": "code",
   "execution_count": 40,
   "id": "baf3feb2",
   "metadata": {
    "scrolled": true
   },
   "outputs": [
    {
     "data": {
      "text/html": [
       "<div>\n",
       "<style scoped>\n",
       "    .dataframe tbody tr th:only-of-type {\n",
       "        vertical-align: middle;\n",
       "    }\n",
       "\n",
       "    .dataframe tbody tr th {\n",
       "        vertical-align: top;\n",
       "    }\n",
       "\n",
       "    .dataframe thead th {\n",
       "        text-align: right;\n",
       "    }\n",
       "</style>\n",
       "<table border=\"1\" class=\"dataframe\">\n",
       "  <thead>\n",
       "    <tr style=\"text-align: right;\">\n",
       "      <th>Age</th>\n",
       "      <th>18</th>\n",
       "      <th>19</th>\n",
       "      <th>20</th>\n",
       "      <th>21</th>\n",
       "      <th>22</th>\n",
       "      <th>23</th>\n",
       "      <th>24</th>\n",
       "      <th>25</th>\n",
       "      <th>26</th>\n",
       "      <th>27</th>\n",
       "      <th>28</th>\n",
       "      <th>29</th>\n",
       "      <th>30</th>\n",
       "      <th>31</th>\n",
       "      <th>32</th>\n",
       "      <th>33</th>\n",
       "      <th>34</th>\n",
       "      <th>35</th>\n",
       "      <th>36</th>\n",
       "      <th>37</th>\n",
       "      <th>38</th>\n",
       "      <th>39</th>\n",
       "      <th>40</th>\n",
       "      <th>41</th>\n",
       "      <th>42</th>\n",
       "      <th>43</th>\n",
       "      <th>44</th>\n",
       "      <th>45</th>\n",
       "      <th>46</th>\n",
       "      <th>47</th>\n",
       "      <th>48</th>\n",
       "      <th>49</th>\n",
       "      <th>50</th>\n",
       "      <th>51</th>\n",
       "      <th>52</th>\n",
       "      <th>53</th>\n",
       "      <th>54</th>\n",
       "      <th>55</th>\n",
       "      <th>56</th>\n",
       "      <th>57</th>\n",
       "      <th>58</th>\n",
       "      <th>59</th>\n",
       "      <th>60</th>\n",
       "      <th>61</th>\n",
       "      <th>62</th>\n",
       "      <th>63</th>\n",
       "      <th>64</th>\n",
       "      <th>65</th>\n",
       "      <th>66</th>\n",
       "      <th>67</th>\n",
       "      <th>68</th>\n",
       "      <th>69</th>\n",
       "      <th>70</th>\n",
       "      <th>71</th>\n",
       "      <th>72</th>\n",
       "      <th>73</th>\n",
       "      <th>74</th>\n",
       "      <th>75</th>\n",
       "      <th>76</th>\n",
       "      <th>77</th>\n",
       "      <th>78</th>\n",
       "      <th>79</th>\n",
       "      <th>80</th>\n",
       "      <th>81</th>\n",
       "    </tr>\n",
       "    <tr>\n",
       "      <th>Marital_Status</th>\n",
       "      <th></th>\n",
       "      <th></th>\n",
       "      <th></th>\n",
       "      <th></th>\n",
       "      <th></th>\n",
       "      <th></th>\n",
       "      <th></th>\n",
       "      <th></th>\n",
       "      <th></th>\n",
       "      <th></th>\n",
       "      <th></th>\n",
       "      <th></th>\n",
       "      <th></th>\n",
       "      <th></th>\n",
       "      <th></th>\n",
       "      <th></th>\n",
       "      <th></th>\n",
       "      <th></th>\n",
       "      <th></th>\n",
       "      <th></th>\n",
       "      <th></th>\n",
       "      <th></th>\n",
       "      <th></th>\n",
       "      <th></th>\n",
       "      <th></th>\n",
       "      <th></th>\n",
       "      <th></th>\n",
       "      <th></th>\n",
       "      <th></th>\n",
       "      <th></th>\n",
       "      <th></th>\n",
       "      <th></th>\n",
       "      <th></th>\n",
       "      <th></th>\n",
       "      <th></th>\n",
       "      <th></th>\n",
       "      <th></th>\n",
       "      <th></th>\n",
       "      <th></th>\n",
       "      <th></th>\n",
       "      <th></th>\n",
       "      <th></th>\n",
       "      <th></th>\n",
       "      <th></th>\n",
       "      <th></th>\n",
       "      <th></th>\n",
       "      <th></th>\n",
       "      <th></th>\n",
       "      <th></th>\n",
       "      <th></th>\n",
       "      <th></th>\n",
       "      <th></th>\n",
       "      <th></th>\n",
       "      <th></th>\n",
       "      <th></th>\n",
       "      <th></th>\n",
       "      <th></th>\n",
       "      <th></th>\n",
       "      <th></th>\n",
       "      <th></th>\n",
       "      <th></th>\n",
       "      <th></th>\n",
       "      <th></th>\n",
       "      <th></th>\n",
       "    </tr>\n",
       "  </thead>\n",
       "  <tbody>\n",
       "    <tr>\n",
       "      <th>divorced/widowed</th>\n",
       "      <td>0</td>\n",
       "      <td>0</td>\n",
       "      <td>0</td>\n",
       "      <td>0</td>\n",
       "      <td>0</td>\n",
       "      <td>0</td>\n",
       "      <td>0</td>\n",
       "      <td>0</td>\n",
       "      <td>0</td>\n",
       "      <td>0</td>\n",
       "      <td>0</td>\n",
       "      <td>0</td>\n",
       "      <td>0</td>\n",
       "      <td>0</td>\n",
       "      <td>0</td>\n",
       "      <td>0</td>\n",
       "      <td>0</td>\n",
       "      <td>0</td>\n",
       "      <td>0</td>\n",
       "      <td>0</td>\n",
       "      <td>0</td>\n",
       "      <td>0</td>\n",
       "      <td>0</td>\n",
       "      <td>0</td>\n",
       "      <td>0</td>\n",
       "      <td>0</td>\n",
       "      <td>0</td>\n",
       "      <td>0</td>\n",
       "      <td>0</td>\n",
       "      <td>0</td>\n",
       "      <td>0</td>\n",
       "      <td>0</td>\n",
       "      <td>0</td>\n",
       "      <td>0</td>\n",
       "      <td>0</td>\n",
       "      <td>0</td>\n",
       "      <td>0</td>\n",
       "      <td>0</td>\n",
       "      <td>0</td>\n",
       "      <td>0</td>\n",
       "      <td>0</td>\n",
       "      <td>0</td>\n",
       "      <td>117221</td>\n",
       "      <td>134722</td>\n",
       "      <td>123957</td>\n",
       "      <td>135331</td>\n",
       "      <td>140497</td>\n",
       "      <td>122169</td>\n",
       "      <td>112536</td>\n",
       "      <td>129858</td>\n",
       "      <td>125430</td>\n",
       "      <td>120724</td>\n",
       "      <td>122600</td>\n",
       "      <td>125758</td>\n",
       "      <td>121136</td>\n",
       "      <td>132061</td>\n",
       "      <td>120405</td>\n",
       "      <td>128105</td>\n",
       "      <td>117963</td>\n",
       "      <td>119783</td>\n",
       "      <td>128848</td>\n",
       "      <td>124377</td>\n",
       "      <td>123674</td>\n",
       "      <td>144657</td>\n",
       "    </tr>\n",
       "    <tr>\n",
       "      <th>living with parents and siblings</th>\n",
       "      <td>375158</td>\n",
       "      <td>408822</td>\n",
       "      <td>377039</td>\n",
       "      <td>389584</td>\n",
       "      <td>0</td>\n",
       "      <td>0</td>\n",
       "      <td>0</td>\n",
       "      <td>0</td>\n",
       "      <td>0</td>\n",
       "      <td>0</td>\n",
       "      <td>0</td>\n",
       "      <td>0</td>\n",
       "      <td>0</td>\n",
       "      <td>0</td>\n",
       "      <td>0</td>\n",
       "      <td>0</td>\n",
       "      <td>0</td>\n",
       "      <td>0</td>\n",
       "      <td>0</td>\n",
       "      <td>0</td>\n",
       "      <td>0</td>\n",
       "      <td>0</td>\n",
       "      <td>0</td>\n",
       "      <td>0</td>\n",
       "      <td>0</td>\n",
       "      <td>0</td>\n",
       "      <td>0</td>\n",
       "      <td>0</td>\n",
       "      <td>0</td>\n",
       "      <td>0</td>\n",
       "      <td>0</td>\n",
       "      <td>0</td>\n",
       "      <td>0</td>\n",
       "      <td>0</td>\n",
       "      <td>0</td>\n",
       "      <td>0</td>\n",
       "      <td>0</td>\n",
       "      <td>0</td>\n",
       "      <td>0</td>\n",
       "      <td>0</td>\n",
       "      <td>0</td>\n",
       "      <td>0</td>\n",
       "      <td>0</td>\n",
       "      <td>0</td>\n",
       "      <td>0</td>\n",
       "      <td>0</td>\n",
       "      <td>0</td>\n",
       "      <td>0</td>\n",
       "      <td>0</td>\n",
       "      <td>0</td>\n",
       "      <td>0</td>\n",
       "      <td>0</td>\n",
       "      <td>0</td>\n",
       "      <td>0</td>\n",
       "      <td>0</td>\n",
       "      <td>0</td>\n",
       "      <td>0</td>\n",
       "      <td>0</td>\n",
       "      <td>0</td>\n",
       "      <td>0</td>\n",
       "      <td>0</td>\n",
       "      <td>0</td>\n",
       "      <td>0</td>\n",
       "      <td>0</td>\n",
       "    </tr>\n",
       "    <tr>\n",
       "      <th>married</th>\n",
       "      <td>0</td>\n",
       "      <td>0</td>\n",
       "      <td>0</td>\n",
       "      <td>0</td>\n",
       "      <td>379672</td>\n",
       "      <td>387482</td>\n",
       "      <td>391666</td>\n",
       "      <td>338217</td>\n",
       "      <td>391110</td>\n",
       "      <td>375016</td>\n",
       "      <td>377359</td>\n",
       "      <td>386086</td>\n",
       "      <td>377859</td>\n",
       "      <td>393130</td>\n",
       "      <td>379623</td>\n",
       "      <td>365176</td>\n",
       "      <td>377729</td>\n",
       "      <td>399469</td>\n",
       "      <td>363116</td>\n",
       "      <td>391339</td>\n",
       "      <td>385295</td>\n",
       "      <td>372415</td>\n",
       "      <td>381077</td>\n",
       "      <td>348516</td>\n",
       "      <td>383371</td>\n",
       "      <td>389752</td>\n",
       "      <td>390555</td>\n",
       "      <td>386270</td>\n",
       "      <td>361793</td>\n",
       "      <td>397176</td>\n",
       "      <td>407278</td>\n",
       "      <td>395751</td>\n",
       "      <td>378506</td>\n",
       "      <td>388141</td>\n",
       "      <td>370706</td>\n",
       "      <td>373663</td>\n",
       "      <td>397377</td>\n",
       "      <td>377394</td>\n",
       "      <td>400434</td>\n",
       "      <td>368763</td>\n",
       "      <td>364629</td>\n",
       "      <td>368399</td>\n",
       "      <td>367195</td>\n",
       "      <td>353178</td>\n",
       "      <td>372012</td>\n",
       "      <td>360546</td>\n",
       "      <td>387512</td>\n",
       "      <td>364814</td>\n",
       "      <td>363683</td>\n",
       "      <td>364399</td>\n",
       "      <td>398886</td>\n",
       "      <td>392594</td>\n",
       "      <td>379221</td>\n",
       "      <td>360086</td>\n",
       "      <td>381537</td>\n",
       "      <td>388942</td>\n",
       "      <td>378162</td>\n",
       "      <td>391951</td>\n",
       "      <td>380361</td>\n",
       "      <td>382337</td>\n",
       "      <td>366463</td>\n",
       "      <td>405365</td>\n",
       "      <td>391572</td>\n",
       "      <td>364627</td>\n",
       "    </tr>\n",
       "    <tr>\n",
       "      <th>single</th>\n",
       "      <td>125316</td>\n",
       "      <td>110784</td>\n",
       "      <td>125809</td>\n",
       "      <td>122943</td>\n",
       "      <td>134181</td>\n",
       "      <td>127149</td>\n",
       "      <td>117396</td>\n",
       "      <td>133971</td>\n",
       "      <td>121703</td>\n",
       "      <td>149302</td>\n",
       "      <td>110504</td>\n",
       "      <td>134172</td>\n",
       "      <td>131059</td>\n",
       "      <td>135421</td>\n",
       "      <td>118280</td>\n",
       "      <td>129323</td>\n",
       "      <td>129614</td>\n",
       "      <td>119295</td>\n",
       "      <td>120696</td>\n",
       "      <td>119212</td>\n",
       "      <td>129967</td>\n",
       "      <td>135733</td>\n",
       "      <td>124777</td>\n",
       "      <td>126709</td>\n",
       "      <td>123405</td>\n",
       "      <td>132487</td>\n",
       "      <td>125243</td>\n",
       "      <td>124971</td>\n",
       "      <td>132367</td>\n",
       "      <td>119680</td>\n",
       "      <td>122450</td>\n",
       "      <td>135609</td>\n",
       "      <td>110290</td>\n",
       "      <td>126800</td>\n",
       "      <td>131545</td>\n",
       "      <td>127928</td>\n",
       "      <td>122825</td>\n",
       "      <td>134095</td>\n",
       "      <td>122054</td>\n",
       "      <td>128567</td>\n",
       "      <td>137960</td>\n",
       "      <td>134099</td>\n",
       "      <td>0</td>\n",
       "      <td>0</td>\n",
       "      <td>0</td>\n",
       "      <td>0</td>\n",
       "      <td>0</td>\n",
       "      <td>0</td>\n",
       "      <td>0</td>\n",
       "      <td>0</td>\n",
       "      <td>0</td>\n",
       "      <td>0</td>\n",
       "      <td>0</td>\n",
       "      <td>0</td>\n",
       "      <td>0</td>\n",
       "      <td>0</td>\n",
       "      <td>0</td>\n",
       "      <td>0</td>\n",
       "      <td>0</td>\n",
       "      <td>0</td>\n",
       "      <td>0</td>\n",
       "      <td>0</td>\n",
       "      <td>0</td>\n",
       "      <td>0</td>\n",
       "    </tr>\n",
       "  </tbody>\n",
       "</table>\n",
       "</div>"
      ],
      "text/plain": [
       "Age                                   18      19      20      21      22  \\\n",
       "Marital_Status                                                             \n",
       "divorced/widowed                       0       0       0       0       0   \n",
       "living with parents and siblings  375158  408822  377039  389584       0   \n",
       "married                                0       0       0       0  379672   \n",
       "single                            125316  110784  125809  122943  134181   \n",
       "\n",
       "Age                                   23      24      25      26      27  \\\n",
       "Marital_Status                                                             \n",
       "divorced/widowed                       0       0       0       0       0   \n",
       "living with parents and siblings       0       0       0       0       0   \n",
       "married                           387482  391666  338217  391110  375016   \n",
       "single                            127149  117396  133971  121703  149302   \n",
       "\n",
       "Age                                   28      29      30      31      32  \\\n",
       "Marital_Status                                                             \n",
       "divorced/widowed                       0       0       0       0       0   \n",
       "living with parents and siblings       0       0       0       0       0   \n",
       "married                           377359  386086  377859  393130  379623   \n",
       "single                            110504  134172  131059  135421  118280   \n",
       "\n",
       "Age                                   33      34      35      36      37  \\\n",
       "Marital_Status                                                             \n",
       "divorced/widowed                       0       0       0       0       0   \n",
       "living with parents and siblings       0       0       0       0       0   \n",
       "married                           365176  377729  399469  363116  391339   \n",
       "single                            129323  129614  119295  120696  119212   \n",
       "\n",
       "Age                                   38      39      40      41      42  \\\n",
       "Marital_Status                                                             \n",
       "divorced/widowed                       0       0       0       0       0   \n",
       "living with parents and siblings       0       0       0       0       0   \n",
       "married                           385295  372415  381077  348516  383371   \n",
       "single                            129967  135733  124777  126709  123405   \n",
       "\n",
       "Age                                   43      44      45      46      47  \\\n",
       "Marital_Status                                                             \n",
       "divorced/widowed                       0       0       0       0       0   \n",
       "living with parents and siblings       0       0       0       0       0   \n",
       "married                           389752  390555  386270  361793  397176   \n",
       "single                            132487  125243  124971  132367  119680   \n",
       "\n",
       "Age                                   48      49      50      51      52  \\\n",
       "Marital_Status                                                             \n",
       "divorced/widowed                       0       0       0       0       0   \n",
       "living with parents and siblings       0       0       0       0       0   \n",
       "married                           407278  395751  378506  388141  370706   \n",
       "single                            122450  135609  110290  126800  131545   \n",
       "\n",
       "Age                                   53      54      55      56      57  \\\n",
       "Marital_Status                                                             \n",
       "divorced/widowed                       0       0       0       0       0   \n",
       "living with parents and siblings       0       0       0       0       0   \n",
       "married                           373663  397377  377394  400434  368763   \n",
       "single                            127928  122825  134095  122054  128567   \n",
       "\n",
       "Age                                   58      59      60      61      62  \\\n",
       "Marital_Status                                                             \n",
       "divorced/widowed                       0       0  117221  134722  123957   \n",
       "living with parents and siblings       0       0       0       0       0   \n",
       "married                           364629  368399  367195  353178  372012   \n",
       "single                            137960  134099       0       0       0   \n",
       "\n",
       "Age                                   63      64      65      66      67  \\\n",
       "Marital_Status                                                             \n",
       "divorced/widowed                  135331  140497  122169  112536  129858   \n",
       "living with parents and siblings       0       0       0       0       0   \n",
       "married                           360546  387512  364814  363683  364399   \n",
       "single                                 0       0       0       0       0   \n",
       "\n",
       "Age                                   68      69      70      71      72  \\\n",
       "Marital_Status                                                             \n",
       "divorced/widowed                  125430  120724  122600  125758  121136   \n",
       "living with parents and siblings       0       0       0       0       0   \n",
       "married                           398886  392594  379221  360086  381537   \n",
       "single                                 0       0       0       0       0   \n",
       "\n",
       "Age                                   73      74      75      76      77  \\\n",
       "Marital_Status                                                             \n",
       "divorced/widowed                  132061  120405  128105  117963  119783   \n",
       "living with parents and siblings       0       0       0       0       0   \n",
       "married                           388942  378162  391951  380361  382337   \n",
       "single                                 0       0       0       0       0   \n",
       "\n",
       "Age                                   78      79      80      81  \n",
       "Marital_Status                                                    \n",
       "divorced/widowed                  128848  124377  123674  144657  \n",
       "living with parents and siblings       0       0       0       0  \n",
       "married                           366463  405365  391572  364627  \n",
       "single                                 0       0       0       0  "
      ]
     },
     "execution_count": 40,
     "metadata": {},
     "output_type": "execute_result"
    }
   ],
   "source": [
    "crosstab2"
   ]
  },
  {
   "cell_type": "code",
   "execution_count": 41,
   "id": "162e7e71",
   "metadata": {},
   "outputs": [],
   "source": [
    "#exporting the crosstab with Age/maritalstatus\n",
    "crosstab2.to_clipboard()"
   ]
  },
  {
   "cell_type": "markdown",
   "id": "f42fd083",
   "metadata": {},
   "source": [
    "# 04- The Instacart CFO isn’t interested in customers who don’t generate much revenue for the app. Create an exclusion flag for low-activity customers (customers with less than 5 orders) and exclude them from the data. Make sure you export this sample."
   ]
  },
  {
   "cell_type": "code",
   "execution_count": 42,
   "id": "9431971c",
   "metadata": {},
   "outputs": [],
   "source": [
    "# testing how many customers with less than 5 orders are in the dataframe\n",
    "DF_customers_by_region_test = df_orders_products_combined[df_orders_products_combined['max_order'] < 5]"
   ]
  },
  {
   "cell_type": "code",
   "execution_count": 43,
   "id": "69595439",
   "metadata": {},
   "outputs": [
    {
     "data": {
      "text/html": [
       "<div>\n",
       "<style scoped>\n",
       "    .dataframe tbody tr th:only-of-type {\n",
       "        vertical-align: middle;\n",
       "    }\n",
       "\n",
       "    .dataframe tbody tr th {\n",
       "        vertical-align: top;\n",
       "    }\n",
       "\n",
       "    .dataframe thead th {\n",
       "        text-align: right;\n",
       "    }\n",
       "</style>\n",
       "<table border=\"1\" class=\"dataframe\">\n",
       "  <thead>\n",
       "    <tr style=\"text-align: right;\">\n",
       "      <th></th>\n",
       "      <th>order_id</th>\n",
       "      <th>user_id</th>\n",
       "      <th>order_number</th>\n",
       "      <th>orders_day_of_week</th>\n",
       "      <th>order_hour_timestamp</th>\n",
       "      <th>days_since_prior_order</th>\n",
       "      <th>product_id</th>\n",
       "      <th>add_to_cart_order</th>\n",
       "      <th>reordered</th>\n",
       "      <th>product_name</th>\n",
       "      <th>aisle_id</th>\n",
       "      <th>department_id</th>\n",
       "      <th>prices</th>\n",
       "      <th>price_range</th>\n",
       "      <th>Busiest_day</th>\n",
       "      <th>Busiest_days2</th>\n",
       "      <th>busiest_period_of_day</th>\n",
       "      <th>max_order</th>\n",
       "      <th>loyalty_flag</th>\n",
       "      <th>types_of_spenders</th>\n",
       "      <th>customer_frecuency</th>\n",
       "      <th>First Name</th>\n",
       "      <th>Last_Name</th>\n",
       "      <th>Gender</th>\n",
       "      <th>STATE</th>\n",
       "      <th>Age</th>\n",
       "      <th>date_joined</th>\n",
       "      <th>n_dependants</th>\n",
       "      <th>Marital_Status</th>\n",
       "      <th>income</th>\n",
       "      <th>Region</th>\n",
       "    </tr>\n",
       "  </thead>\n",
       "  <tbody>\n",
       "    <tr>\n",
       "      <th>75</th>\n",
       "      <td>520620</td>\n",
       "      <td>120.0</td>\n",
       "      <td>1</td>\n",
       "      <td>3</td>\n",
       "      <td>11</td>\n",
       "      <td>0.0</td>\n",
       "      <td>196</td>\n",
       "      <td>2</td>\n",
       "      <td>0</td>\n",
       "      <td>Soda</td>\n",
       "      <td>77</td>\n",
       "      <td>7</td>\n",
       "      <td>9.0</td>\n",
       "      <td>Mid-range product</td>\n",
       "      <td>Regularly busy</td>\n",
       "      <td>Slowest days</td>\n",
       "      <td>Most orders</td>\n",
       "      <td>3</td>\n",
       "      <td>New customer</td>\n",
       "      <td>Low spender</td>\n",
       "      <td>Frequent customer</td>\n",
       "      <td>Sarah</td>\n",
       "      <td>Rich</td>\n",
       "      <td>Female</td>\n",
       "      <td>Kentucky</td>\n",
       "      <td>54</td>\n",
       "      <td>3/2/2017</td>\n",
       "      <td>2</td>\n",
       "      <td>married</td>\n",
       "      <td>99219</td>\n",
       "      <td>South</td>\n",
       "    </tr>\n",
       "  </tbody>\n",
       "</table>\n",
       "</div>"
      ],
      "text/plain": [
       "    order_id  user_id  order_number  orders_day_of_week  order_hour_timestamp  \\\n",
       "75    520620    120.0             1                   3                    11   \n",
       "\n",
       "    days_since_prior_order  product_id  add_to_cart_order  reordered  \\\n",
       "75                     0.0         196                  2          0   \n",
       "\n",
       "   product_name  aisle_id  department_id  prices        price_range  \\\n",
       "75         Soda        77              7     9.0  Mid-range product   \n",
       "\n",
       "       Busiest_day Busiest_days2 busiest_period_of_day  max_order  \\\n",
       "75  Regularly busy  Slowest days           Most orders          3   \n",
       "\n",
       "    loyalty_flag types_of_spenders customer_frecuency First Name Last_Name  \\\n",
       "75  New customer       Low spender  Frequent customer      Sarah      Rich   \n",
       "\n",
       "    Gender     STATE  Age date_joined  n_dependants Marital_Status  income  \\\n",
       "75  Female  Kentucky   54    3/2/2017             2        married   99219   \n",
       "\n",
       "   Region  \n",
       "75  South  "
      ]
     },
     "execution_count": 43,
     "metadata": {},
     "output_type": "execute_result"
    }
   ],
   "source": [
    "DF_customers_by_region_test.head(1)"
   ]
  },
  {
   "cell_type": "code",
   "execution_count": 44,
   "id": "351ba42d",
   "metadata": {},
   "outputs": [
    {
     "data": {
      "text/plain": [
       "(1440295, 31)"
      ]
     },
     "execution_count": 44,
     "metadata": {},
     "output_type": "execute_result"
    }
   ],
   "source": [
    "DF_customers_by_region_test.shape"
   ]
  },
  {
   "cell_type": "code",
   "execution_count": 45,
   "id": "46f0f186",
   "metadata": {},
   "outputs": [],
   "source": [
    "exclude = df_orders_products_combined[df_orders_products_combined['max_order'] < 5]"
   ]
  },
  {
   "cell_type": "markdown",
   "id": "a2f41ce2",
   "metadata": {},
   "source": [
    "there are 1.440.295 lines to exclude"
   ]
  },
  {
   "cell_type": "code",
   "execution_count": 46,
   "id": "b84aea43",
   "metadata": {},
   "outputs": [],
   "source": [
    "#exporting the values we are going to clean from the dataframe\n",
    "exclude.to_csv(os.path.join(path, '02- Data','Prepared Data', 'exclude.csv'))"
   ]
  },
  {
   "cell_type": "code",
   "execution_count": 47,
   "id": "fb636abc",
   "metadata": {},
   "outputs": [],
   "source": [
    "# grouping by User ID and Max_order\n",
    "count = exclude.groupby(['user_id', 'max_order'])['user_id'].count()"
   ]
  },
  {
   "cell_type": "code",
   "execution_count": 48,
   "id": "7a85d5ef",
   "metadata": {},
   "outputs": [
    {
     "data": {
      "text/plain": [
       "(43578,)"
      ]
     },
     "execution_count": 48,
     "metadata": {},
     "output_type": "execute_result"
    }
   ],
   "source": [
    "count.shape"
   ]
  },
  {
   "cell_type": "code",
   "execution_count": 49,
   "id": "77ae2768",
   "metadata": {},
   "outputs": [],
   "source": [
    "#There are 43.578 customers that are going to be excluded from the database, resulting in 1.440.095 lines with Max orders < 5"
   ]
  },
  {
   "cell_type": "code",
   "execution_count": 50,
   "id": "0c177fe0",
   "metadata": {},
   "outputs": [],
   "source": [
    "#EXCLUDING THE CUSTOMERS WITH MAX ORDERS < 5\n",
    "df_orders_products_combined_cleaned =df_orders_products_combined[df_orders_products_combined['max_order'] >= 5]"
   ]
  },
  {
   "cell_type": "code",
   "execution_count": 51,
   "id": "368e8219",
   "metadata": {},
   "outputs": [
    {
     "data": {
      "text/plain": [
       "(30964564, 31)"
      ]
     },
     "execution_count": 51,
     "metadata": {},
     "output_type": "execute_result"
    }
   ],
   "source": [
    "df_orders_products_combined_cleaned.shape"
   ]
  },
  {
   "cell_type": "code",
   "execution_count": 52,
   "id": "d021a169",
   "metadata": {},
   "outputs": [
    {
     "data": {
      "text/plain": [
       "(32404859, 31)"
      ]
     },
     "execution_count": 52,
     "metadata": {},
     "output_type": "execute_result"
    }
   ],
   "source": [
    "df_orders_products_combined.shape"
   ]
  },
  {
   "cell_type": "code",
   "execution_count": 53,
   "id": "e384432d",
   "metadata": {},
   "outputs": [],
   "source": [
    "#checking exluded values\n",
    "excludedval = 32404859 - 30964564"
   ]
  },
  {
   "cell_type": "code",
   "execution_count": 54,
   "id": "830faa0e",
   "metadata": {},
   "outputs": [
    {
     "data": {
      "text/plain": [
       "1440295"
      ]
     },
     "execution_count": 54,
     "metadata": {},
     "output_type": "execute_result"
    }
   ],
   "source": [
    "excludedval"
   ]
  },
  {
   "cell_type": "markdown",
   "id": "416a4bcc",
   "metadata": {},
   "source": [
    "# 05- The marketing and business strategy units at Instacart want to create more-relevant marketing strategies for different products and are, thus, curious about customer profiling in their database. Create a profiling variable based on age, income, certain goods in the “department_id” column, and number of dependents. You might also use the “orders_day_of_the_week” and “order_hour_of_day” columns if you can think of a way they would impact customer profiles. (Hint: As an example, try thinking of what characteristics would lead you to the profile “Single adult” or “Young parent.”)"
   ]
  },
  {
   "cell_type": "code",
   "execution_count": 73,
   "id": "2b334ebb",
   "metadata": {},
   "outputs": [],
   "source": [
    "#Creating a crosstab to find the relation between Department ID and Region\n",
    "crosstab_dep_id = pd.crosstab(df_orders_products_combined_cleaned['department_id'], df_orders_products_combined_cleaned['Region'], dropna = False)"
   ]
  },
  {
   "cell_type": "code",
   "execution_count": 75,
   "id": "d90dc052",
   "metadata": {},
   "outputs": [
    {
     "data": {
      "text/html": [
       "<div>\n",
       "<style scoped>\n",
       "    .dataframe tbody tr th:only-of-type {\n",
       "        vertical-align: middle;\n",
       "    }\n",
       "\n",
       "    .dataframe tbody tr th {\n",
       "        vertical-align: top;\n",
       "    }\n",
       "\n",
       "    .dataframe thead th {\n",
       "        text-align: right;\n",
       "    }\n",
       "</style>\n",
       "<table border=\"1\" class=\"dataframe\">\n",
       "  <thead>\n",
       "    <tr style=\"text-align: right;\">\n",
       "      <th>Region</th>\n",
       "      <th>Midwest</th>\n",
       "      <th>Northeast</th>\n",
       "      <th>South</th>\n",
       "      <th>West</th>\n",
       "    </tr>\n",
       "    <tr>\n",
       "      <th>department_id</th>\n",
       "      <th></th>\n",
       "      <th></th>\n",
       "      <th></th>\n",
       "      <th></th>\n",
       "    </tr>\n",
       "  </thead>\n",
       "  <tbody>\n",
       "    <tr>\n",
       "      <th>1</th>\n",
       "      <td>498225</td>\n",
       "      <td>370436</td>\n",
       "      <td>709906</td>\n",
       "      <td>543164</td>\n",
       "    </tr>\n",
       "    <tr>\n",
       "      <th>2</th>\n",
       "      <td>7983</td>\n",
       "      <td>6268</td>\n",
       "      <td>11579</td>\n",
       "      <td>8581</td>\n",
       "    </tr>\n",
       "    <tr>\n",
       "      <th>3</th>\n",
       "      <td>261753</td>\n",
       "      <td>199300</td>\n",
       "      <td>371620</td>\n",
       "      <td>288155</td>\n",
       "    </tr>\n",
       "    <tr>\n",
       "      <th>4</th>\n",
       "      <td>2134115</td>\n",
       "      <td>1593004</td>\n",
       "      <td>3027476</td>\n",
       "      <td>2324678</td>\n",
       "    </tr>\n",
       "    <tr>\n",
       "      <th>5</th>\n",
       "      <td>34043</td>\n",
       "      <td>25017</td>\n",
       "      <td>48813</td>\n",
       "      <td>36754</td>\n",
       "    </tr>\n",
       "    <tr>\n",
       "      <th>6</th>\n",
       "      <td>60666</td>\n",
       "      <td>44678</td>\n",
       "      <td>84649</td>\n",
       "      <td>65998</td>\n",
       "    </tr>\n",
       "    <tr>\n",
       "      <th>7</th>\n",
       "      <td>598979</td>\n",
       "      <td>462929</td>\n",
       "      <td>859419</td>\n",
       "      <td>650574</td>\n",
       "    </tr>\n",
       "    <tr>\n",
       "      <th>8</th>\n",
       "      <td>21358</td>\n",
       "      <td>17734</td>\n",
       "      <td>29909</td>\n",
       "      <td>24059</td>\n",
       "    </tr>\n",
       "    <tr>\n",
       "      <th>9</th>\n",
       "      <td>193463</td>\n",
       "      <td>143817</td>\n",
       "      <td>272813</td>\n",
       "      <td>212043</td>\n",
       "    </tr>\n",
       "    <tr>\n",
       "      <th>10</th>\n",
       "      <td>7929</td>\n",
       "      <td>5599</td>\n",
       "      <td>11180</td>\n",
       "      <td>8743</td>\n",
       "    </tr>\n",
       "    <tr>\n",
       "      <th>11</th>\n",
       "      <td>100398</td>\n",
       "      <td>74765</td>\n",
       "      <td>142496</td>\n",
       "      <td>106647</td>\n",
       "    </tr>\n",
       "    <tr>\n",
       "      <th>12</th>\n",
       "      <td>158260</td>\n",
       "      <td>118571</td>\n",
       "      <td>224120</td>\n",
       "      <td>173830</td>\n",
       "    </tr>\n",
       "    <tr>\n",
       "      <th>13</th>\n",
       "      <td>420334</td>\n",
       "      <td>312731</td>\n",
       "      <td>591754</td>\n",
       "      <td>457886</td>\n",
       "    </tr>\n",
       "    <tr>\n",
       "      <th>14</th>\n",
       "      <td>156155</td>\n",
       "      <td>117904</td>\n",
       "      <td>223172</td>\n",
       "      <td>173619</td>\n",
       "    </tr>\n",
       "    <tr>\n",
       "      <th>15</th>\n",
       "      <td>237459</td>\n",
       "      <td>176936</td>\n",
       "      <td>337458</td>\n",
       "      <td>260221</td>\n",
       "    </tr>\n",
       "    <tr>\n",
       "      <th>16</th>\n",
       "      <td>1212490</td>\n",
       "      <td>914616</td>\n",
       "      <td>1723016</td>\n",
       "      <td>1327060</td>\n",
       "    </tr>\n",
       "    <tr>\n",
       "      <th>17</th>\n",
       "      <td>166992</td>\n",
       "      <td>124604</td>\n",
       "      <td>230061</td>\n",
       "      <td>178200</td>\n",
       "    </tr>\n",
       "    <tr>\n",
       "      <th>18</th>\n",
       "      <td>95741</td>\n",
       "      <td>72712</td>\n",
       "      <td>139511</td>\n",
       "      <td>102428</td>\n",
       "    </tr>\n",
       "    <tr>\n",
       "      <th>19</th>\n",
       "      <td>645143</td>\n",
       "      <td>493154</td>\n",
       "      <td>916780</td>\n",
       "      <td>711329</td>\n",
       "    </tr>\n",
       "    <tr>\n",
       "      <th>20</th>\n",
       "      <td>234464</td>\n",
       "      <td>178398</td>\n",
       "      <td>333620</td>\n",
       "      <td>257352</td>\n",
       "    </tr>\n",
       "    <tr>\n",
       "      <th>21</th>\n",
       "      <td>15563</td>\n",
       "      <td>11512</td>\n",
       "      <td>21787</td>\n",
       "      <td>15906</td>\n",
       "    </tr>\n",
       "  </tbody>\n",
       "</table>\n",
       "</div>"
      ],
      "text/plain": [
       "Region         Midwest  Northeast    South     West\n",
       "department_id                                      \n",
       "1               498225     370436   709906   543164\n",
       "2                 7983       6268    11579     8581\n",
       "3               261753     199300   371620   288155\n",
       "4              2134115    1593004  3027476  2324678\n",
       "5                34043      25017    48813    36754\n",
       "6                60666      44678    84649    65998\n",
       "7               598979     462929   859419   650574\n",
       "8                21358      17734    29909    24059\n",
       "9               193463     143817   272813   212043\n",
       "10                7929       5599    11180     8743\n",
       "11              100398      74765   142496   106647\n",
       "12              158260     118571   224120   173830\n",
       "13              420334     312731   591754   457886\n",
       "14              156155     117904   223172   173619\n",
       "15              237459     176936   337458   260221\n",
       "16             1212490     914616  1723016  1327060\n",
       "17              166992     124604   230061   178200\n",
       "18               95741      72712   139511   102428\n",
       "19              645143     493154   916780   711329\n",
       "20              234464     178398   333620   257352\n",
       "21               15563      11512    21787    15906"
      ]
     },
     "execution_count": 75,
     "metadata": {},
     "output_type": "execute_result"
    }
   ],
   "source": [
    "crosstab_dep_id"
   ]
  },
  {
   "cell_type": "code",
   "execution_count": 57,
   "id": "0d427121",
   "metadata": {},
   "outputs": [
    {
     "data": {
      "text/plain": [
       "Region     orders_day_of_week\n",
       "Midwest    0                     1.092500e+07\n",
       "           1                     9.806336e+06\n",
       "           2                     7.344706e+06\n",
       "           3                     6.637062e+06\n",
       "           4                     6.600758e+06\n",
       "           5                     7.323708e+06\n",
       "           6                     7.937041e+06\n",
       "Northeast  0                     8.185479e+06\n",
       "           1                     7.400654e+06\n",
       "           2                     5.523242e+06\n",
       "           3                     5.020686e+06\n",
       "           4                     4.942062e+06\n",
       "           5                     5.558750e+06\n",
       "           6                     5.886002e+06\n",
       "South      0                     1.537479e+07\n",
       "           1                     1.402265e+07\n",
       "           2                     1.039522e+07\n",
       "           3                     9.541473e+06\n",
       "           4                     9.358657e+06\n",
       "           5                     1.042563e+07\n",
       "           6                     1.123791e+07\n",
       "West       0                     1.193769e+07\n",
       "           1                     1.074673e+07\n",
       "           2                     7.941161e+06\n",
       "           3                     7.261237e+06\n",
       "           4                     7.211211e+06\n",
       "           5                     7.993682e+06\n",
       "           6                     8.654717e+06\n",
       "Name: prices, dtype: float64"
      ]
     },
     "execution_count": 57,
     "metadata": {},
     "output_type": "execute_result"
    }
   ],
   "source": [
    "# grouping by region , days of the weekand and prices payed\n",
    "region_ODW_prices = df_orders_products_combined_cleaned.groupby(['Region', 'orders_day_of_week'])['prices'].sum()\n",
    "region_ODW_prices"
   ]
  },
  {
   "cell_type": "code",
   "execution_count": 64,
   "id": "8a674a3d",
   "metadata": {},
   "outputs": [],
   "source": [
    "#exporting the crosstab with days of the weekand and prices payed\n",
    "region_ODW_prices.to_clipboard()"
   ]
  },
  {
   "cell_type": "code",
   "execution_count": 58,
   "id": "f234d956",
   "metadata": {},
   "outputs": [
    {
     "data": {
      "text/plain": [
       "Region     orders_day_of_week\n",
       "Midwest    0                     1390189\n",
       "           1                     1263655\n",
       "           2                      947370\n",
       "           3                      855316\n",
       "           4                      851501\n",
       "           5                      943396\n",
       "           6                     1010086\n",
       "Northeast  0                     1043698\n",
       "           1                      954332\n",
       "           2                      713159\n",
       "           3                      649305\n",
       "           4                      637781\n",
       "           5                      716128\n",
       "           6                      750282\n",
       "South      0                     1955352\n",
       "           1                     1808348\n",
       "           2                     1340387\n",
       "           3                     1229002\n",
       "           4                     1205497\n",
       "           5                     1342849\n",
       "           6                     1429704\n",
       "West       0                     1519371\n",
       "           1                     1385351\n",
       "           2                     1023790\n",
       "           3                      935912\n",
       "           4                      930215\n",
       "           5                     1031356\n",
       "           6                     1101232\n",
       "Name: order_number, dtype: int64"
      ]
     },
     "execution_count": 58,
     "metadata": {},
     "output_type": "execute_result"
    }
   ],
   "source": [
    "# grouping by region , days of the weekand and count of orders\n",
    "Region_ODW_order_count = df_orders_products_combined_cleaned.groupby(['Region', 'orders_day_of_week'])['order_number'].count()\n",
    "Region_ODW_order_count"
   ]
  },
  {
   "cell_type": "code",
   "execution_count": 65,
   "id": "3f4f5872",
   "metadata": {},
   "outputs": [],
   "source": [
    "#exporting the crosstab with days of the weekand and count of orders\n",
    "\n",
    "Region_ODW_order_count.to_clipboard()"
   ]
  },
  {
   "cell_type": "code",
   "execution_count": 59,
   "id": "d3199ec5",
   "metadata": {},
   "outputs": [
    {
     "data": {
      "text/html": [
       "<div>\n",
       "<style scoped>\n",
       "    .dataframe tbody tr th:only-of-type {\n",
       "        vertical-align: middle;\n",
       "    }\n",
       "\n",
       "    .dataframe tbody tr th {\n",
       "        vertical-align: top;\n",
       "    }\n",
       "\n",
       "    .dataframe thead th {\n",
       "        text-align: right;\n",
       "    }\n",
       "</style>\n",
       "<table border=\"1\" class=\"dataframe\">\n",
       "  <thead>\n",
       "    <tr style=\"text-align: right;\">\n",
       "      <th></th>\n",
       "      <th>order_id</th>\n",
       "      <th>user_id</th>\n",
       "      <th>order_number</th>\n",
       "      <th>orders_day_of_week</th>\n",
       "      <th>order_hour_timestamp</th>\n",
       "      <th>days_since_prior_order</th>\n",
       "      <th>product_id</th>\n",
       "      <th>add_to_cart_order</th>\n",
       "      <th>reordered</th>\n",
       "      <th>product_name</th>\n",
       "      <th>aisle_id</th>\n",
       "      <th>department_id</th>\n",
       "      <th>prices</th>\n",
       "      <th>price_range</th>\n",
       "      <th>Busiest_day</th>\n",
       "      <th>Busiest_days2</th>\n",
       "      <th>busiest_period_of_day</th>\n",
       "      <th>max_order</th>\n",
       "      <th>loyalty_flag</th>\n",
       "      <th>types_of_spenders</th>\n",
       "      <th>customer_frecuency</th>\n",
       "      <th>First Name</th>\n",
       "      <th>Last_Name</th>\n",
       "      <th>Gender</th>\n",
       "      <th>STATE</th>\n",
       "      <th>Age</th>\n",
       "      <th>date_joined</th>\n",
       "      <th>n_dependants</th>\n",
       "      <th>Marital_Status</th>\n",
       "      <th>income</th>\n",
       "      <th>Region</th>\n",
       "    </tr>\n",
       "  </thead>\n",
       "  <tbody>\n",
       "    <tr>\n",
       "      <th>0</th>\n",
       "      <td>2539329</td>\n",
       "      <td>1.0</td>\n",
       "      <td>1</td>\n",
       "      <td>2</td>\n",
       "      <td>8</td>\n",
       "      <td>0.0</td>\n",
       "      <td>196</td>\n",
       "      <td>1</td>\n",
       "      <td>0</td>\n",
       "      <td>Soda</td>\n",
       "      <td>77</td>\n",
       "      <td>7</td>\n",
       "      <td>9.0</td>\n",
       "      <td>Mid-range product</td>\n",
       "      <td>Regularly busy</td>\n",
       "      <td>Regularly busy</td>\n",
       "      <td>Average orders</td>\n",
       "      <td>10</td>\n",
       "      <td>New customer</td>\n",
       "      <td>Low spender</td>\n",
       "      <td>Frequent customer</td>\n",
       "      <td>Linda</td>\n",
       "      <td>Nguyen</td>\n",
       "      <td>Female</td>\n",
       "      <td>Alabama</td>\n",
       "      <td>31</td>\n",
       "      <td>2/17/2019</td>\n",
       "      <td>3</td>\n",
       "      <td>married</td>\n",
       "      <td>40423</td>\n",
       "      <td>South</td>\n",
       "    </tr>\n",
       "  </tbody>\n",
       "</table>\n",
       "</div>"
      ],
      "text/plain": [
       "   order_id  user_id  order_number  orders_day_of_week  order_hour_timestamp  \\\n",
       "0   2539329      1.0             1                   2                     8   \n",
       "\n",
       "   days_since_prior_order  product_id  add_to_cart_order  reordered  \\\n",
       "0                     0.0         196                  1          0   \n",
       "\n",
       "  product_name  aisle_id  department_id  prices        price_range  \\\n",
       "0         Soda        77              7     9.0  Mid-range product   \n",
       "\n",
       "      Busiest_day   Busiest_days2 busiest_period_of_day  max_order  \\\n",
       "0  Regularly busy  Regularly busy        Average orders         10   \n",
       "\n",
       "   loyalty_flag types_of_spenders customer_frecuency First Name Last_Name  \\\n",
       "0  New customer       Low spender  Frequent customer      Linda    Nguyen   \n",
       "\n",
       "   Gender    STATE  Age date_joined  n_dependants Marital_Status  income  \\\n",
       "0  Female  Alabama   31   2/17/2019             3        married   40423   \n",
       "\n",
       "  Region  \n",
       "0  South  "
      ]
     },
     "execution_count": 59,
     "metadata": {},
     "output_type": "execute_result"
    }
   ],
   "source": [
    "df_orders_products_combined_cleaned.head(1)"
   ]
  },
  {
   "cell_type": "code",
   "execution_count": 67,
   "id": "e1608cb3",
   "metadata": {},
   "outputs": [
    {
     "data": {
      "text/plain": [
       "Region     order_hour_timestamp\n",
       "Midwest    0                       3.771700e+05\n",
       "           1                       2.023894e+05\n",
       "           2                       1.265979e+05\n",
       "           3                       8.789430e+04\n",
       "           4                       9.444910e+04\n",
       "           5                       1.494658e+05\n",
       "           6                       5.056763e+05\n",
       "           7                       1.577644e+06\n",
       "           8                       2.995012e+06\n",
       "           9                       4.283624e+06\n",
       "           10                      4.814957e+06\n",
       "           11                      4.775967e+06\n",
       "           12                      4.548203e+06\n",
       "           13                      4.599868e+06\n",
       "           14                      4.651423e+06\n",
       "           15                      4.671923e+06\n",
       "           16                      4.441520e+06\n",
       "           17                      3.645252e+06\n",
       "           18                      2.877261e+06\n",
       "           19                      2.192161e+06\n",
       "           20                      1.720342e+06\n",
       "           21                      1.416347e+06\n",
       "           22                      1.131249e+06\n",
       "           23                      6.882163e+05\n",
       "Northeast  0                       2.849134e+05\n",
       "           1                       1.589897e+05\n",
       "           2                       9.213080e+04\n",
       "           3                       6.958830e+04\n",
       "           4                       7.057760e+04\n",
       "           5                       1.145724e+05\n",
       "           6                       3.845393e+05\n",
       "           7                       1.205839e+06\n",
       "           8                       2.288681e+06\n",
       "           9                       3.209563e+06\n",
       "           10                      3.595583e+06\n",
       "           11                      3.584647e+06\n",
       "           12                      3.447550e+06\n",
       "           13                      3.506739e+06\n",
       "           14                      3.535880e+06\n",
       "           15                      3.487030e+06\n",
       "           16                      3.303899e+06\n",
       "           17                      2.715175e+06\n",
       "           18                      2.122147e+06\n",
       "           19                      1.614839e+06\n",
       "           20                      1.268075e+06\n",
       "           21                      1.049535e+06\n",
       "           22                      8.501825e+05\n",
       "           23                      5.561968e+05\n",
       "South      0                       5.445886e+05\n",
       "           1                       2.794216e+05\n",
       "           2                       1.608271e+05\n",
       "           3                       1.283222e+05\n",
       "           4                       1.355327e+05\n",
       "           5                       2.320783e+05\n",
       "           6                       7.488090e+05\n",
       "           7                       2.253082e+06\n",
       "           8                       4.363864e+06\n",
       "           9                       6.140135e+06\n",
       "           10                      6.859175e+06\n",
       "           11                      6.738224e+06\n",
       "           12                      6.451619e+06\n",
       "           13                      6.552049e+06\n",
       "           14                      6.652234e+06\n",
       "           15                      6.558500e+06\n",
       "           16                      6.257834e+06\n",
       "           17                      5.152905e+06\n",
       "           18                      4.032023e+06\n",
       "           19                      3.132714e+06\n",
       "           20                      2.411540e+06\n",
       "           21                      1.995821e+06\n",
       "           22                      1.566213e+06\n",
       "           23                      1.008807e+06\n",
       "West       0                       4.183355e+05\n",
       "           1                       2.148549e+05\n",
       "           2                       1.329781e+05\n",
       "           3                       9.617360e+04\n",
       "           4                       9.745530e+04\n",
       "           5                       1.648521e+05\n",
       "           6                       5.581125e+05\n",
       "           7                       1.714016e+06\n",
       "           8                       3.274925e+06\n",
       "           9                       4.686858e+06\n",
       "           10                      5.258089e+06\n",
       "           11                      5.216368e+06\n",
       "           12                      4.992082e+06\n",
       "           13                      5.127033e+06\n",
       "           14                      5.193597e+06\n",
       "           15                      5.073921e+06\n",
       "           16                      4.825431e+06\n",
       "           17                      3.960598e+06\n",
       "           18                      3.079950e+06\n",
       "           19                      2.364396e+06\n",
       "           20                      1.860430e+06\n",
       "           21                      1.494173e+06\n",
       "           22                      1.197109e+06\n",
       "           23                      7.446887e+05\n",
       "Name: prices, dtype: float64"
      ]
     },
     "execution_count": 67,
     "metadata": {},
     "output_type": "execute_result"
    }
   ],
   "source": [
    "# grouping by region , hours of the weekand and prices payed\n",
    "Prices_Hour_Region = df_orders_products_combined_cleaned.groupby(['Region', 'order_hour_timestamp'])['prices'].sum()\n",
    "Prices_Hour_Region"
   ]
  },
  {
   "cell_type": "code",
   "execution_count": 68,
   "id": "53f4b992",
   "metadata": {},
   "outputs": [],
   "source": [
    "#exporting the crosstab with hours of the weekand and prices payed\n",
    "\n",
    "Prices_Hour_Region.to_clipboard()"
   ]
  },
  {
   "cell_type": "code",
   "execution_count": 70,
   "id": "e598655b",
   "metadata": {},
   "outputs": [],
   "source": [
    "# grouping by region , hours of the weekand and quantity of orders\n",
    "Orders_Hour_Region = df_orders_products_combined_cleaned.groupby(['Region', 'order_hour_timestamp'])['order_number'].count()"
   ]
  },
  {
   "cell_type": "code",
   "execution_count": 71,
   "id": "e8c1ffce",
   "metadata": {},
   "outputs": [],
   "source": [
    "#exporting the crosstab with hours of the weekand and quantity of orders\n",
    "\n",
    "Orders_Hour_Region.to_clipboard()"
   ]
  },
  {
   "cell_type": "code",
   "execution_count": null,
   "id": "3e9945a3",
   "metadata": {},
   "outputs": [],
   "source": [
    "#Creating a crosstab to find the relation between Product and Max Order\n",
    "#crosstab_Product_Maxorder = pd.crosstab(df_orders_products_combined_cleaned['product_name'], df_orders_products_combined_cleaned['max_order'], dropna = False)\n",
    "#crosstab_Product_Maxorder\n",
    "#it was impossible running this line of the program, too many data on both variables.\n"
   ]
  },
  {
   "cell_type": "code",
   "execution_count": 78,
   "id": "edd2ac78",
   "metadata": {},
   "outputs": [
    {
     "data": {
      "text/html": [
       "<div>\n",
       "<style scoped>\n",
       "    .dataframe tbody tr th:only-of-type {\n",
       "        vertical-align: middle;\n",
       "    }\n",
       "\n",
       "    .dataframe tbody tr th {\n",
       "        vertical-align: top;\n",
       "    }\n",
       "\n",
       "    .dataframe thead th {\n",
       "        text-align: right;\n",
       "    }\n",
       "</style>\n",
       "<table border=\"1\" class=\"dataframe\">\n",
       "  <thead>\n",
       "    <tr style=\"text-align: right;\">\n",
       "      <th>types_of_spenders</th>\n",
       "      <th>High spender</th>\n",
       "      <th>Low spender</th>\n",
       "    </tr>\n",
       "    <tr>\n",
       "      <th>Marital_Status</th>\n",
       "      <th></th>\n",
       "      <th></th>\n",
       "    </tr>\n",
       "  </thead>\n",
       "  <tbody>\n",
       "    <tr>\n",
       "      <th>divorced/widowed</th>\n",
       "      <td>871840</td>\n",
       "      <td>1773431</td>\n",
       "    </tr>\n",
       "    <tr>\n",
       "      <th>living with parents and siblings</th>\n",
       "      <td>488525</td>\n",
       "      <td>992647</td>\n",
       "    </tr>\n",
       "    <tr>\n",
       "      <th>married</th>\n",
       "      <td>7136261</td>\n",
       "      <td>14607450</td>\n",
       "    </tr>\n",
       "    <tr>\n",
       "      <th>single</th>\n",
       "      <td>1670898</td>\n",
       "      <td>3423512</td>\n",
       "    </tr>\n",
       "  </tbody>\n",
       "</table>\n",
       "</div>"
      ],
      "text/plain": [
       "types_of_spenders                 High spender  Low spender\n",
       "Marital_Status                                             \n",
       "divorced/widowed                        871840      1773431\n",
       "living with parents and siblings        488525       992647\n",
       "married                                7136261     14607450\n",
       "single                                 1670898      3423512"
      ]
     },
     "execution_count": 78,
     "metadata": {},
     "output_type": "execute_result"
    }
   ],
   "source": [
    "#Creating a crosstab to find the relation between Marital_Status and types_of_spenders\n",
    "crosstab_Marital_Status_types_of_spenders = pd.crosstab(df_orders_products_combined_cleaned['Marital_Status'], df_orders_products_combined_cleaned['types_of_spenders'], dropna = False)\n",
    "crosstab_Marital_Status_types_of_spenders"
   ]
  },
  {
   "cell_type": "code",
   "execution_count": 81,
   "id": "88f03153",
   "metadata": {},
   "outputs": [
    {
     "data": {
      "text/html": [
       "<div>\n",
       "<style scoped>\n",
       "    .dataframe tbody tr th:only-of-type {\n",
       "        vertical-align: middle;\n",
       "    }\n",
       "\n",
       "    .dataframe tbody tr th {\n",
       "        vertical-align: top;\n",
       "    }\n",
       "\n",
       "    .dataframe thead th {\n",
       "        text-align: right;\n",
       "    }\n",
       "</style>\n",
       "<table border=\"1\" class=\"dataframe\">\n",
       "  <thead>\n",
       "    <tr style=\"text-align: right;\">\n",
       "      <th>customer_frecuency</th>\n",
       "      <th>Frequent customer</th>\n",
       "      <th>Regular customer</th>\n",
       "    </tr>\n",
       "    <tr>\n",
       "      <th>Marital_Status</th>\n",
       "      <th></th>\n",
       "      <th></th>\n",
       "    </tr>\n",
       "  </thead>\n",
       "  <tbody>\n",
       "    <tr>\n",
       "      <th>divorced/widowed</th>\n",
       "      <td>1751798</td>\n",
       "      <td>893473</td>\n",
       "    </tr>\n",
       "    <tr>\n",
       "      <th>living with parents and siblings</th>\n",
       "      <td>982306</td>\n",
       "      <td>498866</td>\n",
       "    </tr>\n",
       "    <tr>\n",
       "      <th>married</th>\n",
       "      <td>14330265</td>\n",
       "      <td>7413446</td>\n",
       "    </tr>\n",
       "    <tr>\n",
       "      <th>single</th>\n",
       "      <td>3357140</td>\n",
       "      <td>1737270</td>\n",
       "    </tr>\n",
       "  </tbody>\n",
       "</table>\n",
       "</div>"
      ],
      "text/plain": [
       "customer_frecuency                Frequent customer  Regular customer\n",
       "Marital_Status                                                       \n",
       "divorced/widowed                            1751798            893473\n",
       "living with parents and siblings             982306            498866\n",
       "married                                    14330265           7413446\n",
       "single                                      3357140           1737270"
      ]
     },
     "execution_count": 81,
     "metadata": {},
     "output_type": "execute_result"
    }
   ],
   "source": [
    "#Creating a crosstab to find the relation between Marital_Status and customer_frecuency\n",
    "crosstab_Marital_Status_customer_frecuency = pd.crosstab(df_orders_products_combined_cleaned['Marital_Status'], df_orders_products_combined_cleaned['customer_frecuency'], dropna = False)\n",
    "crosstab_Marital_Status_customer_frecuency"
   ]
  },
  {
   "cell_type": "code",
   "execution_count": 83,
   "id": "65a3f392",
   "metadata": {},
   "outputs": [
    {
     "data": {
      "text/html": [
       "<div>\n",
       "<style scoped>\n",
       "    .dataframe tbody tr th:only-of-type {\n",
       "        vertical-align: middle;\n",
       "    }\n",
       "\n",
       "    .dataframe tbody tr th {\n",
       "        vertical-align: top;\n",
       "    }\n",
       "\n",
       "    .dataframe thead th {\n",
       "        text-align: right;\n",
       "    }\n",
       "</style>\n",
       "<table border=\"1\" class=\"dataframe\">\n",
       "  <thead>\n",
       "    <tr style=\"text-align: right;\">\n",
       "      <th>loyalty_flag</th>\n",
       "      <th>Loyal customer</th>\n",
       "      <th>New customer</th>\n",
       "      <th>Regular customer</th>\n",
       "    </tr>\n",
       "    <tr>\n",
       "      <th>Marital_Status</th>\n",
       "      <th></th>\n",
       "      <th></th>\n",
       "      <th></th>\n",
       "    </tr>\n",
       "  </thead>\n",
       "  <tbody>\n",
       "    <tr>\n",
       "      <th>divorced/widowed</th>\n",
       "      <td>882722</td>\n",
       "      <td>403781</td>\n",
       "      <td>1358768</td>\n",
       "    </tr>\n",
       "    <tr>\n",
       "      <th>living with parents and siblings</th>\n",
       "      <td>492749</td>\n",
       "      <td>221779</td>\n",
       "      <td>766644</td>\n",
       "    </tr>\n",
       "    <tr>\n",
       "      <th>married</th>\n",
       "      <td>7202500</td>\n",
       "      <td>3380651</td>\n",
       "      <td>11160560</td>\n",
       "    </tr>\n",
       "    <tr>\n",
       "      <th>single</th>\n",
       "      <td>1706122</td>\n",
       "      <td>797484</td>\n",
       "      <td>2590804</td>\n",
       "    </tr>\n",
       "  </tbody>\n",
       "</table>\n",
       "</div>"
      ],
      "text/plain": [
       "loyalty_flag                      Loyal customer  New customer  \\\n",
       "Marital_Status                                                   \n",
       "divorced/widowed                          882722        403781   \n",
       "living with parents and siblings          492749        221779   \n",
       "married                                  7202500       3380651   \n",
       "single                                   1706122        797484   \n",
       "\n",
       "loyalty_flag                      Regular customer  \n",
       "Marital_Status                                      \n",
       "divorced/widowed                           1358768  \n",
       "living with parents and siblings            766644  \n",
       "married                                   11160560  \n",
       "single                                     2590804  "
      ]
     },
     "execution_count": 83,
     "metadata": {},
     "output_type": "execute_result"
    }
   ],
   "source": [
    "#Creating a crosstab to find the relation between Marital_Status and Loyalty Flag\n",
    "crosstab_Marital_Status_loyalty_flag = pd.crosstab(df_orders_products_combined_cleaned['Marital_Status'], df_orders_products_combined_cleaned['loyalty_flag'], dropna = False)\n",
    "crosstab_Marital_Status_loyalty_flag"
   ]
  },
  {
   "cell_type": "code",
   "execution_count": 95,
   "id": "026d96b1",
   "metadata": {},
   "outputs": [
    {
     "data": {
      "text/html": [
       "<div>\n",
       "<style scoped>\n",
       "    .dataframe tbody tr th:only-of-type {\n",
       "        vertical-align: middle;\n",
       "    }\n",
       "\n",
       "    .dataframe tbody tr th {\n",
       "        vertical-align: top;\n",
       "    }\n",
       "\n",
       "    .dataframe thead th {\n",
       "        text-align: right;\n",
       "    }\n",
       "</style>\n",
       "<table border=\"1\" class=\"dataframe\">\n",
       "  <thead>\n",
       "    <tr style=\"text-align: right;\">\n",
       "      <th>customer_frecuency</th>\n",
       "      <th>Frequent customer</th>\n",
       "      <th>Regular customer</th>\n",
       "    </tr>\n",
       "    <tr>\n",
       "      <th>Region</th>\n",
       "      <th></th>\n",
       "      <th></th>\n",
       "    </tr>\n",
       "  </thead>\n",
       "  <tbody>\n",
       "    <tr>\n",
       "      <th>Midwest</th>\n",
       "      <td>4759869</td>\n",
       "      <td>2501644</td>\n",
       "    </tr>\n",
       "    <tr>\n",
       "      <th>Northeast</th>\n",
       "      <td>3611695</td>\n",
       "      <td>1852990</td>\n",
       "    </tr>\n",
       "    <tr>\n",
       "      <th>South</th>\n",
       "      <td>6801285</td>\n",
       "      <td>3509854</td>\n",
       "    </tr>\n",
       "    <tr>\n",
       "      <th>West</th>\n",
       "      <td>5248660</td>\n",
       "      <td>2678567</td>\n",
       "    </tr>\n",
       "  </tbody>\n",
       "</table>\n",
       "</div>"
      ],
      "text/plain": [
       "customer_frecuency  Frequent customer  Regular customer\n",
       "Region                                                 \n",
       "Midwest                       4759869           2501644\n",
       "Northeast                     3611695           1852990\n",
       "South                         6801285           3509854\n",
       "West                          5248660           2678567"
      ]
     },
     "execution_count": 95,
     "metadata": {},
     "output_type": "execute_result"
    }
   ],
   "source": [
    "#Creating a crosstab to find the relation between Region and customer_frecuency\n",
    "crosstab_Region_customer_frecuency = pd.crosstab(df_orders_products_combined_cleaned['Region'], df_orders_products_combined_cleaned['customer_frecuency'], dropna = False)\n",
    "crosstab_Region_customer_frecuency"
   ]
  },
  {
   "cell_type": "code",
   "execution_count": 97,
   "id": "f8aa69a5",
   "metadata": {},
   "outputs": [
    {
     "data": {
      "text/html": [
       "<div>\n",
       "<style scoped>\n",
       "    .dataframe tbody tr th:only-of-type {\n",
       "        vertical-align: middle;\n",
       "    }\n",
       "\n",
       "    .dataframe tbody tr th {\n",
       "        vertical-align: top;\n",
       "    }\n",
       "\n",
       "    .dataframe thead th {\n",
       "        text-align: right;\n",
       "    }\n",
       "</style>\n",
       "<table border=\"1\" class=\"dataframe\">\n",
       "  <thead>\n",
       "    <tr style=\"text-align: right;\">\n",
       "      <th>loyalty_flag</th>\n",
       "      <th>Loyal customer</th>\n",
       "      <th>New customer</th>\n",
       "      <th>Regular customer</th>\n",
       "    </tr>\n",
       "    <tr>\n",
       "      <th>Region</th>\n",
       "      <th></th>\n",
       "      <th></th>\n",
       "      <th></th>\n",
       "    </tr>\n",
       "  </thead>\n",
       "  <tbody>\n",
       "    <tr>\n",
       "      <th>Midwest</th>\n",
       "      <td>2373774</td>\n",
       "      <td>1136761</td>\n",
       "      <td>3750978</td>\n",
       "    </tr>\n",
       "    <tr>\n",
       "      <th>Northeast</th>\n",
       "      <td>1841785</td>\n",
       "      <td>842156</td>\n",
       "      <td>2780744</td>\n",
       "    </tr>\n",
       "    <tr>\n",
       "      <th>South</th>\n",
       "      <td>3405844</td>\n",
       "      <td>1593664</td>\n",
       "      <td>5311631</td>\n",
       "    </tr>\n",
       "    <tr>\n",
       "      <th>West</th>\n",
       "      <td>2662690</td>\n",
       "      <td>1231114</td>\n",
       "      <td>4033423</td>\n",
       "    </tr>\n",
       "  </tbody>\n",
       "</table>\n",
       "</div>"
      ],
      "text/plain": [
       "loyalty_flag  Loyal customer  New customer  Regular customer\n",
       "Region                                                      \n",
       "Midwest              2373774       1136761           3750978\n",
       "Northeast            1841785        842156           2780744\n",
       "South                3405844       1593664           5311631\n",
       "West                 2662690       1231114           4033423"
      ]
     },
     "execution_count": 97,
     "metadata": {},
     "output_type": "execute_result"
    }
   ],
   "source": [
    "#Creating a crosstab to find the relation between Region and loyalty_flag\n",
    "crosstab_Region_loyalty_flag = pd.crosstab(df_orders_products_combined_cleaned['Region'], df_orders_products_combined_cleaned['loyalty_flag'], dropna = False)\n",
    "crosstab_Region_loyalty_flag"
   ]
  },
  {
   "cell_type": "markdown",
   "id": "3844057f",
   "metadata": {},
   "source": [
    "# 06 Create an appropriate visualization to show the distribution of profiles."
   ]
  },
  {
   "cell_type": "code",
   "execution_count": 96,
   "id": "e7a8b606",
   "metadata": {},
   "outputs": [
    {
     "data": {
      "text/plain": [
       "<AxesSubplot:xlabel='Region'>"
      ]
     },
     "execution_count": 96,
     "metadata": {},
     "output_type": "execute_result"
    },
    {
     "data": {
      "image/png": "[encoded data removed]",
      "text/plain": [
       "<Figure size 432x288 with 1 Axes>"
      ]
     },
     "metadata": {
      "needs_background": "light"
     },
     "output_type": "display_data"
    }
   ],
   "source": [
    "#charting the relation between Regions and customer_frecuency\n",
    "crosstab_Region_customer_frecuency.plot(kind='bar', stacked=True)"
   ]
  },
  {
   "cell_type": "code",
   "execution_count": 100,
   "id": "aebe329c",
   "metadata": {},
   "outputs": [
    {
     "data": {
      "text/plain": [
       "<AxesSubplot:xlabel='Region'>"
      ]
     },
     "execution_count": 100,
     "metadata": {},
     "output_type": "execute_result"
    },
    {
     "data": {
      "image/png": "[encoded data removed]",
      "text/plain": [
       "<Figure size 432x288 with 1 Axes>"
      ]
     },
     "metadata": {
      "needs_background": "light"
     },
     "output_type": "display_data"
    }
   ],
   "source": [
    "#charting the relation between Regions and loyalty_flag\n",
    "crosstab_Region_loyalty_flag.plot(kind='bar', stacked=True)"
   ]
  },
  {
   "cell_type": "code",
   "execution_count": 99,
   "id": "2f9532bc",
   "metadata": {},
   "outputs": [
    {
     "data": {
      "text/plain": [
       "<AxesSubplot:xlabel='department_id'>"
      ]
     },
     "execution_count": 99,
     "metadata": {},
     "output_type": "execute_result"
    },
    {
     "data": {
      "image/png": "[encoded data removed]",
      "text/plain": [
       "<Figure size 432x288 with 1 Axes>"
      ]
     },
     "metadata": {
      "needs_background": "light"
     },
     "output_type": "display_data"
    }
   ],
   "source": [
    "#charting the relation between departments and regions\n",
    "crosstab_dep_id.plot(kind='bar', stacked=True)"
   ]
  },
  {
   "cell_type": "code",
   "execution_count": 63,
   "id": "a6cc55e3",
   "metadata": {},
   "outputs": [
    {
     "data": {
      "text/plain": [
       "<AxesSubplot:xlabel='Region,orders_day_of_week'>"
      ]
     },
     "execution_count": 63,
     "metadata": {},
     "output_type": "execute_result"
    },
    {
     "data": {
      "image/png": "[encoded data removed]",
      "text/plain": [
       "<Figure size 432x288 with 1 Axes>"
      ]
     },
     "metadata": {
      "needs_background": "light"
     },
     "output_type": "display_data"
    }
   ],
   "source": [
    "region_ODW_prices.plot(x=\"orders_day_of_week\", y=[\"Region\", \"prices\"], kind=\"bar\", stacked=True )"
   ]
  },
  {
   "cell_type": "code",
   "execution_count": 89,
   "id": "d8a12f48",
   "metadata": {},
   "outputs": [
    {
     "ename": "SyntaxError",
     "evalue": "invalid syntax (<ipython-input-89-4e99960ed00c>, line 1)",
     "output_type": "error",
     "traceback": [
      "\u001b[1;36m  File \u001b[1;32m\"<ipython-input-89-4e99960ed00c>\"\u001b[1;36m, line \u001b[1;32m1\u001b[0m\n\u001b[1;33m    Region_ODW_order_count.plot([x=\"orders_day_of_week\", y=\"Region\", z= \"order_number\"], kind=\"line\", stacked=True\u001b[0m\n\u001b[1;37m                                  ^\u001b[0m\n\u001b[1;31mSyntaxError\u001b[0m\u001b[1;31m:\u001b[0m invalid syntax\n"
     ]
    }
   ],
   "source": [
    "# I couldnt chart taking into account the 3 variables\n",
    "#Region_ODW_order_count.plot(x=\"orders_day_of_week\", y=\"Region\", z= \"order_number\", kind=\"line\", stacked=True "
   ]
  },
  {
   "cell_type": "code",
   "execution_count": 80,
   "id": "22edd3e7",
   "metadata": {},
   "outputs": [
    {
     "data": {
      "image/png": "[encoded data removed]",
      "text/plain": [
       "<Figure size 432x288 with 1 Axes>"
      ]
     },
     "metadata": {
      "needs_background": "light"
     },
     "output_type": "display_data"
    }
   ],
   "source": [
    "#charting the relation between Marital status and types of expenders\n",
    "crosstab_Marital_Status_chart = crosstab_Marital_Status_types_of_spenders.plot(kind='bar', stacked=True)\n",
    "# exporting the chart crosstab_Marital_Status_chart\n",
    "crosstab_Marital_Status_chart.figure.savefig(os.path.join(path, '02- Data','Prepared Data', 'crosstab_Marital_Status_chart.png'))\n"
   ]
  },
  {
   "cell_type": "code",
   "execution_count": 82,
   "id": "072af488",
   "metadata": {},
   "outputs": [
    {
     "data": {
      "image/png": "[encoded data removed]",
      "text/plain": [
       "<Figure size 432x288 with 1 Axes>"
      ]
     },
     "metadata": {
      "needs_background": "light"
     },
     "output_type": "display_data"
    }
   ],
   "source": [
    "#charting the relation between Marital status and customer_frecuency\n",
    "crosstab_Marital_Status_customer_frecuency = crosstab_Marital_Status_customer_frecuency.plot(kind='bar', stacked=True)\n",
    "# exporting the chart crosstab_Marital_Status_customer_frecuency\n",
    "crosstab_Marital_Status_customer_frecuency.figure.savefig(os.path.join(path, '02- Data','Prepared Data', 'crosstab_Marital_Status_customer_frecuency.png'))\n"
   ]
  },
  {
   "cell_type": "code",
   "execution_count": 84,
   "id": "f0f82bcb",
   "metadata": {},
   "outputs": [
    {
     "data": {
      "image/png": "[encoded data removed]",
      "text/plain": [
       "<Figure size 432x288 with 1 Axes>"
      ]
     },
     "metadata": {
      "needs_background": "light"
     },
     "output_type": "display_data"
    }
   ],
   "source": [
    "#charting the relation between Marital status and Loyalty Flag\n",
    "crosstab_Marital_Status_loyalty_flag = crosstab_Marital_Status_loyalty_flag.plot(kind='bar', stacked=True)\n",
    "# exporting the chart crosstab_Marital_Status_loyalty_flag\n",
    "crosstab_Marital_Status_loyalty_flag.figure.savefig(os.path.join(path, '02- Data','Prepared Data', 'crosstab_Marital_Status_loyalty_flag.png'))\n"
   ]
  },
  {
   "cell_type": "markdown",
   "id": "8c0ded61",
   "metadata": {},
   "source": [
    "# Aggregate the max, mean, and min variables on a customer-profile level for usage frequency and expenditure.\n"
   ]
  },
  {
   "cell_type": "code",
   "execution_count": 90,
   "id": "d61d9bee",
   "metadata": {},
   "outputs": [],
   "source": [
    "# Display of all rows in the dataset\n",
    "pd.set_option('display.max_rows', 500)"
   ]
  },
  {
   "cell_type": "markdown",
   "id": "f8a9a9a4",
   "metadata": {},
   "source": [
    "# Expenditure"
   ]
  },
  {
   "cell_type": "code",
   "execution_count": 91,
   "id": "2657dd94",
   "metadata": {},
   "outputs": [
    {
     "data": {
      "text/html": [
       "<div>\n",
       "<style scoped>\n",
       "    .dataframe tbody tr th:only-of-type {\n",
       "        vertical-align: middle;\n",
       "    }\n",
       "\n",
       "    .dataframe tbody tr th {\n",
       "        vertical-align: top;\n",
       "    }\n",
       "\n",
       "    .dataframe thead tr th {\n",
       "        text-align: left;\n",
       "    }\n",
       "\n",
       "    .dataframe thead tr:last-of-type th {\n",
       "        text-align: right;\n",
       "    }\n",
       "</style>\n",
       "<table border=\"1\" class=\"dataframe\">\n",
       "  <thead>\n",
       "    <tr>\n",
       "      <th></th>\n",
       "      <th colspan=\"3\" halign=\"left\">prices</th>\n",
       "    </tr>\n",
       "    <tr>\n",
       "      <th></th>\n",
       "      <th>mean</th>\n",
       "      <th>min</th>\n",
       "      <th>max</th>\n",
       "    </tr>\n",
       "    <tr>\n",
       "      <th>user_id</th>\n",
       "      <th></th>\n",
       "      <th></th>\n",
       "      <th></th>\n",
       "    </tr>\n",
       "  </thead>\n",
       "  <tbody>\n",
       "    <tr>\n",
       "      <th>1.0</th>\n",
       "      <td>6.367797</td>\n",
       "      <td>1.0</td>\n",
       "      <td>14.0</td>\n",
       "    </tr>\n",
       "    <tr>\n",
       "      <th>2.0</th>\n",
       "      <td>7.515897</td>\n",
       "      <td>1.3</td>\n",
       "      <td>14.8</td>\n",
       "    </tr>\n",
       "    <tr>\n",
       "      <th>3.0</th>\n",
       "      <td>8.197727</td>\n",
       "      <td>1.3</td>\n",
       "      <td>14.4</td>\n",
       "    </tr>\n",
       "    <tr>\n",
       "      <th>4.0</th>\n",
       "      <td>8.205556</td>\n",
       "      <td>1.4</td>\n",
       "      <td>14.6</td>\n",
       "    </tr>\n",
       "    <tr>\n",
       "      <th>7.0</th>\n",
       "      <td>7.466990</td>\n",
       "      <td>1.1</td>\n",
       "      <td>23.2</td>\n",
       "    </tr>\n",
       "    <tr>\n",
       "      <th>...</th>\n",
       "      <td>...</td>\n",
       "      <td>...</td>\n",
       "      <td>...</td>\n",
       "    </tr>\n",
       "    <tr>\n",
       "      <th>206203.0</th>\n",
       "      <td>7.138655</td>\n",
       "      <td>1.0</td>\n",
       "      <td>25.0</td>\n",
       "    </tr>\n",
       "    <tr>\n",
       "      <th>206206.0</th>\n",
       "      <td>7.646667</td>\n",
       "      <td>1.1</td>\n",
       "      <td>14.8</td>\n",
       "    </tr>\n",
       "    <tr>\n",
       "      <th>206207.0</th>\n",
       "      <td>7.313453</td>\n",
       "      <td>1.2</td>\n",
       "      <td>24.7</td>\n",
       "    </tr>\n",
       "    <tr>\n",
       "      <th>206208.0</th>\n",
       "      <td>8.366617</td>\n",
       "      <td>1.1</td>\n",
       "      <td>21.6</td>\n",
       "    </tr>\n",
       "    <tr>\n",
       "      <th>206209.0</th>\n",
       "      <td>7.058915</td>\n",
       "      <td>1.1</td>\n",
       "      <td>18.8</td>\n",
       "    </tr>\n",
       "  </tbody>\n",
       "</table>\n",
       "<p>162631 rows × 3 columns</p>\n",
       "</div>"
      ],
      "text/plain": [
       "            prices           \n",
       "              mean  min   max\n",
       "user_id                      \n",
       "1.0       6.367797  1.0  14.0\n",
       "2.0       7.515897  1.3  14.8\n",
       "3.0       8.197727  1.3  14.4\n",
       "4.0       8.205556  1.4  14.6\n",
       "7.0       7.466990  1.1  23.2\n",
       "...            ...  ...   ...\n",
       "206203.0  7.138655  1.0  25.0\n",
       "206206.0  7.646667  1.1  14.8\n",
       "206207.0  7.313453  1.2  24.7\n",
       "206208.0  8.366617  1.1  21.6\n",
       "206209.0  7.058915  1.1  18.8\n",
       "\n",
       "[162631 rows x 3 columns]"
      ]
     },
     "execution_count": 91,
     "metadata": {},
     "output_type": "execute_result"
    }
   ],
   "source": [
    "# Users by expenditure\n",
    "df_orders_products_combined_cleaned.groupby('user_id').agg({'prices': ['mean', 'min', 'max']})"
   ]
  },
  {
   "cell_type": "code",
   "execution_count": 102,
   "id": "96fd6394",
   "metadata": {},
   "outputs": [
    {
     "data": {
      "text/html": [
       "<div>\n",
       "<style scoped>\n",
       "    .dataframe tbody tr th:only-of-type {\n",
       "        vertical-align: middle;\n",
       "    }\n",
       "\n",
       "    .dataframe tbody tr th {\n",
       "        vertical-align: top;\n",
       "    }\n",
       "\n",
       "    .dataframe thead tr th {\n",
       "        text-align: left;\n",
       "    }\n",
       "\n",
       "    .dataframe thead tr:last-of-type th {\n",
       "        text-align: right;\n",
       "    }\n",
       "</style>\n",
       "<table border=\"1\" class=\"dataframe\">\n",
       "  <thead>\n",
       "    <tr>\n",
       "      <th></th>\n",
       "      <th colspan=\"3\" halign=\"left\">prices</th>\n",
       "    </tr>\n",
       "    <tr>\n",
       "      <th></th>\n",
       "      <th>mean</th>\n",
       "      <th>min</th>\n",
       "      <th>max</th>\n",
       "    </tr>\n",
       "    <tr>\n",
       "      <th>customer_frecuency</th>\n",
       "      <th></th>\n",
       "      <th></th>\n",
       "      <th></th>\n",
       "    </tr>\n",
       "  </thead>\n",
       "  <tbody>\n",
       "    <tr>\n",
       "      <th>Frequent customer</th>\n",
       "      <td>7.787626</td>\n",
       "      <td>1.0</td>\n",
       "      <td>25.0</td>\n",
       "    </tr>\n",
       "    <tr>\n",
       "      <th>Regular customer</th>\n",
       "      <td>7.796333</td>\n",
       "      <td>1.0</td>\n",
       "      <td>25.0</td>\n",
       "    </tr>\n",
       "  </tbody>\n",
       "</table>\n",
       "</div>"
      ],
      "text/plain": [
       "                      prices           \n",
       "                        mean  min   max\n",
       "customer_frecuency                     \n",
       "Frequent customer   7.787626  1.0  25.0\n",
       "Regular customer    7.796333  1.0  25.0"
      ]
     },
     "execution_count": 102,
     "metadata": {},
     "output_type": "execute_result"
    }
   ],
   "source": [
    "df_orders_products_combined_cleaned.groupby('customer_frecuency').agg({'prices': ['mean', 'min', 'max']})"
   ]
  },
  {
   "cell_type": "code",
   "execution_count": 106,
   "id": "56cb7661",
   "metadata": {},
   "outputs": [
    {
     "data": {
      "text/html": [
       "<div>\n",
       "<style scoped>\n",
       "    .dataframe tbody tr th:only-of-type {\n",
       "        vertical-align: middle;\n",
       "    }\n",
       "\n",
       "    .dataframe tbody tr th {\n",
       "        vertical-align: top;\n",
       "    }\n",
       "\n",
       "    .dataframe thead tr th {\n",
       "        text-align: left;\n",
       "    }\n",
       "\n",
       "    .dataframe thead tr:last-of-type th {\n",
       "        text-align: right;\n",
       "    }\n",
       "</style>\n",
       "<table border=\"1\" class=\"dataframe\">\n",
       "  <thead>\n",
       "    <tr>\n",
       "      <th></th>\n",
       "      <th colspan=\"3\" halign=\"left\">prices</th>\n",
       "    </tr>\n",
       "    <tr>\n",
       "      <th></th>\n",
       "      <th>mean</th>\n",
       "      <th>min</th>\n",
       "      <th>max</th>\n",
       "    </tr>\n",
       "    <tr>\n",
       "      <th>customer_frecuency</th>\n",
       "      <th></th>\n",
       "      <th></th>\n",
       "      <th></th>\n",
       "    </tr>\n",
       "  </thead>\n",
       "  <tbody>\n",
       "    <tr>\n",
       "      <th>Frequent customer</th>\n",
       "      <td>7.787626</td>\n",
       "      <td>1.0</td>\n",
       "      <td>25.0</td>\n",
       "    </tr>\n",
       "    <tr>\n",
       "      <th>Regular customer</th>\n",
       "      <td>7.796333</td>\n",
       "      <td>1.0</td>\n",
       "      <td>25.0</td>\n",
       "    </tr>\n",
       "  </tbody>\n",
       "</table>\n",
       "</div>"
      ],
      "text/plain": [
       "                      prices           \n",
       "                        mean  min   max\n",
       "customer_frecuency                     \n",
       "Frequent customer   7.787626  1.0  25.0\n",
       "Regular customer    7.796333  1.0  25.0"
      ]
     },
     "execution_count": 106,
     "metadata": {},
     "output_type": "execute_result"
    }
   ],
   "source": [
    "df_orders_products_combined_cleaned.groupby('customer_frecuency').agg({'prices': ['mean', 'min', 'max']})"
   ]
  },
  {
   "cell_type": "code",
   "execution_count": 103,
   "id": "304d074a",
   "metadata": {},
   "outputs": [
    {
     "data": {
      "text/html": [
       "<div>\n",
       "<style scoped>\n",
       "    .dataframe tbody tr th:only-of-type {\n",
       "        vertical-align: middle;\n",
       "    }\n",
       "\n",
       "    .dataframe tbody tr th {\n",
       "        vertical-align: top;\n",
       "    }\n",
       "\n",
       "    .dataframe thead tr th {\n",
       "        text-align: left;\n",
       "    }\n",
       "\n",
       "    .dataframe thead tr:last-of-type th {\n",
       "        text-align: right;\n",
       "    }\n",
       "</style>\n",
       "<table border=\"1\" class=\"dataframe\">\n",
       "  <thead>\n",
       "    <tr>\n",
       "      <th></th>\n",
       "      <th colspan=\"3\" halign=\"left\">prices</th>\n",
       "    </tr>\n",
       "    <tr>\n",
       "      <th></th>\n",
       "      <th>mean</th>\n",
       "      <th>min</th>\n",
       "      <th>max</th>\n",
       "    </tr>\n",
       "    <tr>\n",
       "      <th>Gender</th>\n",
       "      <th></th>\n",
       "      <th></th>\n",
       "      <th></th>\n",
       "    </tr>\n",
       "  </thead>\n",
       "  <tbody>\n",
       "    <tr>\n",
       "      <th>Female</th>\n",
       "      <td>7.788193</td>\n",
       "      <td>1.0</td>\n",
       "      <td>25.0</td>\n",
       "    </tr>\n",
       "    <tr>\n",
       "      <th>Male</th>\n",
       "      <td>7.792956</td>\n",
       "      <td>1.0</td>\n",
       "      <td>25.0</td>\n",
       "    </tr>\n",
       "  </tbody>\n",
       "</table>\n",
       "</div>"
      ],
      "text/plain": [
       "          prices           \n",
       "            mean  min   max\n",
       "Gender                     \n",
       "Female  7.788193  1.0  25.0\n",
       "Male    7.792956  1.0  25.0"
      ]
     },
     "execution_count": 103,
     "metadata": {},
     "output_type": "execute_result"
    }
   ],
   "source": [
    "df_orders_products_combined_cleaned.groupby('Gender').agg({'prices': ['mean', 'min', 'max']})"
   ]
  },
  {
   "cell_type": "code",
   "execution_count": 104,
   "id": "bed6645d",
   "metadata": {},
   "outputs": [
    {
     "data": {
      "text/html": [
       "<div>\n",
       "<style scoped>\n",
       "    .dataframe tbody tr th:only-of-type {\n",
       "        vertical-align: middle;\n",
       "    }\n",
       "\n",
       "    .dataframe tbody tr th {\n",
       "        vertical-align: top;\n",
       "    }\n",
       "\n",
       "    .dataframe thead tr th {\n",
       "        text-align: left;\n",
       "    }\n",
       "\n",
       "    .dataframe thead tr:last-of-type th {\n",
       "        text-align: right;\n",
       "    }\n",
       "</style>\n",
       "<table border=\"1\" class=\"dataframe\">\n",
       "  <thead>\n",
       "    <tr>\n",
       "      <th></th>\n",
       "      <th colspan=\"3\" halign=\"left\">prices</th>\n",
       "    </tr>\n",
       "    <tr>\n",
       "      <th></th>\n",
       "      <th>mean</th>\n",
       "      <th>min</th>\n",
       "      <th>max</th>\n",
       "    </tr>\n",
       "    <tr>\n",
       "      <th>n_dependants</th>\n",
       "      <th></th>\n",
       "      <th></th>\n",
       "      <th></th>\n",
       "    </tr>\n",
       "  </thead>\n",
       "  <tbody>\n",
       "    <tr>\n",
       "      <th>0</th>\n",
       "      <td>7.789550</td>\n",
       "      <td>1.0</td>\n",
       "      <td>25.0</td>\n",
       "    </tr>\n",
       "    <tr>\n",
       "      <th>1</th>\n",
       "      <td>7.795910</td>\n",
       "      <td>1.0</td>\n",
       "      <td>25.0</td>\n",
       "    </tr>\n",
       "    <tr>\n",
       "      <th>2</th>\n",
       "      <td>7.784014</td>\n",
       "      <td>1.0</td>\n",
       "      <td>25.0</td>\n",
       "    </tr>\n",
       "    <tr>\n",
       "      <th>3</th>\n",
       "      <td>7.792886</td>\n",
       "      <td>1.0</td>\n",
       "      <td>25.0</td>\n",
       "    </tr>\n",
       "  </tbody>\n",
       "</table>\n",
       "</div>"
      ],
      "text/plain": [
       "                prices           \n",
       "                  mean  min   max\n",
       "n_dependants                     \n",
       "0             7.789550  1.0  25.0\n",
       "1             7.795910  1.0  25.0\n",
       "2             7.784014  1.0  25.0\n",
       "3             7.792886  1.0  25.0"
      ]
     },
     "execution_count": 104,
     "metadata": {},
     "output_type": "execute_result"
    }
   ],
   "source": [
    "df_orders_products_combined_cleaned.groupby('n_dependants').agg({'prices': ['mean', 'min', 'max']})"
   ]
  },
  {
   "cell_type": "code",
   "execution_count": 105,
   "id": "db68aa41",
   "metadata": {},
   "outputs": [
    {
     "data": {
      "text/html": [
       "<div>\n",
       "<style scoped>\n",
       "    .dataframe tbody tr th:only-of-type {\n",
       "        vertical-align: middle;\n",
       "    }\n",
       "\n",
       "    .dataframe tbody tr th {\n",
       "        vertical-align: top;\n",
       "    }\n",
       "\n",
       "    .dataframe thead tr th {\n",
       "        text-align: left;\n",
       "    }\n",
       "\n",
       "    .dataframe thead tr:last-of-type th {\n",
       "        text-align: right;\n",
       "    }\n",
       "</style>\n",
       "<table border=\"1\" class=\"dataframe\">\n",
       "  <thead>\n",
       "    <tr>\n",
       "      <th></th>\n",
       "      <th colspan=\"3\" halign=\"left\">prices</th>\n",
       "    </tr>\n",
       "    <tr>\n",
       "      <th></th>\n",
       "      <th>mean</th>\n",
       "      <th>min</th>\n",
       "      <th>max</th>\n",
       "    </tr>\n",
       "    <tr>\n",
       "      <th>product_name</th>\n",
       "      <th></th>\n",
       "      <th></th>\n",
       "      <th></th>\n",
       "    </tr>\n",
       "  </thead>\n",
       "  <tbody>\n",
       "    <tr>\n",
       "      <th>#2 Coffee Filters</th>\n",
       "      <td>11.0</td>\n",
       "      <td>11.0</td>\n",
       "      <td>11.0</td>\n",
       "    </tr>\n",
       "    <tr>\n",
       "      <th>#2 Cone White Coffee Filters</th>\n",
       "      <td>5.7</td>\n",
       "      <td>5.7</td>\n",
       "      <td>5.7</td>\n",
       "    </tr>\n",
       "    <tr>\n",
       "      <th>#2 Mechanical Pencils</th>\n",
       "      <td>9.2</td>\n",
       "      <td>9.2</td>\n",
       "      <td>9.2</td>\n",
       "    </tr>\n",
       "    <tr>\n",
       "      <th>#4 Natural Brown Coffee Filters</th>\n",
       "      <td>2.5</td>\n",
       "      <td>2.5</td>\n",
       "      <td>2.5</td>\n",
       "    </tr>\n",
       "    <tr>\n",
       "      <th>#NAME?</th>\n",
       "      <td>3.6</td>\n",
       "      <td>3.6</td>\n",
       "      <td>3.6</td>\n",
       "    </tr>\n",
       "    <tr>\n",
       "      <th>...</th>\n",
       "      <td>...</td>\n",
       "      <td>...</td>\n",
       "      <td>...</td>\n",
       "    </tr>\n",
       "    <tr>\n",
       "      <th>with Xylitol Unwrapped Original Flavor 50 Sticks Sugar Free Gum</th>\n",
       "      <td>5.4</td>\n",
       "      <td>5.4</td>\n",
       "      <td>5.4</td>\n",
       "    </tr>\n",
       "    <tr>\n",
       "      <th>with Xylitol Unwrapped Spearmint 50 Sticks Sugar Free Gum</th>\n",
       "      <td>5.2</td>\n",
       "      <td>5.2</td>\n",
       "      <td>5.2</td>\n",
       "    </tr>\n",
       "    <tr>\n",
       "      <th>with Xylitol Watermelon Twist 18 Sticks Sugar Free Gum</th>\n",
       "      <td>3.5</td>\n",
       "      <td>3.5</td>\n",
       "      <td>3.5</td>\n",
       "    </tr>\n",
       "    <tr>\n",
       "      <th>with a Splash of Mango Coconut Water</th>\n",
       "      <td>2.6</td>\n",
       "      <td>2.6</td>\n",
       "      <td>2.6</td>\n",
       "    </tr>\n",
       "    <tr>\n",
       "      <th>with a Splash of Pineapple Coconut Water</th>\n",
       "      <td>4.2</td>\n",
       "      <td>4.2</td>\n",
       "      <td>4.2</td>\n",
       "    </tr>\n",
       "  </tbody>\n",
       "</table>\n",
       "<p>49630 rows × 3 columns</p>\n",
       "</div>"
      ],
      "text/plain": [
       "                                                   prices            \n",
       "                                                     mean   min   max\n",
       "product_name                                                         \n",
       "#2 Coffee Filters                                    11.0  11.0  11.0\n",
       "#2 Cone White Coffee Filters                          5.7   5.7   5.7\n",
       "#2 Mechanical Pencils                                 9.2   9.2   9.2\n",
       "#4 Natural Brown Coffee Filters                       2.5   2.5   2.5\n",
       "#NAME?                                                3.6   3.6   3.6\n",
       "...                                                   ...   ...   ...\n",
       "with Xylitol Unwrapped Original Flavor 50 Stick...    5.4   5.4   5.4\n",
       "with Xylitol Unwrapped Spearmint 50 Sticks Suga...    5.2   5.2   5.2\n",
       "with Xylitol Watermelon Twist 18 Sticks Sugar F...    3.5   3.5   3.5\n",
       "with a Splash of Mango Coconut Water                  2.6   2.6   2.6\n",
       "with a Splash of Pineapple Coconut Water              4.2   4.2   4.2\n",
       "\n",
       "[49630 rows x 3 columns]"
      ]
     },
     "execution_count": 105,
     "metadata": {},
     "output_type": "execute_result"
    }
   ],
   "source": [
    "df_orders_products_combined_cleaned.groupby('product_name').agg({'prices': ['mean', 'min', 'max']})"
   ]
  },
  {
   "cell_type": "code",
   "execution_count": 101,
   "id": "2acbe46a",
   "metadata": {},
   "outputs": [
    {
     "data": {
      "text/html": [
       "<div>\n",
       "<style scoped>\n",
       "    .dataframe tbody tr th:only-of-type {\n",
       "        vertical-align: middle;\n",
       "    }\n",
       "\n",
       "    .dataframe tbody tr th {\n",
       "        vertical-align: top;\n",
       "    }\n",
       "\n",
       "    .dataframe thead th {\n",
       "        text-align: right;\n",
       "    }\n",
       "</style>\n",
       "<table border=\"1\" class=\"dataframe\">\n",
       "  <thead>\n",
       "    <tr style=\"text-align: right;\">\n",
       "      <th></th>\n",
       "      <th>order_id</th>\n",
       "      <th>user_id</th>\n",
       "      <th>order_number</th>\n",
       "      <th>orders_day_of_week</th>\n",
       "      <th>order_hour_timestamp</th>\n",
       "      <th>days_since_prior_order</th>\n",
       "      <th>product_id</th>\n",
       "      <th>add_to_cart_order</th>\n",
       "      <th>reordered</th>\n",
       "      <th>product_name</th>\n",
       "      <th>aisle_id</th>\n",
       "      <th>department_id</th>\n",
       "      <th>prices</th>\n",
       "      <th>price_range</th>\n",
       "      <th>Busiest_day</th>\n",
       "      <th>Busiest_days2</th>\n",
       "      <th>busiest_period_of_day</th>\n",
       "      <th>max_order</th>\n",
       "      <th>loyalty_flag</th>\n",
       "      <th>types_of_spenders</th>\n",
       "      <th>customer_frecuency</th>\n",
       "      <th>First Name</th>\n",
       "      <th>Last_Name</th>\n",
       "      <th>Gender</th>\n",
       "      <th>STATE</th>\n",
       "      <th>Age</th>\n",
       "      <th>date_joined</th>\n",
       "      <th>n_dependants</th>\n",
       "      <th>Marital_Status</th>\n",
       "      <th>income</th>\n",
       "      <th>Region</th>\n",
       "    </tr>\n",
       "  </thead>\n",
       "  <tbody>\n",
       "    <tr>\n",
       "      <th>0</th>\n",
       "      <td>2539329</td>\n",
       "      <td>1.0</td>\n",
       "      <td>1</td>\n",
       "      <td>2</td>\n",
       "      <td>8</td>\n",
       "      <td>0.0</td>\n",
       "      <td>196</td>\n",
       "      <td>1</td>\n",
       "      <td>0</td>\n",
       "      <td>Soda</td>\n",
       "      <td>77</td>\n",
       "      <td>7</td>\n",
       "      <td>9.0</td>\n",
       "      <td>Mid-range product</td>\n",
       "      <td>Regularly busy</td>\n",
       "      <td>Regularly busy</td>\n",
       "      <td>Average orders</td>\n",
       "      <td>10</td>\n",
       "      <td>New customer</td>\n",
       "      <td>Low spender</td>\n",
       "      <td>Frequent customer</td>\n",
       "      <td>Linda</td>\n",
       "      <td>Nguyen</td>\n",
       "      <td>Female</td>\n",
       "      <td>Alabama</td>\n",
       "      <td>31</td>\n",
       "      <td>2/17/2019</td>\n",
       "      <td>3</td>\n",
       "      <td>married</td>\n",
       "      <td>40423</td>\n",
       "      <td>South</td>\n",
       "    </tr>\n",
       "  </tbody>\n",
       "</table>\n",
       "</div>"
      ],
      "text/plain": [
       "   order_id  user_id  order_number  orders_day_of_week  order_hour_timestamp  \\\n",
       "0   2539329      1.0             1                   2                     8   \n",
       "\n",
       "   days_since_prior_order  product_id  add_to_cart_order  reordered  \\\n",
       "0                     0.0         196                  1          0   \n",
       "\n",
       "  product_name  aisle_id  department_id  prices        price_range  \\\n",
       "0         Soda        77              7     9.0  Mid-range product   \n",
       "\n",
       "      Busiest_day   Busiest_days2 busiest_period_of_day  max_order  \\\n",
       "0  Regularly busy  Regularly busy        Average orders         10   \n",
       "\n",
       "   loyalty_flag types_of_spenders customer_frecuency First Name Last_Name  \\\n",
       "0  New customer       Low spender  Frequent customer      Linda    Nguyen   \n",
       "\n",
       "   Gender    STATE  Age date_joined  n_dependants Marital_Status  income  \\\n",
       "0  Female  Alabama   31   2/17/2019             3        married   40423   \n",
       "\n",
       "  Region  \n",
       "0  South  "
      ]
     },
     "execution_count": 101,
     "metadata": {},
     "output_type": "execute_result"
    }
   ],
   "source": [
    "df_orders_products_combined_cleaned.head(1)"
   ]
  },
  {
   "cell_type": "markdown",
   "id": "804f007e",
   "metadata": {},
   "source": [
    "# Frequency"
   ]
  },
  {
   "cell_type": "code",
   "execution_count": 92,
   "id": "a90146e6",
   "metadata": {},
   "outputs": [
    {
     "data": {
      "text/html": [
       "<div>\n",
       "<style scoped>\n",
       "    .dataframe tbody tr th:only-of-type {\n",
       "        vertical-align: middle;\n",
       "    }\n",
       "\n",
       "    .dataframe tbody tr th {\n",
       "        vertical-align: top;\n",
       "    }\n",
       "\n",
       "    .dataframe thead tr th {\n",
       "        text-align: left;\n",
       "    }\n",
       "\n",
       "    .dataframe thead tr:last-of-type th {\n",
       "        text-align: right;\n",
       "    }\n",
       "</style>\n",
       "<table border=\"1\" class=\"dataframe\">\n",
       "  <thead>\n",
       "    <tr>\n",
       "      <th></th>\n",
       "      <th colspan=\"3\" halign=\"left\">days_since_prior_order</th>\n",
       "    </tr>\n",
       "    <tr>\n",
       "      <th></th>\n",
       "      <th>mean</th>\n",
       "      <th>min</th>\n",
       "      <th>max</th>\n",
       "    </tr>\n",
       "    <tr>\n",
       "      <th>user_id</th>\n",
       "      <th></th>\n",
       "      <th></th>\n",
       "      <th></th>\n",
       "    </tr>\n",
       "  </thead>\n",
       "  <tbody>\n",
       "    <tr>\n",
       "      <th>1.0</th>\n",
       "      <td>18.542373</td>\n",
       "      <td>0.0</td>\n",
       "      <td>30.0</td>\n",
       "    </tr>\n",
       "    <tr>\n",
       "      <th>2.0</th>\n",
       "      <td>14.902564</td>\n",
       "      <td>0.0</td>\n",
       "      <td>30.0</td>\n",
       "    </tr>\n",
       "    <tr>\n",
       "      <th>3.0</th>\n",
       "      <td>10.181818</td>\n",
       "      <td>0.0</td>\n",
       "      <td>21.0</td>\n",
       "    </tr>\n",
       "    <tr>\n",
       "      <th>4.0</th>\n",
       "      <td>11.944444</td>\n",
       "      <td>0.0</td>\n",
       "      <td>21.0</td>\n",
       "    </tr>\n",
       "    <tr>\n",
       "      <th>7.0</th>\n",
       "      <td>12.757282</td>\n",
       "      <td>0.0</td>\n",
       "      <td>30.0</td>\n",
       "    </tr>\n",
       "    <tr>\n",
       "      <th>...</th>\n",
       "      <td>...</td>\n",
       "      <td>...</td>\n",
       "      <td>...</td>\n",
       "    </tr>\n",
       "    <tr>\n",
       "      <th>206203.0</th>\n",
       "      <td>23.722689</td>\n",
       "      <td>0.0</td>\n",
       "      <td>30.0</td>\n",
       "    </tr>\n",
       "    <tr>\n",
       "      <th>206206.0</th>\n",
       "      <td>3.985965</td>\n",
       "      <td>0.0</td>\n",
       "      <td>15.0</td>\n",
       "    </tr>\n",
       "    <tr>\n",
       "      <th>206207.0</th>\n",
       "      <td>13.278027</td>\n",
       "      <td>0.0</td>\n",
       "      <td>30.0</td>\n",
       "    </tr>\n",
       "    <tr>\n",
       "      <th>206208.0</th>\n",
       "      <td>7.310192</td>\n",
       "      <td>0.0</td>\n",
       "      <td>20.0</td>\n",
       "    </tr>\n",
       "    <tr>\n",
       "      <th>206209.0</th>\n",
       "      <td>18.232558</td>\n",
       "      <td>0.0</td>\n",
       "      <td>30.0</td>\n",
       "    </tr>\n",
       "  </tbody>\n",
       "</table>\n",
       "<p>162631 rows × 3 columns</p>\n",
       "</div>"
      ],
      "text/plain": [
       "         days_since_prior_order           \n",
       "                           mean  min   max\n",
       "user_id                                   \n",
       "1.0                   18.542373  0.0  30.0\n",
       "2.0                   14.902564  0.0  30.0\n",
       "3.0                   10.181818  0.0  21.0\n",
       "4.0                   11.944444  0.0  21.0\n",
       "7.0                   12.757282  0.0  30.0\n",
       "...                         ...  ...   ...\n",
       "206203.0              23.722689  0.0  30.0\n",
       "206206.0               3.985965  0.0  15.0\n",
       "206207.0              13.278027  0.0  30.0\n",
       "206208.0               7.310192  0.0  20.0\n",
       "206209.0              18.232558  0.0  30.0\n",
       "\n",
       "[162631 rows x 3 columns]"
      ]
     },
     "execution_count": 92,
     "metadata": {},
     "output_type": "execute_result"
    }
   ],
   "source": [
    "# Users by frequency\n",
    "df_orders_products_combined_cleaned.groupby('user_id').agg({'days_since_prior_order': ['mean', 'min', 'max']})"
   ]
  },
  {
   "cell_type": "markdown",
   "id": "cfff5367",
   "metadata": {},
   "source": [
    "# 08 Compare your customer profiles with regions and departments. Can you identify a link between them? Customers may demonstrate different behaviors across regions, which could make this information important.\n"
   ]
  },
  {
   "cell_type": "markdown",
   "id": "20d4a87a",
   "metadata": {},
   "source": [
    "Already performed in points 3 to 6 and shown in the excel file. "
   ]
  },
  {
   "cell_type": "markdown",
   "id": "7c5dafa6",
   "metadata": {},
   "source": [
    "# 09 Produce suitable charts to illustrate your results and export them in your project folder."
   ]
  },
  {
   "cell_type": "markdown",
   "id": "461299a9",
   "metadata": {},
   "source": [
    "Already performed in points 3 to 6 and shown in the excel file. "
   ]
  },
  {
   "cell_type": "markdown",
   "id": "d0ac3946",
   "metadata": {},
   "source": [
    "# 10 Tidy up your script, export your final data set, and save your notebook.\n"
   ]
  },
  {
   "cell_type": "code",
   "execution_count": 94,
   "id": "eac1c046",
   "metadata": {},
   "outputs": [],
   "source": [
    "# EXPORTING DATA\n",
    "df_orders_products_combined_cleaned.to_pickle(os.path.join(path, '02- Data','Prepared Data', 'df_orders_products_combined_cleaned_U10.pkl'))"
   ]
  },
  {
   "cell_type": "code",
   "execution_count": null,
   "id": "2d58320a",
   "metadata": {},
   "outputs": [],
   "source": []
  }
 ],
 "metadata": {
  "kernelspec": {
   "display_name": "Python 3",
   "language": "python",
   "name": "python3"
  },
  "language_info": {
   "codemirror_mode": {
    "name": "ipython",
    "version": 3
   },
   "file_extension": ".py",
   "mimetype": "text/x-python",
   "name": "python",
   "nbconvert_exporter": "python",
   "pygments_lexer": "ipython3",
   "version": "3.8.8"
  }
 },
 "nbformat": 4,
 "nbformat_minor": 5
}
